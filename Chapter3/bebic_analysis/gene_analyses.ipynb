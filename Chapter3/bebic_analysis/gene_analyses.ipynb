{
 "cells": [
  {
   "cell_type": "markdown",
   "metadata": {},
   "source": [
    "# Finding relevant genes and locations"
   ]
  },
  {
   "cell_type": "code",
   "execution_count": 1,
   "metadata": {
    "vscode": {
     "languageId": "r"
    }
   },
   "outputs": [
    {
     "name": "stderr",
     "output_type": "stream",
     "text": [
      "\n",
      "Attaching package: ‘dplyr’\n",
      "\n",
      "\n",
      "The following objects are masked from ‘package:data.table’:\n",
      "\n",
      "    between, first, last\n",
      "\n",
      "\n",
      "The following objects are masked from ‘package:stats’:\n",
      "\n",
      "    filter, lag\n",
      "\n",
      "\n",
      "The following objects are masked from ‘package:base’:\n",
      "\n",
      "    intersect, setdiff, setequal, union\n",
      "\n",
      "\n",
      "Loading required package: BiocGenerics\n",
      "\n",
      "\n",
      "Attaching package: ‘BiocGenerics’\n",
      "\n",
      "\n",
      "The following objects are masked from ‘package:dplyr’:\n",
      "\n",
      "    combine, intersect, setdiff, union\n",
      "\n",
      "\n",
      "The following objects are masked from ‘package:stats’:\n",
      "\n",
      "    IQR, mad, sd, var, xtabs\n",
      "\n",
      "\n",
      "The following objects are masked from ‘package:base’:\n",
      "\n",
      "    anyDuplicated, aperm, append, as.data.frame, basename, cbind,\n",
      "    colnames, dirname, do.call, duplicated, eval, evalq, Filter, Find,\n",
      "    get, grep, grepl, intersect, is.unsorted, lapply, Map, mapply,\n",
      "    match, mget, order, paste, pmax, pmax.int, pmin, pmin.int,\n",
      "    Position, rank, rbind, Reduce, rownames, sapply, saveRDS, setdiff,\n",
      "    table, tapply, union, unique, unsplit, which.max, which.min\n",
      "\n",
      "\n",
      "Loading required package: BiocFileCache\n",
      "\n",
      "Loading required package: dbplyr\n",
      "\n",
      "\n",
      "Attaching package: ‘dbplyr’\n",
      "\n",
      "\n",
      "The following objects are masked from ‘package:dplyr’:\n",
      "\n",
      "    ident, sql\n",
      "\n",
      "\n",
      "Loading required package: stats4\n",
      "\n",
      "Loading required package: S4Vectors\n",
      "\n",
      "\n",
      "Attaching package: ‘S4Vectors’\n",
      "\n",
      "\n",
      "The following objects are masked from ‘package:dplyr’:\n",
      "\n",
      "    first, rename\n",
      "\n",
      "\n",
      "The following objects are masked from ‘package:data.table’:\n",
      "\n",
      "    first, second\n",
      "\n",
      "\n",
      "The following object is masked from ‘package:utils’:\n",
      "\n",
      "    findMatches\n",
      "\n",
      "\n",
      "The following objects are masked from ‘package:base’:\n",
      "\n",
      "    expand.grid, I, unname\n",
      "\n",
      "\n",
      "Loading required package: IRanges\n",
      "\n",
      "\n",
      "Attaching package: ‘IRanges’\n",
      "\n",
      "\n",
      "The following objects are masked from ‘package:dplyr’:\n",
      "\n",
      "    collapse, desc, slice\n",
      "\n",
      "\n",
      "The following object is masked from ‘package:data.table’:\n",
      "\n",
      "    shift\n",
      "\n",
      "\n",
      "Loading required package: GenomeInfoDb\n",
      "\n",
      "Loading required package: AnnotationDbi\n",
      "\n",
      "Loading required package: Biobase\n",
      "\n",
      "Welcome to Bioconductor\n",
      "\n",
      "    Vignettes contain introductory material; view with\n",
      "    'browseVignettes()'. To cite Bioconductor, see\n",
      "    'citation(\"Biobase\")', and for packages 'citation(\"pkgname\")'.\n",
      "\n",
      "\n",
      "\n",
      "Attaching package: ‘Biobase’\n",
      "\n",
      "\n",
      "The following object is masked from ‘package:AnnotationHub’:\n",
      "\n",
      "    cache\n",
      "\n",
      "\n",
      "\n",
      "Attaching package: ‘AnnotationDbi’\n",
      "\n",
      "\n",
      "The following object is masked from ‘package:dplyr’:\n",
      "\n",
      "    select\n",
      "\n",
      "\n",
      "Loading required package: regioneR\n",
      "\n",
      "\n",
      "\n",
      "\n",
      "Attaching package: 'limma'\n",
      "\n",
      "\n",
      "The following object is masked from 'package:BiocGenerics':\n",
      "\n",
      "    plotMA\n",
      "\n",
      "\n",
      "Loading required package: BiasedUrn\n",
      "\n",
      "Loading required package: geneLenDataBase\n",
      "\n",
      "\n",
      "Attaching package: 'geneLenDataBase'\n",
      "\n",
      "\n",
      "The following object is masked from 'package:S4Vectors':\n",
      "\n",
      "    unfactor\n",
      "\n",
      "\n",
      "\n",
      "\n",
      "\n",
      "Attaching package: 'magrittr'\n",
      "\n",
      "\n",
      "The following object is masked from 'package:GenomicRanges':\n",
      "\n",
      "    subtract\n",
      "\n",
      "\n",
      "Loading required package: grid\n",
      "\n"
     ]
    }
   ],
   "source": [
    "library(\"data.table\")\n",
    "library(\"dplyr\")\n",
    "library(\"AnnotationHub\")\n",
    "library(\"GenomicRanges\")\n",
    "library(\"GenomicFeatures\")\n",
    "library(\"stringr\")\n",
    "library(\"karyoploteR\", \"BSgenome\")\n",
    "library(org.Hs.eg.db)\n",
    "library(limma)\n",
    "library(\"goseq\")\n",
    "library(magrittr)\n",
    "library(trackViewer)\n",
    "library(ggplot2)"
   ]
  },
  {
   "cell_type": "code",
   "execution_count": 2,
   "metadata": {
    "vscode": {
     "languageId": "r"
    }
   },
   "outputs": [],
   "source": [
    "# VARIABLES\n",
    "\n",
    "chr_names <- c(\n",
    "    \"chr1\", \"chr2\", \"chr3\", \"chr4\", \"chr5\",\n",
    "    \"chr6\", \"chr7\", \"chr8\", \"chr9\", \"chr10\",\n",
    "    \"chr11\", \"chr12\", \"chr13\", \"chr14\", \"chr15\",\n",
    "    \"chr16\", \"chr17\", \"chr18\", \"chr19\", \"chr20\",\n",
    "    \"chr21\", \"chr22\", \"chrX\", \"chrY\", \"chrM\"\n",
    ")\n",
    "\n",
    "# FUNCTIONS\n",
    "\n",
    "printf <- function(text) {\n",
    "    print(text)\n",
    "    flush.console()\n",
    "}\n",
    "\n",
    "get_up_DMPs <- function(DMP_data, data_source) {\n",
    "    # Get up methylated in BCG \n",
    "    if (data_source == 'modkit') {\n",
    "        data <- DMP_data[balanced_effect_size < 0]\n",
    "    } else {\n",
    "        data <- DMP_data[balanced_effect_size > 0]\n",
    "    }\n",
    "    return(data)\n",
    "}\n",
    "\n",
    "\n",
    "get_down_DMPs <- function(DMP_data, data_source) {\n",
    "    # Get down methylated in BCG \n",
    "    if (data_source == 'modkit') {\n",
    "        data <- DMP_data[balanced_effect_size > 0]\n",
    "    } else {\n",
    "        data <- DMP_data[balanced_effect_size < 0]\n",
    "    }\n",
    "    return(data)\n",
    "}\n",
    "\n",
    "order_my_chroms <- function(my_chrom_list) {\n",
    "    chromosome_order <- c(paste0(\"chr\", 1:22), \"chrX\", \"chrY\", \"chrM\")\n",
    "    ordered_chromosomes <- factor(my_chrom_list, levels = chromosome_order)\n",
    "    ordered_chromosomes <- sort(ordered_chromosomes)\n",
    "    ordered_chromosomes <- as.character(ordered_chromosomes)\n",
    "    return(ordered_chromosomes)\n",
    "}\n",
    "\n",
    "get_gene_list <- function(name_of_test, modCtype) {\n",
    "    path2_output = paste0(\"/home/dejlu879/20250408-BEBIC_B_5hmC_dmr/pipeline_\", name_of_test, \"/output_data/\", modCtype, \"/\")\n",
    "    rdata_fn = paste0(path2_output, 'karyoplotting_vars.', name_of_test, '.Rdata')\n",
    "    load(file = rdata_fn)\n",
    "\n",
    "    gene_list = my_topgenes_gr$gene_id\n",
    "    \n",
    "    return(gene_list)\n",
    "}"
   ]
  },
  {
   "cell_type": "code",
   "execution_count": 13,
   "metadata": {
    "vscode": {
     "languageId": "r"
    }
   },
   "outputs": [],
   "source": [
    "# Function to standardize metadata columns across GRanges\n",
    "standardize_metadata <- function(gr, all_colnames) {\n",
    "  # Fill in any missing metadata columns with NA\n",
    "  missing_cols <- setdiff(all_colnames, colnames(mcols(gr)))\n",
    "  for (col in missing_cols) {\n",
    "    mcols(gr)[[col]] <- NA\n",
    "  }\n",
    "  # Reorder columns to match\n",
    "  mcols(gr) <- mcols(gr)[, all_colnames]\n",
    "  return(gr)\n",
    "}\n",
    "\n",
    "# function to get one gr for a test\n",
    "collate_dmps_per_gene_for_one_test <- function(rdata_fn, test_desc) {\n",
    "  gene_list = my_topgenes_gr$gene_id\n",
    "\n",
    "  # Get all GRanges into a named list\n",
    "  gr_list <- list(\n",
    "    modkit_upDMP = modkit_upDMP_gr,\n",
    "    modkit_downDMP = modkit_downDMP_gr,\n",
    "    minfi_upDMP = minfi_upDMP_gr,\n",
    "    minfi_downDMP = minfi_downDMP_gr\n",
    "  )\n",
    "\n",
    "  # Get the list of all metadata column names across GRanges, plus the 'source' column we will add\n",
    "  all_metadata_cols <- unique(unlist(lapply(gr_list, function(gr) colnames(mcols(gr)))))\n",
    "  all_metadata_cols <- unique(c(all_metadata_cols, \"source\"))\n",
    "\n",
    "  # For each GRanges, subset by gene_id and add source\n",
    "  subsetted_list <- lapply(names(gr_list), function(gr_name) {\n",
    "    gr <- gr_list[[gr_name]]\n",
    "    matched <- gr[mcols(gr)$gene_id %in% gene_list]\n",
    "    if (length(matched) > 0) {\n",
    "      mcols(matched)$source <- gr_name\n",
    "      matched <- standardize_metadata(matched, all_metadata_cols)\n",
    "      return(matched)\n",
    "    } else {\n",
    "      return(NULL)\n",
    "    }\n",
    "  })\n",
    "\n",
    "  # Remove NULL entries (genes not found)\n",
    "  subsetted_list <- Filter(Negate(is.null), subsetted_list)\n",
    "\n",
    "  # Now safely combine into a single GRanges\n",
    "  final_gr <- do.call(c, subsetted_list)\n",
    "  final_gr$TestParameters <- test_desc\n",
    "\n",
    "  return(final_gr)\n",
    "}\n",
    "\n",
    "# function to get one gr for a DMR test\n",
    "collate_DMRs_per_gene <- function(dt_path) {\n",
    "    \n",
    "    dt = read.csv(dt_path)\n",
    "\n",
    "    gene_list = dt$gene_id\n",
    "\n",
    "    # get granges object ready for plotting top scoring DMPs\n",
    "    gr = makeGRangesFromDataFrame(dt, keep.extra.columns = TRUE)\n",
    "    \n",
    "    # Remove NULL entries (genes not found)\n",
    "    gr <- gr[!is.na(mcols(gr)$gene_id)]\n",
    "\n",
    "\n",
    "    return(gr)\n",
    "}"
   ]
  },
  {
   "cell_type": "code",
   "execution_count": 14,
   "metadata": {
    "vscode": {
     "languageId": "r"
    }
   },
   "outputs": [],
   "source": [
    "add_names_to_dmr <- function(gr) {\n",
    "    seqs <- as.character(seqnames(gr))\n",
    "    counts <- ave(seq_along(seqs), seqs, FUN = seq_along)\n",
    "    gr$name <- paste0(gsub(\"chr\", \"\", seqs), \".\", counts)\n",
    "    \n",
    "    return(gr)\n",
    "}"
   ]
  },
  {
   "cell_type": "code",
   "execution_count": null,
   "metadata": {
    "vscode": {
     "languageId": "r"
    }
   },
   "outputs": [
    {
     "name": "stdout",
     "output_type": "stream",
     "text": [
      "[1] \" \"\n",
      "[1] \"--------\"\n",
      "[1] \"test13_mc: SW780 CpG 5mC\"\n"
     ]
    },
    {
     "name": "stderr",
     "output_type": "stream",
     "text": [
      "Warning message in .merge_two_Seqinfo_objects(x, y):\n",
      "\"Each of the 2 combined objects has sequence levels not in the other:\n",
      "  - in 'x': chr1, chr2, chr5\n",
      "  - in 'y': chr16\n",
      "  Make sure to always combine/compare objects based on the same reference\n",
      "  genome (use suppressWarnings() to suppress this warning).\"\n",
      "Warning message in .merge_two_Seqinfo_objects(x, y):\n",
      "\"Each of the 2 combined objects has sequence levels not in the other:\n",
      "  - in 'x': chr2, chr5, chr16\n",
      "  - in 'y': chr11, chr14, chr22\n",
      "  Make sure to always combine/compare objects based on the same reference\n",
      "  genome (use suppressWarnings() to suppress this warning).\"\n",
      "Warning message in .merge_two_Seqinfo_objects(x, y):\n",
      "\"Each of the 2 combined objects has sequence levels not in the other:\n",
      "  - in 'x': chr1, chr2, chr5, chr16, chr11\n",
      "  - in 'y': chr6, chr15, chr21\n",
      "  Make sure to always combine/compare objects based on the same reference\n",
      "  genome (use suppressWarnings() to suppress this warning).\"\n"
     ]
    },
    {
     "name": "stdout",
     "output_type": "stream",
     "text": [
      "[1] \" \"\n",
      "[1] \"--------\"\n",
      "[1] \"test13_hmc: SW780 CpG 5hmC\"\n"
     ]
    },
    {
     "name": "stderr",
     "output_type": "stream",
     "text": [
      "Warning message in .merge_two_Seqinfo_objects(x, y):\n",
      "\"Each of the 2 combined objects has sequence levels not in the other:\n",
      "  - in 'x': chr3, chr13, chr15, chr16\n",
      "  - in 'y': chr4\n",
      "  Make sure to always combine/compare objects based on the same reference\n",
      "  genome (use suppressWarnings() to suppress this warning).\"\n"
     ]
    },
    {
     "name": "stdout",
     "output_type": "stream",
     "text": [
      "[1] \" \"\n",
      "[1] \"--------\"\n",
      "[1] \"test14_mc: RT4 CpG 5mC\"\n"
     ]
    },
    {
     "name": "stderr",
     "output_type": "stream",
     "text": [
      "Warning message in .merge_two_Seqinfo_objects(x, y):\n",
      "\"Each of the 2 combined objects has sequence levels not in the other:\n",
      "  - in 'x': chr15, chr18, chr21, chr22, chrX\n",
      "  - in 'y': chr7, chr9, chr16, chr17\n",
      "  Make sure to always combine/compare objects based on the same reference\n",
      "  genome (use suppressWarnings() to suppress this warning).\"\n",
      "Warning message in .merge_two_Seqinfo_objects(x, y):\n",
      "\"Each of the 2 combined objects has sequence levels not in the other:\n",
      "  - in 'x': chr3, chr8, chr15, chr18, chr21, chrX, chr7, chr9, chr16, chr17\n",
      "  - in 'y': chr5, chr14\n",
      "  Make sure to always combine/compare objects based on the same reference\n",
      "  genome (use suppressWarnings() to suppress this warning).\"\n",
      "Warning message in .merge_two_Seqinfo_objects(x, y):\n",
      "\"Each of the 2 combined objects has sequence levels not in the other:\n",
      "  - in 'x': chr3, chr8, chr18, chr21, chr22, chrX, chr7, chr9, chr17, chr5\n",
      "  - in 'y': chr2\n",
      "  Make sure to always combine/compare objects based on the same reference\n",
      "  genome (use suppressWarnings() to suppress this warning).\"\n"
     ]
    },
    {
     "name": "stdout",
     "output_type": "stream",
     "text": [
      "[1] \" \"\n",
      "[1] \"--------\"\n",
      "[1] \"test14_hmc: RT4 CpG 5hmC\"\n"
     ]
    },
    {
     "name": "stderr",
     "output_type": "stream",
     "text": [
      "Warning message in .merge_two_Seqinfo_objects(x, y):\n",
      "\"Each of the 2 combined objects has sequence levels not in the other:\n",
      "  - in 'x': chr3, chr8, chr15, chr17, chr19\n",
      "  - in 'y': chr21\n",
      "  Make sure to always combine/compare objects based on the same reference\n",
      "  genome (use suppressWarnings() to suppress this warning).\"\n",
      "Warning message in .merge_two_Seqinfo_objects(x, y):\n",
      "\"Each of the 2 combined objects has sequence levels not in the other:\n",
      "  - in 'x': chr8, chr17, chr19, chr21\n",
      "  - in 'y': chr1, chr4, chr5\n",
      "  Make sure to always combine/compare objects based on the same reference\n",
      "  genome (use suppressWarnings() to suppress this warning).\"\n",
      "Warning message in .merge_two_Seqinfo_objects(x, y):\n",
      "\"Each of the 2 combined objects has sequence levels not in the other:\n",
      "  - in 'x': chr3, chr8, chr14, chr15, chr19, chr4, chr5\n",
      "  - in 'y': chr16\n",
      "  Make sure to always combine/compare objects based on the same reference\n",
      "  genome (use suppressWarnings() to suppress this warning).\"\n"
     ]
    },
    {
     "name": "stdout",
     "output_type": "stream",
     "text": [
      "[1] \" \"\n",
      "[1] \"--------\"\n",
      "[1] \"test15_mc: SW780 C excl. CpG 5mC\"\n",
      "[1] \"no data for this test\"\n",
      "[1] \" \"\n",
      "[1] \"--------\"\n",
      "[1] \"test15_hmc: SW780 C excl. CpG 5hmC\"\n",
      "[1] \"no data for this test\"\n",
      "[1] \" \"\n",
      "[1] \"--------\"\n",
      "[1] \"test16_mc: RT4 C excl. CpG 5mC\"\n"
     ]
    },
    {
     "name": "stderr",
     "output_type": "stream",
     "text": [
      "Warning message in .merge_two_Seqinfo_objects(x, y):\n",
      "\"Each of the 2 combined objects has sequence levels not in the other:\n",
      "  - in 'x': chr15, chr18, chr21, chr22, chrX\n",
      "  - in 'y': chr7, chr9, chr16, chr17\n",
      "  Make sure to always combine/compare objects based on the same reference\n",
      "  genome (use suppressWarnings() to suppress this warning).\"\n",
      "Warning message in .merge_two_Seqinfo_objects(x, y):\n",
      "\"The 2 combined objects have no sequence levels in common. (Use\n",
      "  suppressWarnings() to suppress this warning.)\"\n"
     ]
    },
    {
     "name": "stdout",
     "output_type": "stream",
     "text": [
      "[1] \" \"\n",
      "[1] \"--------\"\n",
      "[1] \"test16_hmc: RT4 C excl. CpG 5hmC\"\n"
     ]
    },
    {
     "name": "stderr",
     "output_type": "stream",
     "text": [
      "Warning message in .merge_two_Seqinfo_objects(x, y):\n",
      "\"Each of the 2 combined objects has sequence levels not in the other:\n",
      "  - in 'x': chr15, chr18, chr21, chr22, chrX\n",
      "  - in 'y': chr7, chr9, chr16, chr17\n",
      "  Make sure to always combine/compare objects based on the same reference\n",
      "  genome (use suppressWarnings() to suppress this warning).\"\n"
     ]
    },
    {
     "name": "stdout",
     "output_type": "stream",
     "text": [
      "[1] \" \"\n",
      "[1] \"--------\"\n",
      "[1] \"test4: SW780 AGG 6mA\"\n",
      "[1] \" \"\n",
      "[1] \"--------\"\n",
      "[1] \"test7: RT4 AGG 6mA\"\n",
      "[1] \" \"\n",
      "[1] \"--------\"\n",
      "[1] \"test11: SW780 A excl. AGG 6mA\"\n"
     ]
    },
    {
     "name": "stderr",
     "output_type": "stream",
     "text": [
      "Warning message in .merge_two_Seqinfo_objects(x, y):\n",
      "\"Each of the 2 combined objects has sequence levels not in the other:\n",
      "  - in 'x': chr17\n",
      "  - in 'y': chr8, chr9, chr20, chr21\n",
      "  Make sure to always combine/compare objects based on the same reference\n",
      "  genome (use suppressWarnings() to suppress this warning).\"\n",
      "Warning message in .merge_two_Seqinfo_objects(x, y):\n",
      "\"The 2 combined objects have no sequence levels in common. (Use\n",
      "  suppressWarnings() to suppress this warning.)\"\n"
     ]
    },
    {
     "name": "stdout",
     "output_type": "stream",
     "text": [
      "[1] \" \"\n",
      "[1] \"--------\"\n",
      "[1] \"test12: RT4 A excl. AGG 6mA\"\n",
      "[1] \" \"\n",
      "[1] \"--------\"\n",
      "[1] \"SW780_5mC_dt: SW780 CpG 5mC DMRs\"\n",
      "[1] \" \"\n",
      "[1] \"--------\"\n",
      "[1] \"RT4_5mC_dt: RT4 CpG 5mC DMRs\"\n",
      "[1] \" \"\n",
      "[1] \"--------\"\n",
      "[1] \"SW780_5hmC_dt: SW780 CpG 5hmC DMRs\"\n",
      "[1] \"no data for this test\"\n",
      "[1] \" \"\n",
      "[1] \"--------\"\n",
      "[1] \"RT4_5hmC_dt: RT4 CpG 5hmC DMRs\"\n",
      "[1] \"no data for this test\"\n",
      "[1] 75\n",
      "[1] 59\n"
     ]
    }
   ],
   "source": [
    "# Do the above on each test\n",
    "tests_info = c(\n",
    "    \"test13_mc\" = \"SW780 CpG 5mC\",\n",
    "    \"test13_hmc\" = \"SW780 CpG 5hmC\",\n",
    "    \"test14_mc\" = \"RT4 CpG 5mC\",\n",
    "    \"test14_hmc\" = \"RT4 CpG 5hmC\",\n",
    "    \"test15_mc\" = \"SW780 C excl. CpG 5mC\",\n",
    "    \"test15_hmc\" = \"SW780 C excl. CpG 5hmC\",\n",
    "    \"test16_mc\" = \"RT4 C excl. CpG 5mC\",\n",
    "    \"test16_hmc\" = \"RT4 C excl. CpG 5hmC\",\n",
    "    \"test4\" = \"SW780 AGG 6mA\",\n",
    "    \"test7\" = \"RT4 AGG 6mA\",\n",
    "    \"test11\" = \"SW780 A excl. AGG 6mA\",\n",
    "    \"test12\" = \"RT4 A excl. AGG 6mA\",\n",
    "    \"SW780_5mC_dt\" = \"SW780 CpG 5mC DMRs\",\n",
    "    \"RT4_5mC_dt\" = \"RT4 CpG 5mC DMRs\",\n",
    "    \"SW780_5hmC_dt\" = \"SW780 CpG 5hmC DMRs\",\n",
    "    \"RT4_5hmC_dt\" = \"RT4 CpG 5hmC DMRs\"\n",
    ")\n",
    "\n",
    "tests_to_split = c(\"test13_mc\", \"test13_hmc\", \"test14_mc\", \"test14_hmc\", \"test15_mc\", \"test15_hmc\", \"test16_mc\", \"test16_hmc\")\n",
    "dmr_results = c(\"SW780_5mC_dt\", \"RT4_5mC_dt\", \"SW780_5mC5hmC_dt\", \"RT4_5mC5hmC_dt\")\n",
    "\n",
    "home_d <- \"/home/dejlu879/20240731-BEBIC_dmr/20240731-BEBIC_dmr\"\n",
    "home_d_split <- \"/home/dejlu879/20250408-BEBIC_B_5hmC_dmr\"\n",
    "\n",
    "all_genes = c()\n",
    "named_grs = c()\n",
    "\n",
    "for (name_of_test in names(tests_info)) {\n",
    "    print(\" \")\n",
    "    print(\"--------\")\n",
    "    print(paste0(name_of_test, \": \", tests_info[[name_of_test]]))\n",
    "    test_desc = tests_info[[name_of_test]]\n",
    "\n",
    "    if (name_of_test %in% tests_to_split) {\n",
    "        test_num <- strsplit(name_of_test, \"_\")[[1]][1]\n",
    "        modCtype <- strsplit(name_of_test, \"_\")[[1]][2]\n",
    "        path2_output <- paste0(home_d_split, \"/pipeline_\", test_num, \"/output_data/\", modCtype, \"/\")\n",
    "    } else if (name_of_test %in% dmr_results) {\n",
    "        path2dt = paste0(\"/home/dejlu879/20250429-BEBIC_DMP_DMR/dt_csvs_of_DMRs/\", name_of_test, \".csv\")\n",
    "        final_gr <- collate_DMRs_per_gene(path2dt)\n",
    "        final_gr$TestParameters = final_gr$test_description\n",
    "        final_gr$TestParameters <- gsub(\"BEBIC_B\", \"SW780 DMR\", final_gr$TestParameters)\n",
    "        final_gr$TestParameters <- gsub(\"BEBIC_C\", \"RT4 DMR\", final_gr$TestParameters)\n",
    "        final_gr = add_names_to_dmr(final_gr)\n",
    "        names(final_gr) <- final_gr$name\n",
    "        all_genes = c(all_genes, final_gr$gene_id)\n",
    "        named_grs <- c(named_grs, setNames(list(final_gr), name_of_test))\n",
    "        next\n",
    "    } else {\n",
    "        test_num <- name_of_test\n",
    "        modCtype <- NULL\n",
    "        path2_output <- paste0(home_d, \"/pipeline_\", test_num, \"/output_data/\")\n",
    "    }\n",
    "\n",
    "    rdata_fn = paste0(path2_output, \"karyoplotting_vars.\", test_num, \".Rdata\")\n",
    "    if (file.exists(rdata_fn)) {\n",
    "        load(file = rdata_fn)\n",
    "    } else {\n",
    "        print(\"no data for this test\")\n",
    "        next\n",
    "    }\n",
    "\n",
    "    final_gr <- collate_dmps_per_gene_for_one_test(rdata_fn, test_desc)\n",
    "    \n",
    "    all_genes = c(all_genes, my_topgenes_gr$gene_id)\n",
    "\n",
    "    named_grs <- c(named_grs, setNames(list(final_gr), name_of_test))\n",
    "    # break\n",
    "}\n",
    "\n",
    "print(length(all_genes))\n",
    "all_genes = unique(all_genes)\n",
    "print(length(all_genes))"
   ]
  },
  {
   "cell_type": "code",
   "execution_count": 48,
   "metadata": {
    "vscode": {
     "languageId": "r"
    }
   },
   "outputs": [
    {
     "data": {
      "text/html": [
       "<style>\n",
       ".list-inline {list-style: none; margin:0; padding: 0}\n",
       ".list-inline>li {display: inline-block}\n",
       ".list-inline>li:not(:last-child)::after {content: \"\\00b7\"; padding: 0 .5ex}\n",
       "</style>\n",
       "<ol class=list-inline><li>'IGLON5'</li><li>'IL5'</li><li>'LINC01837'</li><li>'LOC105373215'</li><li>'LOC105373456'</li><li>'LOC124902789'</li><li>'LOFF_G0010304'</li><li>'LOFF_G0010792'</li><li>'LSM14A'</li><li>'NOSIP'</li><li>'POTEM'</li><li>'SPEF2'</li><li>'SYCP2'</li><li>'ZNF114-AS1'</li><li>'ZNF235'</li><li>'ZNF283'</li><li>'ZNF329'</li><li>'CACNG6'</li><li>'DEDD2'</li><li>'FAT1'</li><li>'FNDC3B'</li><li>'KRTDAP'</li><li>'LINC01270'</li><li>'LOC105370291'</li><li>'LOC124904790'</li><li>'NALCN'</li><li>'PRKD2'</li><li>'SARS2'</li><li>'SLCO4A1'</li><li>'SNRPA1'</li><li>'TTLL9'</li><li>'ZNF444'</li><li>'ZNF813'</li><li>'FAM189A1'</li><li>'KATNAL2'</li><li>'LOFF_G0010312'</li><li>'MIR570HG'</li><li>'FAM66B'</li><li>'GOLGA2P10'</li><li>'LOC124904712'</li><li>'LOFF_G0010304'</li><li>'LOFF_G0010320'</li><li>'LOFF_G0010340'</li><li>'LOFF_G0010363'</li><li>'LOFF_G0010571'</li><li>'LOFF_G0010875'</li><li>'NBPF6'</li><li>'KATNAL2'</li><li>'LOFF_G0010300'</li><li>'MIR570HG'</li><li>'KATNAL2'</li><li>'MIR570HG'</li><li>'LOFF_G0010292'</li><li>'LOFF_G0010368'</li><li>'LOFF_G0010788'</li><li>'LOFF_G0010571'</li><li>'LOFF_G0010787'</li><li>'ESF1'</li><li>'GUSBP17'</li><li>'LOC124904768'</li><li>'LOC124905154'</li><li>'LOFF_G0010368'</li><li>'LOFF_G0010788'</li><li>'LRRC37A3'</li><li>'MAFIP'</li><li>'ZDHHC11'</li><li>'LOFF_G0010788'</li></ol>\n"
      ],
      "text/latex": [
       "\\begin{enumerate*}\n",
       "\\item 'IGLON5'\n",
       "\\item 'IL5'\n",
       "\\item 'LINC01837'\n",
       "\\item 'LOC105373215'\n",
       "\\item 'LOC105373456'\n",
       "\\item 'LOC124902789'\n",
       "\\item 'LOFF\\_G0010304'\n",
       "\\item 'LOFF\\_G0010792'\n",
       "\\item 'LSM14A'\n",
       "\\item 'NOSIP'\n",
       "\\item 'POTEM'\n",
       "\\item 'SPEF2'\n",
       "\\item 'SYCP2'\n",
       "\\item 'ZNF114-AS1'\n",
       "\\item 'ZNF235'\n",
       "\\item 'ZNF283'\n",
       "\\item 'ZNF329'\n",
       "\\item 'CACNG6'\n",
       "\\item 'DEDD2'\n",
       "\\item 'FAT1'\n",
       "\\item 'FNDC3B'\n",
       "\\item 'KRTDAP'\n",
       "\\item 'LINC01270'\n",
       "\\item 'LOC105370291'\n",
       "\\item 'LOC124904790'\n",
       "\\item 'NALCN'\n",
       "\\item 'PRKD2'\n",
       "\\item 'SARS2'\n",
       "\\item 'SLCO4A1'\n",
       "\\item 'SNRPA1'\n",
       "\\item 'TTLL9'\n",
       "\\item 'ZNF444'\n",
       "\\item 'ZNF813'\n",
       "\\item 'FAM189A1'\n",
       "\\item 'KATNAL2'\n",
       "\\item 'LOFF\\_G0010312'\n",
       "\\item 'MIR570HG'\n",
       "\\item 'FAM66B'\n",
       "\\item 'GOLGA2P10'\n",
       "\\item 'LOC124904712'\n",
       "\\item 'LOFF\\_G0010304'\n",
       "\\item 'LOFF\\_G0010320'\n",
       "\\item 'LOFF\\_G0010340'\n",
       "\\item 'LOFF\\_G0010363'\n",
       "\\item 'LOFF\\_G0010571'\n",
       "\\item 'LOFF\\_G0010875'\n",
       "\\item 'NBPF6'\n",
       "\\item 'KATNAL2'\n",
       "\\item 'LOFF\\_G0010300'\n",
       "\\item 'MIR570HG'\n",
       "\\item 'KATNAL2'\n",
       "\\item 'MIR570HG'\n",
       "\\item 'LOFF\\_G0010292'\n",
       "\\item 'LOFF\\_G0010368'\n",
       "\\item 'LOFF\\_G0010788'\n",
       "\\item 'LOFF\\_G0010571'\n",
       "\\item 'LOFF\\_G0010787'\n",
       "\\item 'ESF1'\n",
       "\\item 'GUSBP17'\n",
       "\\item 'LOC124904768'\n",
       "\\item 'LOC124905154'\n",
       "\\item 'LOFF\\_G0010368'\n",
       "\\item 'LOFF\\_G0010788'\n",
       "\\item 'LRRC37A3'\n",
       "\\item 'MAFIP'\n",
       "\\item 'ZDHHC11'\n",
       "\\item 'LOFF\\_G0010788'\n",
       "\\end{enumerate*}\n"
      ],
      "text/markdown": [
       "1. 'IGLON5'\n",
       "2. 'IL5'\n",
       "3. 'LINC01837'\n",
       "4. 'LOC105373215'\n",
       "5. 'LOC105373456'\n",
       "6. 'LOC124902789'\n",
       "7. 'LOFF_G0010304'\n",
       "8. 'LOFF_G0010792'\n",
       "9. 'LSM14A'\n",
       "10. 'NOSIP'\n",
       "11. 'POTEM'\n",
       "12. 'SPEF2'\n",
       "13. 'SYCP2'\n",
       "14. 'ZNF114-AS1'\n",
       "15. 'ZNF235'\n",
       "16. 'ZNF283'\n",
       "17. 'ZNF329'\n",
       "18. 'CACNG6'\n",
       "19. 'DEDD2'\n",
       "20. 'FAT1'\n",
       "21. 'FNDC3B'\n",
       "22. 'KRTDAP'\n",
       "23. 'LINC01270'\n",
       "24. 'LOC105370291'\n",
       "25. 'LOC124904790'\n",
       "26. 'NALCN'\n",
       "27. 'PRKD2'\n",
       "28. 'SARS2'\n",
       "29. 'SLCO4A1'\n",
       "30. 'SNRPA1'\n",
       "31. 'TTLL9'\n",
       "32. 'ZNF444'\n",
       "33. 'ZNF813'\n",
       "34. 'FAM189A1'\n",
       "35. 'KATNAL2'\n",
       "36. 'LOFF_G0010312'\n",
       "37. 'MIR570HG'\n",
       "38. 'FAM66B'\n",
       "39. 'GOLGA2P10'\n",
       "40. 'LOC124904712'\n",
       "41. 'LOFF_G0010304'\n",
       "42. 'LOFF_G0010320'\n",
       "43. 'LOFF_G0010340'\n",
       "44. 'LOFF_G0010363'\n",
       "45. 'LOFF_G0010571'\n",
       "46. 'LOFF_G0010875'\n",
       "47. 'NBPF6'\n",
       "48. 'KATNAL2'\n",
       "49. 'LOFF_G0010300'\n",
       "50. 'MIR570HG'\n",
       "51. 'KATNAL2'\n",
       "52. 'MIR570HG'\n",
       "53. 'LOFF_G0010292'\n",
       "54. 'LOFF_G0010368'\n",
       "55. 'LOFF_G0010788'\n",
       "56. 'LOFF_G0010571'\n",
       "57. 'LOFF_G0010787'\n",
       "58. 'ESF1'\n",
       "59. 'GUSBP17'\n",
       "60. 'LOC124904768'\n",
       "61. 'LOC124905154'\n",
       "62. 'LOFF_G0010368'\n",
       "63. 'LOFF_G0010788'\n",
       "64. 'LRRC37A3'\n",
       "65. 'MAFIP'\n",
       "66. 'ZDHHC11'\n",
       "67. 'LOFF_G0010788'\n",
       "\n",
       "\n"
      ],
      "text/plain": [
       " [1] \"IGLON5\"        \"IL5\"           \"LINC01837\"     \"LOC105373215\" \n",
       " [5] \"LOC105373456\"  \"LOC124902789\"  \"LOFF_G0010304\" \"LOFF_G0010792\"\n",
       " [9] \"LSM14A\"        \"NOSIP\"         \"POTEM\"         \"SPEF2\"        \n",
       "[13] \"SYCP2\"         \"ZNF114-AS1\"    \"ZNF235\"        \"ZNF283\"       \n",
       "[17] \"ZNF329\"        \"CACNG6\"        \"DEDD2\"         \"FAT1\"         \n",
       "[21] \"FNDC3B\"        \"KRTDAP\"        \"LINC01270\"     \"LOC105370291\" \n",
       "[25] \"LOC124904790\"  \"NALCN\"         \"PRKD2\"         \"SARS2\"        \n",
       "[29] \"SLCO4A1\"       \"SNRPA1\"        \"TTLL9\"         \"ZNF444\"       \n",
       "[33] \"ZNF813\"        \"FAM189A1\"      \"KATNAL2\"       \"LOFF_G0010312\"\n",
       "[37] \"MIR570HG\"      \"FAM66B\"        \"GOLGA2P10\"     \"LOC124904712\" \n",
       "[41] \"LOFF_G0010304\" \"LOFF_G0010320\" \"LOFF_G0010340\" \"LOFF_G0010363\"\n",
       "[45] \"LOFF_G0010571\" \"LOFF_G0010875\" \"NBPF6\"         \"KATNAL2\"      \n",
       "[49] \"LOFF_G0010300\" \"MIR570HG\"      \"KATNAL2\"       \"MIR570HG\"     \n",
       "[53] \"LOFF_G0010292\" \"LOFF_G0010368\" \"LOFF_G0010788\" \"LOFF_G0010571\"\n",
       "[57] \"LOFF_G0010787\" \"ESF1\"          \"GUSBP17\"       \"LOC124904768\" \n",
       "[61] \"LOC124905154\"  \"LOFF_G0010368\" \"LOFF_G0010788\" \"LRRC37A3\"     \n",
       "[65] \"MAFIP\"         \"ZDHHC11\"       \"LOFF_G0010788\""
      ]
     },
     "metadata": {},
     "output_type": "display_data"
    }
   ],
   "source": [
    "all_genes"
   ]
  },
  {
   "cell_type": "code",
   "execution_count": 17,
   "metadata": {
    "vscode": {
     "languageId": "r"
    }
   },
   "outputs": [
    {
     "name": "stdout",
     "output_type": "stream",
     "text": [
      "[1] 38\n",
      "[1] 59\n"
     ]
    }
   ],
   "source": [
    "count = 0\n",
    "all_genes = unique(all_genes)\n",
    "for (gene in all_genes) {\n",
    "    if (grepl(\"^LOFF\", gene)) {\n",
    "        next\n",
    "    }\n",
    "    if (grepl(\"^LOC\", gene)) {\n",
    "        next\n",
    "    }\n",
    "    # print(gene)\n",
    "    count = count + 1\n",
    "}\n",
    "print(count)\n",
    "print(length(all_genes))"
   ]
  },
  {
   "cell_type": "code",
   "execution_count": 4,
   "metadata": {
    "vscode": {
     "languageId": "r"
    }
   },
   "outputs": [],
   "source": [
    "\n",
    "get_main_transcript_with_regulatory_regions <- function(txdb, gene_name, upstream = 2000, downstream = 1000) {\n",
    "    # Set up columns to retrieve\n",
    "    columns_to_get <- c(\n",
    "        \"EXONCHROM\", \"EXONEND\", \"EXONID\", \"EXONNAME\",\n",
    "        \"EXONRANK\", \"EXONSTART\", \"EXONSTRAND\", \"GENEID\", \"TXID\"\n",
    "    )\n",
    "\n",
    "    # 1. Find all exons for the gene\n",
    "    gene_exons <- select(txdb, keys = gene_name, columns = columns_to_get, keytype = \"GENEID\")\n",
    "    # print(gene_exons)\n",
    "\n",
    "    # 2. Count exons per transcript\n",
    "    exon_counts <- table(gene_exons$TXID)\n",
    "\n",
    "    # 3. Find TXID with most exons\n",
    "    main_txid <- names(exon_counts)[which.max(exon_counts)]\n",
    "    # print(main_txid)\n",
    "\n",
    "    # 4. Pull exons by transcript\n",
    "    exons_by_tx <- exonsBy(txdb, by = \"tx\")\n",
    "\n",
    "    main_tx_exons <- exons_by_tx[[main_txid]]\n",
    "\n",
    "    # Add metadata\n",
    "    mcols(main_tx_exons)$TXID <- main_txid\n",
    "    mcols(main_tx_exons)$GENEID <- unique(gene_exons$GENEID)\n",
    "    mcols(main_tx_exons)$feature <- \"exon\"\n",
    "\n",
    "    # 5. Get regulatory (promoter) regions\n",
    "    # promoters_gr <- promoters(txdb, upstream = upstream, downstream = downstream, filter = c(\"tx_id\" = main_txid))\n",
    "    promoters_gr <- promoters(txdb, upstream = upstream, downstream = downstream, filter = c(\"tx_id\" = main_txid))\n",
    "    # Reduce overlapping promoter regions\n",
    "    promoters_gr <- reduce(promoters_gr)\n",
    "\n",
    "    # Add metadata to promoter regions\n",
    "    mcols(promoters_gr)$TXID <- main_txid\n",
    "    mcols(promoters_gr)$GENEID <- unique(gene_exons$GENEID)\n",
    "    mcols(promoters_gr)$feature <- \"regulatory\"\n",
    "\n",
    "    # Add metadata to promoter regions\n",
    "    mcols(promoters_gr)$TXID <- main_txid\n",
    "    mcols(promoters_gr)$GENEID <- unique(gene_exons$GENEID)\n",
    "    mcols(promoters_gr)$feature <- \"regulatory\"\n",
    "\n",
    "    # 6. Combine exons + regulatory regions\n",
    "    # final_gr <- c(main_tx_exons, promoters_gene_reduced)\n",
    "    final_gr <- c(main_tx_exons, promoters_gr)\n",
    "\n",
    "    return(final_gr)\n",
    "}\n"
   ]
  },
  {
   "cell_type": "markdown",
   "metadata": {},
   "source": [
    "https://web.mit.edu/~r/current/arch/i386_linux26/lib/R/library/GenomicRanges/html/intra-range-methods.html\n",
    "\n",
    "promoters returns an object of the same type and length as x containing promoter ranges. Promoter ranges extend around the transcription start site (TSS) which is defined as start(x). The upsteam and downstream arguments define the number of nucleotides in the 5' and 3' direction, respectively. The full range is defined as,\n",
    "\n",
    "(start(x) - upstream) to (start(x) + downstream - 1).\n",
    "\n",
    "Ranges on the * strand are treated the same as those on the + strand. When no seqlengths are present in x, it is possible to have non-positive start values in the promoter ranges. This occurs when (TSS - upstream) < 1. In the equal but opposite case, the end values of the ranges may extend beyond the chromosome end when (TSS + downstream + 1) > 'chromosome end'. When seqlengths are not NA the promoter ranges are kept within the bounds of the defined seqlengths.\n"
   ]
  },
  {
   "cell_type": "code",
   "execution_count": null,
   "metadata": {
    "vscode": {
     "languageId": "r"
    }
   },
   "outputs": [
    {
     "name": "stderr",
     "output_type": "stream",
     "text": [
      "Import genomic features from the file as a GRanges object ... \n"
     ]
    },
    {
     "name": "stderr",
     "output_type": "stream",
     "text": [
      "OK\n",
      "\n",
      "Prepare the 'metadata' data frame ... \n",
      "OK\n",
      "\n",
      "Make the TxDb object ... \n",
      "Warning message in .extract_transcripts_from_GRanges(tx_IDX, gr, mcols0$type, mcols0$ID, :\n",
      "\"some transcripts have no \"transcript_id\" attribute ==> their name\n",
      "  (\"tx_name\" column in the TxDb object) was set to NA\"\n",
      "Warning message in .extract_transcripts_from_GRanges(tx_IDX, gr, mcols0$type, mcols0$ID, :\n",
      "\"the transcript names (\"tx_name\" column in the TxDb object) imported\n",
      "  from the \"transcript_id\" attribute are not unique\"\n",
      "Warning message in .find_exon_cds(exons, cds):\n",
      "\"The following transcripts have exons that contain more than one CDS\n",
      "  (only the first CDS was kept for each exon): NM_001134939.1,\n",
      "  NM_001172437.2, NM_001184961.1, NM_001301020.1, NM_001301302.1,\n",
      "  NM_001301371.1, NM_002537.3, NM_004152.3, NM_015068.3, NM_016178.2\"\n",
      "OK\n",
      "\n"
     ]
    }
   ],
   "source": [
    "# Annotation file\n",
    "annotations_T2T_fp = \"/home/dejlu879/refs/T2T/chm13v2.0_RefSeq_Liftoff_v5.2.gff3.gz\"\n",
    "# Extract genes from the TxDb\n",
    "annotations_T2T = txdbmaker::makeTxDbFromGFF(annotations_T2T_fp)\n",
    "genes_txdb <- genes(annotations_T2T) # 'txdb' is TxDb object"
   ]
  },
  {
   "cell_type": "code",
   "execution_count": 40,
   "metadata": {
    "vscode": {
     "languageId": "r"
    }
   },
   "outputs": [
    {
     "data": {
      "text/html": [
       "<table class=\"dataframe\">\n",
       "<caption>A data.frame: 59 × 2</caption>\n",
       "<thead>\n",
       "\t<tr><th></th><th scope=col>gene</th><th scope=col>description</th></tr>\n",
       "\t<tr><th></th><th scope=col>&lt;chr&gt;</th><th scope=col>&lt;chr&gt;</th></tr>\n",
       "</thead>\n",
       "<tbody>\n",
       "\t<tr><th scope=row>IGLON5</th><td>IGLON5       </td><td>IgLON family member 5                                     </td></tr>\n",
       "\t<tr><th scope=row>IL5</th><td>IL5          </td><td>interleukin 5                                             </td></tr>\n",
       "\t<tr><th scope=row>LINC01837</th><td>LINC01837    </td><td>long intergenic non-protein coding RNA 1837               </td></tr>\n",
       "\t<tr><th scope=row>LOC105373215</th><td>LOC105373215 </td><td>uncharacterized LOC105373215                              </td></tr>\n",
       "\t<tr><th scope=row>LOC105373456</th><td>LOC105373456 </td><td>uncharacterized LOC105373456                              </td></tr>\n",
       "\t<tr><th scope=row>LOC124902789</th><td>LOC124902789 </td><td>uncharacterized LOC124902789                              </td></tr>\n",
       "\t<tr><th scope=row>LOFF_G0010304</th><td>LOFF_G0010304</td><td>RNA, 45S pre-ribosomal 2                                  </td></tr>\n",
       "\t<tr><th scope=row>LOFF_G0010792</th><td>LOFF_G0010792</td><td>rRNA                                                      </td></tr>\n",
       "\t<tr><th scope=row>LSM14A</th><td>LSM14A       </td><td>LSM14A mRNA processing body assembly factor               </td></tr>\n",
       "\t<tr><th scope=row>NOSIP</th><td>NOSIP        </td><td>nitric oxide synthase interacting protein                 </td></tr>\n",
       "\t<tr><th scope=row>POTEM</th><td>POTEM        </td><td>POTE ankyrin domain family member M                       </td></tr>\n",
       "\t<tr><th scope=row>SPEF2</th><td>SPEF2        </td><td>sperm flagellar 2                                         </td></tr>\n",
       "\t<tr><th scope=row>SYCP2</th><td>SYCP2        </td><td>synaptonemal complex protein 2                            </td></tr>\n",
       "\t<tr><th scope=row>ZNF114-AS1</th><td>ZNF114-AS1   </td><td>ZNF114 antisense RNA 1                                    </td></tr>\n",
       "\t<tr><th scope=row>ZNF235</th><td>ZNF235       </td><td>zinc finger protein 235                                   </td></tr>\n",
       "\t<tr><th scope=row>ZNF283</th><td>ZNF283       </td><td>zinc finger protein 283                                   </td></tr>\n",
       "\t<tr><th scope=row>ZNF329</th><td>ZNF329       </td><td>zinc finger protein 329                                   </td></tr>\n",
       "\t<tr><th scope=row>CACNG6</th><td>CACNG6       </td><td>calcium voltage-gated channel auxiliary subunit gamma 6   </td></tr>\n",
       "\t<tr><th scope=row>DEDD2</th><td>DEDD2        </td><td>death effector domain containing 2                        </td></tr>\n",
       "\t<tr><th scope=row>FAT1</th><td>FAT1         </td><td>FAT atypical cadherin 1                                   </td></tr>\n",
       "\t<tr><th scope=row>FNDC3B</th><td>FNDC3B       </td><td>fibronectin type III domain containing 3B                 </td></tr>\n",
       "\t<tr><th scope=row>KRTDAP</th><td>KRTDAP       </td><td>keratinocyte differentiation associated protein           </td></tr>\n",
       "\t<tr><th scope=row>LINC01270</th><td>LINC01270    </td><td>long intergenic non-protein coding RNA 1270               </td></tr>\n",
       "\t<tr><th scope=row>LOC105370291</th><td>LOC105370291 </td><td>uncharacterized LOC105370291                              </td></tr>\n",
       "\t<tr><th scope=row>LOC124904790</th><td>LOC124904790 </td><td>uncharacterized LOC124904790                              </td></tr>\n",
       "\t<tr><th scope=row>NALCN</th><td>NALCN        </td><td>sodium leak channel, non-selective                        </td></tr>\n",
       "\t<tr><th scope=row>PRKD2</th><td>PRKD2        </td><td>protein kinase D2                                         </td></tr>\n",
       "\t<tr><th scope=row>SARS2</th><td>SARS2        </td><td>seryl-tRNA synthetase 2, mitochondrial                    </td></tr>\n",
       "\t<tr><th scope=row>SLCO4A1</th><td>SLCO4A1      </td><td>solute carrier organic anion transporter family member 4A1</td></tr>\n",
       "\t<tr><th scope=row>SNRPA1</th><td>SNRPA1       </td><td>small nuclear ribonucleoprotein polypeptide A'            </td></tr>\n",
       "\t<tr><th scope=row>TTLL9</th><td>TTLL9        </td><td>tubulin tyrosine ligase like 9                            </td></tr>\n",
       "\t<tr><th scope=row>ZNF444</th><td>ZNF444       </td><td>zinc finger protein 444                                   </td></tr>\n",
       "\t<tr><th scope=row>ZNF813</th><td>ZNF813       </td><td>zinc finger protein 813                                   </td></tr>\n",
       "\t<tr><th scope=row>FAM189A1</th><td>FAM189A1     </td><td>endosomal transmembrane epsin interactor 2                </td></tr>\n",
       "\t<tr><th scope=row>KATNAL2</th><td>KATNAL2      </td><td>katanin catalytic subunit A1 like 2                       </td></tr>\n",
       "\t<tr><th scope=row>LOFF_G0010312</th><td>LOFF_G0010312</td><td>rRNA                                                      </td></tr>\n",
       "\t<tr><th scope=row>MIR570HG</th><td>MIR570HG     </td><td>MIR570 host gene                                          </td></tr>\n",
       "\t<tr><th scope=row>FAM66B</th><td>FAM66B       </td><td>family with sequence similarity 66 member B               </td></tr>\n",
       "\t<tr><th scope=row>GOLGA2P10</th><td>GOLGA2P10    </td><td>GOLGA2 pseudogene 10                                      </td></tr>\n",
       "\t<tr><th scope=row>LOC124904712</th><td>LOC124904712 </td><td>uncharacterized LOC124904712                              </td></tr>\n",
       "\t<tr><th scope=row>LOFF_G0010320</th><td>LOFF_G0010320</td><td>rRNA                                                      </td></tr>\n",
       "\t<tr><th scope=row>LOFF_G0010340</th><td>LOFF_G0010340</td><td>rRNA                                                      </td></tr>\n",
       "\t<tr><th scope=row>LOFF_G0010363</th><td>LOFF_G0010363</td><td>rRNA                                                      </td></tr>\n",
       "\t<tr><th scope=row>LOFF_G0010571</th><td>LOFF_G0010571</td><td>rRNA                                                      </td></tr>\n",
       "\t<tr><th scope=row>LOFF_G0010875</th><td>LOFF_G0010875</td><td>rRNA                                                      </td></tr>\n",
       "\t<tr><th scope=row>NBPF6</th><td>NBPF6        </td><td>NBPF member 6                                             </td></tr>\n",
       "\t<tr><th scope=row>LOFF_G0010300</th><td>LOFF_G0010300</td><td>rRNA                                                      </td></tr>\n",
       "\t<tr><th scope=row>LOFF_G0010292</th><td>LOFF_G0010292</td><td>RNA, 45S pre-ribosomal 1                                  </td></tr>\n",
       "\t<tr><th scope=row>LOFF_G0010368</th><td>LOFF_G0010368</td><td>RNA, 45S pre-ribosomal 3                                  </td></tr>\n",
       "\t<tr><th scope=row>LOFF_G0010788</th><td>LOFF_G0010788</td><td>RNA, 45S pre-ribosomal 4                                  </td></tr>\n",
       "\t<tr><th scope=row>LOFF_G0010787</th><td>LOFF_G0010787</td><td>RNA, 28S ribosomal 4                                      </td></tr>\n",
       "\t<tr><th scope=row>ESF1</th><td>ESF1         </td><td>ESF1 nucleolar pre-rRNA processing protein homolog        </td></tr>\n",
       "\t<tr><th scope=row>GUSBP17</th><td>GUSBP17      </td><td>GUSB pseudogene 17                                        </td></tr>\n",
       "\t<tr><th scope=row>LOC124904768</th><td>LOC124904768 </td><td>uncharacterized LOC124904768                              </td></tr>\n",
       "\t<tr><th scope=row>LOC124905154</th><td>LOC124905154 </td><td>immunoglobulin kappa variable 1-39-like                   </td></tr>\n",
       "\t<tr><th scope=row>LRRC37A3</th><td>LRRC37A3     </td><td>leucine rich repeat containing 37 member A3               </td></tr>\n",
       "\t<tr><th scope=row>MAFIP</th><td>MAFIP        </td><td>MAFF interacting protein                                  </td></tr>\n",
       "\t<tr><th scope=row>ZDHHC11</th><td>ZDHHC11      </td><td>zinc finger DHHC-type containing 11                       </td></tr>\n",
       "\t<tr><th scope=row>CASZ1</th><td>CASZ1        </td><td>castor zinc finger 1                                      </td></tr>\n",
       "</tbody>\n",
       "</table>\n"
      ],
      "text/latex": [
       "A data.frame: 59 × 2\n",
       "\\begin{tabular}{r|ll}\n",
       "  & gene & description\\\\\n",
       "  & <chr> & <chr>\\\\\n",
       "\\hline\n",
       "\tIGLON5 & IGLON5        & IgLON family member 5                                     \\\\\n",
       "\tIL5 & IL5           & interleukin 5                                             \\\\\n",
       "\tLINC01837 & LINC01837     & long intergenic non-protein coding RNA 1837               \\\\\n",
       "\tLOC105373215 & LOC105373215  & uncharacterized LOC105373215                              \\\\\n",
       "\tLOC105373456 & LOC105373456  & uncharacterized LOC105373456                              \\\\\n",
       "\tLOC124902789 & LOC124902789  & uncharacterized LOC124902789                              \\\\\n",
       "\tLOFF\\_G0010304 & LOFF\\_G0010304 & RNA, 45S pre-ribosomal 2                                  \\\\\n",
       "\tLOFF\\_G0010792 & LOFF\\_G0010792 & rRNA                                                      \\\\\n",
       "\tLSM14A & LSM14A        & LSM14A mRNA processing body assembly factor               \\\\\n",
       "\tNOSIP & NOSIP         & nitric oxide synthase interacting protein                 \\\\\n",
       "\tPOTEM & POTEM         & POTE ankyrin domain family member M                       \\\\\n",
       "\tSPEF2 & SPEF2         & sperm flagellar 2                                         \\\\\n",
       "\tSYCP2 & SYCP2         & synaptonemal complex protein 2                            \\\\\n",
       "\tZNF114-AS1 & ZNF114-AS1    & ZNF114 antisense RNA 1                                    \\\\\n",
       "\tZNF235 & ZNF235        & zinc finger protein 235                                   \\\\\n",
       "\tZNF283 & ZNF283        & zinc finger protein 283                                   \\\\\n",
       "\tZNF329 & ZNF329        & zinc finger protein 329                                   \\\\\n",
       "\tCACNG6 & CACNG6        & calcium voltage-gated channel auxiliary subunit gamma 6   \\\\\n",
       "\tDEDD2 & DEDD2         & death effector domain containing 2                        \\\\\n",
       "\tFAT1 & FAT1          & FAT atypical cadherin 1                                   \\\\\n",
       "\tFNDC3B & FNDC3B        & fibronectin type III domain containing 3B                 \\\\\n",
       "\tKRTDAP & KRTDAP        & keratinocyte differentiation associated protein           \\\\\n",
       "\tLINC01270 & LINC01270     & long intergenic non-protein coding RNA 1270               \\\\\n",
       "\tLOC105370291 & LOC105370291  & uncharacterized LOC105370291                              \\\\\n",
       "\tLOC124904790 & LOC124904790  & uncharacterized LOC124904790                              \\\\\n",
       "\tNALCN & NALCN         & sodium leak channel, non-selective                        \\\\\n",
       "\tPRKD2 & PRKD2         & protein kinase D2                                         \\\\\n",
       "\tSARS2 & SARS2         & seryl-tRNA synthetase 2, mitochondrial                    \\\\\n",
       "\tSLCO4A1 & SLCO4A1       & solute carrier organic anion transporter family member 4A1\\\\\n",
       "\tSNRPA1 & SNRPA1        & small nuclear ribonucleoprotein polypeptide A'            \\\\\n",
       "\tTTLL9 & TTLL9         & tubulin tyrosine ligase like 9                            \\\\\n",
       "\tZNF444 & ZNF444        & zinc finger protein 444                                   \\\\\n",
       "\tZNF813 & ZNF813        & zinc finger protein 813                                   \\\\\n",
       "\tFAM189A1 & FAM189A1      & endosomal transmembrane epsin interactor 2                \\\\\n",
       "\tKATNAL2 & KATNAL2       & katanin catalytic subunit A1 like 2                       \\\\\n",
       "\tLOFF\\_G0010312 & LOFF\\_G0010312 & rRNA                                                      \\\\\n",
       "\tMIR570HG & MIR570HG      & MIR570 host gene                                          \\\\\n",
       "\tFAM66B & FAM66B        & family with sequence similarity 66 member B               \\\\\n",
       "\tGOLGA2P10 & GOLGA2P10     & GOLGA2 pseudogene 10                                      \\\\\n",
       "\tLOC124904712 & LOC124904712  & uncharacterized LOC124904712                              \\\\\n",
       "\tLOFF\\_G0010320 & LOFF\\_G0010320 & rRNA                                                      \\\\\n",
       "\tLOFF\\_G0010340 & LOFF\\_G0010340 & rRNA                                                      \\\\\n",
       "\tLOFF\\_G0010363 & LOFF\\_G0010363 & rRNA                                                      \\\\\n",
       "\tLOFF\\_G0010571 & LOFF\\_G0010571 & rRNA                                                      \\\\\n",
       "\tLOFF\\_G0010875 & LOFF\\_G0010875 & rRNA                                                      \\\\\n",
       "\tNBPF6 & NBPF6         & NBPF member 6                                             \\\\\n",
       "\tLOFF\\_G0010300 & LOFF\\_G0010300 & rRNA                                                      \\\\\n",
       "\tLOFF\\_G0010292 & LOFF\\_G0010292 & RNA, 45S pre-ribosomal 1                                  \\\\\n",
       "\tLOFF\\_G0010368 & LOFF\\_G0010368 & RNA, 45S pre-ribosomal 3                                  \\\\\n",
       "\tLOFF\\_G0010788 & LOFF\\_G0010788 & RNA, 45S pre-ribosomal 4                                  \\\\\n",
       "\tLOFF\\_G0010787 & LOFF\\_G0010787 & RNA, 28S ribosomal 4                                      \\\\\n",
       "\tESF1 & ESF1          & ESF1 nucleolar pre-rRNA processing protein homolog        \\\\\n",
       "\tGUSBP17 & GUSBP17       & GUSB pseudogene 17                                        \\\\\n",
       "\tLOC124904768 & LOC124904768  & uncharacterized LOC124904768                              \\\\\n",
       "\tLOC124905154 & LOC124905154  & immunoglobulin kappa variable 1-39-like                   \\\\\n",
       "\tLRRC37A3 & LRRC37A3      & leucine rich repeat containing 37 member A3               \\\\\n",
       "\tMAFIP & MAFIP         & MAFF interacting protein                                  \\\\\n",
       "\tZDHHC11 & ZDHHC11       & zinc finger DHHC-type containing 11                       \\\\\n",
       "\tCASZ1 & CASZ1         & castor zinc finger 1                                      \\\\\n",
       "\\end{tabular}\n"
      ],
      "text/markdown": [
       "\n",
       "A data.frame: 59 × 2\n",
       "\n",
       "| <!--/--> | gene &lt;chr&gt; | description &lt;chr&gt; |\n",
       "|---|---|---|\n",
       "| IGLON5 | IGLON5        | IgLON family member 5                                      |\n",
       "| IL5 | IL5           | interleukin 5                                              |\n",
       "| LINC01837 | LINC01837     | long intergenic non-protein coding RNA 1837                |\n",
       "| LOC105373215 | LOC105373215  | uncharacterized LOC105373215                               |\n",
       "| LOC105373456 | LOC105373456  | uncharacterized LOC105373456                               |\n",
       "| LOC124902789 | LOC124902789  | uncharacterized LOC124902789                               |\n",
       "| LOFF_G0010304 | LOFF_G0010304 | RNA, 45S pre-ribosomal 2                                   |\n",
       "| LOFF_G0010792 | LOFF_G0010792 | rRNA                                                       |\n",
       "| LSM14A | LSM14A        | LSM14A mRNA processing body assembly factor                |\n",
       "| NOSIP | NOSIP         | nitric oxide synthase interacting protein                  |\n",
       "| POTEM | POTEM         | POTE ankyrin domain family member M                        |\n",
       "| SPEF2 | SPEF2         | sperm flagellar 2                                          |\n",
       "| SYCP2 | SYCP2         | synaptonemal complex protein 2                             |\n",
       "| ZNF114-AS1 | ZNF114-AS1    | ZNF114 antisense RNA 1                                     |\n",
       "| ZNF235 | ZNF235        | zinc finger protein 235                                    |\n",
       "| ZNF283 | ZNF283        | zinc finger protein 283                                    |\n",
       "| ZNF329 | ZNF329        | zinc finger protein 329                                    |\n",
       "| CACNG6 | CACNG6        | calcium voltage-gated channel auxiliary subunit gamma 6    |\n",
       "| DEDD2 | DEDD2         | death effector domain containing 2                         |\n",
       "| FAT1 | FAT1          | FAT atypical cadherin 1                                    |\n",
       "| FNDC3B | FNDC3B        | fibronectin type III domain containing 3B                  |\n",
       "| KRTDAP | KRTDAP        | keratinocyte differentiation associated protein            |\n",
       "| LINC01270 | LINC01270     | long intergenic non-protein coding RNA 1270                |\n",
       "| LOC105370291 | LOC105370291  | uncharacterized LOC105370291                               |\n",
       "| LOC124904790 | LOC124904790  | uncharacterized LOC124904790                               |\n",
       "| NALCN | NALCN         | sodium leak channel, non-selective                         |\n",
       "| PRKD2 | PRKD2         | protein kinase D2                                          |\n",
       "| SARS2 | SARS2         | seryl-tRNA synthetase 2, mitochondrial                     |\n",
       "| SLCO4A1 | SLCO4A1       | solute carrier organic anion transporter family member 4A1 |\n",
       "| SNRPA1 | SNRPA1        | small nuclear ribonucleoprotein polypeptide A'             |\n",
       "| TTLL9 | TTLL9         | tubulin tyrosine ligase like 9                             |\n",
       "| ZNF444 | ZNF444        | zinc finger protein 444                                    |\n",
       "| ZNF813 | ZNF813        | zinc finger protein 813                                    |\n",
       "| FAM189A1 | FAM189A1      | endosomal transmembrane epsin interactor 2                 |\n",
       "| KATNAL2 | KATNAL2       | katanin catalytic subunit A1 like 2                        |\n",
       "| LOFF_G0010312 | LOFF_G0010312 | rRNA                                                       |\n",
       "| MIR570HG | MIR570HG      | MIR570 host gene                                           |\n",
       "| FAM66B | FAM66B        | family with sequence similarity 66 member B                |\n",
       "| GOLGA2P10 | GOLGA2P10     | GOLGA2 pseudogene 10                                       |\n",
       "| LOC124904712 | LOC124904712  | uncharacterized LOC124904712                               |\n",
       "| LOFF_G0010320 | LOFF_G0010320 | rRNA                                                       |\n",
       "| LOFF_G0010340 | LOFF_G0010340 | rRNA                                                       |\n",
       "| LOFF_G0010363 | LOFF_G0010363 | rRNA                                                       |\n",
       "| LOFF_G0010571 | LOFF_G0010571 | rRNA                                                       |\n",
       "| LOFF_G0010875 | LOFF_G0010875 | rRNA                                                       |\n",
       "| NBPF6 | NBPF6         | NBPF member 6                                              |\n",
       "| LOFF_G0010300 | LOFF_G0010300 | rRNA                                                       |\n",
       "| LOFF_G0010292 | LOFF_G0010292 | RNA, 45S pre-ribosomal 1                                   |\n",
       "| LOFF_G0010368 | LOFF_G0010368 | RNA, 45S pre-ribosomal 3                                   |\n",
       "| LOFF_G0010788 | LOFF_G0010788 | RNA, 45S pre-ribosomal 4                                   |\n",
       "| LOFF_G0010787 | LOFF_G0010787 | RNA, 28S ribosomal 4                                       |\n",
       "| ESF1 | ESF1          | ESF1 nucleolar pre-rRNA processing protein homolog         |\n",
       "| GUSBP17 | GUSBP17       | GUSB pseudogene 17                                         |\n",
       "| LOC124904768 | LOC124904768  | uncharacterized LOC124904768                               |\n",
       "| LOC124905154 | LOC124905154  | immunoglobulin kappa variable 1-39-like                    |\n",
       "| LRRC37A3 | LRRC37A3      | leucine rich repeat containing 37 member A3                |\n",
       "| MAFIP | MAFIP         | MAFF interacting protein                                   |\n",
       "| ZDHHC11 | ZDHHC11       | zinc finger DHHC-type containing 11                        |\n",
       "| CASZ1 | CASZ1         | castor zinc finger 1                                       |\n",
       "\n"
      ],
      "text/plain": [
       "              gene         \n",
       "IGLON5        IGLON5       \n",
       "IL5           IL5          \n",
       "LINC01837     LINC01837    \n",
       "LOC105373215  LOC105373215 \n",
       "LOC105373456  LOC105373456 \n",
       "LOC124902789  LOC124902789 \n",
       "LOFF_G0010304 LOFF_G0010304\n",
       "LOFF_G0010792 LOFF_G0010792\n",
       "LSM14A        LSM14A       \n",
       "NOSIP         NOSIP        \n",
       "POTEM         POTEM        \n",
       "SPEF2         SPEF2        \n",
       "SYCP2         SYCP2        \n",
       "ZNF114-AS1    ZNF114-AS1   \n",
       "ZNF235        ZNF235       \n",
       "ZNF283        ZNF283       \n",
       "ZNF329        ZNF329       \n",
       "CACNG6        CACNG6       \n",
       "DEDD2         DEDD2        \n",
       "FAT1          FAT1         \n",
       "FNDC3B        FNDC3B       \n",
       "KRTDAP        KRTDAP       \n",
       "LINC01270     LINC01270    \n",
       "LOC105370291  LOC105370291 \n",
       "LOC124904790  LOC124904790 \n",
       "NALCN         NALCN        \n",
       "PRKD2         PRKD2        \n",
       "SARS2         SARS2        \n",
       "SLCO4A1       SLCO4A1      \n",
       "SNRPA1        SNRPA1       \n",
       "TTLL9         TTLL9        \n",
       "ZNF444        ZNF444       \n",
       "ZNF813        ZNF813       \n",
       "FAM189A1      FAM189A1     \n",
       "KATNAL2       KATNAL2      \n",
       "LOFF_G0010312 LOFF_G0010312\n",
       "MIR570HG      MIR570HG     \n",
       "FAM66B        FAM66B       \n",
       "GOLGA2P10     GOLGA2P10    \n",
       "LOC124904712  LOC124904712 \n",
       "LOFF_G0010320 LOFF_G0010320\n",
       "LOFF_G0010340 LOFF_G0010340\n",
       "LOFF_G0010363 LOFF_G0010363\n",
       "LOFF_G0010571 LOFF_G0010571\n",
       "LOFF_G0010875 LOFF_G0010875\n",
       "NBPF6         NBPF6        \n",
       "LOFF_G0010300 LOFF_G0010300\n",
       "LOFF_G0010292 LOFF_G0010292\n",
       "LOFF_G0010368 LOFF_G0010368\n",
       "LOFF_G0010788 LOFF_G0010788\n",
       "LOFF_G0010787 LOFF_G0010787\n",
       "ESF1          ESF1         \n",
       "GUSBP17       GUSBP17      \n",
       "LOC124904768  LOC124904768 \n",
       "LOC124905154  LOC124905154 \n",
       "LRRC37A3      LRRC37A3     \n",
       "MAFIP         MAFIP        \n",
       "ZDHHC11       ZDHHC11      \n",
       "CASZ1         CASZ1        \n",
       "              description                                               \n",
       "IGLON5        IgLON family member 5                                     \n",
       "IL5           interleukin 5                                             \n",
       "LINC01837     long intergenic non-protein coding RNA 1837               \n",
       "LOC105373215  uncharacterized LOC105373215                              \n",
       "LOC105373456  uncharacterized LOC105373456                              \n",
       "LOC124902789  uncharacterized LOC124902789                              \n",
       "LOFF_G0010304 RNA, 45S pre-ribosomal 2                                  \n",
       "LOFF_G0010792 rRNA                                                      \n",
       "LSM14A        LSM14A mRNA processing body assembly factor               \n",
       "NOSIP         nitric oxide synthase interacting protein                 \n",
       "POTEM         POTE ankyrin domain family member M                       \n",
       "SPEF2         sperm flagellar 2                                         \n",
       "SYCP2         synaptonemal complex protein 2                            \n",
       "ZNF114-AS1    ZNF114 antisense RNA 1                                    \n",
       "ZNF235        zinc finger protein 235                                   \n",
       "ZNF283        zinc finger protein 283                                   \n",
       "ZNF329        zinc finger protein 329                                   \n",
       "CACNG6        calcium voltage-gated channel auxiliary subunit gamma 6   \n",
       "DEDD2         death effector domain containing 2                        \n",
       "FAT1          FAT atypical cadherin 1                                   \n",
       "FNDC3B        fibronectin type III domain containing 3B                 \n",
       "KRTDAP        keratinocyte differentiation associated protein           \n",
       "LINC01270     long intergenic non-protein coding RNA 1270               \n",
       "LOC105370291  uncharacterized LOC105370291                              \n",
       "LOC124904790  uncharacterized LOC124904790                              \n",
       "NALCN         sodium leak channel, non-selective                        \n",
       "PRKD2         protein kinase D2                                         \n",
       "SARS2         seryl-tRNA synthetase 2, mitochondrial                    \n",
       "SLCO4A1       solute carrier organic anion transporter family member 4A1\n",
       "SNRPA1        small nuclear ribonucleoprotein polypeptide A'            \n",
       "TTLL9         tubulin tyrosine ligase like 9                            \n",
       "ZNF444        zinc finger protein 444                                   \n",
       "ZNF813        zinc finger protein 813                                   \n",
       "FAM189A1      endosomal transmembrane epsin interactor 2                \n",
       "KATNAL2       katanin catalytic subunit A1 like 2                       \n",
       "LOFF_G0010312 rRNA                                                      \n",
       "MIR570HG      MIR570 host gene                                          \n",
       "FAM66B        family with sequence similarity 66 member B               \n",
       "GOLGA2P10     GOLGA2 pseudogene 10                                      \n",
       "LOC124904712  uncharacterized LOC124904712                              \n",
       "LOFF_G0010320 rRNA                                                      \n",
       "LOFF_G0010340 rRNA                                                      \n",
       "LOFF_G0010363 rRNA                                                      \n",
       "LOFF_G0010571 rRNA                                                      \n",
       "LOFF_G0010875 rRNA                                                      \n",
       "NBPF6         NBPF member 6                                             \n",
       "LOFF_G0010300 rRNA                                                      \n",
       "LOFF_G0010292 RNA, 45S pre-ribosomal 1                                  \n",
       "LOFF_G0010368 RNA, 45S pre-ribosomal 3                                  \n",
       "LOFF_G0010788 RNA, 45S pre-ribosomal 4                                  \n",
       "LOFF_G0010787 RNA, 28S ribosomal 4                                      \n",
       "ESF1          ESF1 nucleolar pre-rRNA processing protein homolog        \n",
       "GUSBP17       GUSB pseudogene 17                                        \n",
       "LOC124904768  uncharacterized LOC124904768                              \n",
       "LOC124905154  immunoglobulin kappa variable 1-39-like                   \n",
       "LRRC37A3      leucine rich repeat containing 37 member A3               \n",
       "MAFIP         MAFF interacting protein                                  \n",
       "ZDHHC11       zinc finger DHHC-type containing 11                       \n",
       "CASZ1         castor zinc finger 1                                      "
      ]
     },
     "metadata": {},
     "output_type": "display_data"
    }
   ],
   "source": [
    "\n",
    "suppressWarnings({\n",
    "    # Your code here\n",
    "    log(-1) # This would normally generate a warning\n",
    "\n",
    "    gene_description_list <- list()\n",
    "\n",
    "    for (gene in all_genes) {\n",
    "        combined_gene_gr <- GRanges()\n",
    "\n",
    "        for (name in names(named_grs)) {\n",
    "            gr <- named_grs[[name]]\n",
    "            gene_gr <- gr[gr$gene_id == gene]\n",
    "            combined_gene_gr <- c(combined_gene_gr, gene_gr)\n",
    "        }\n",
    "\n",
    "        # Optional: filter metadata columns with all NA\n",
    "        if (length(mcols(combined_gene_gr)) > 0) {\n",
    "            mcols(combined_gene_gr) <- mcols(combined_gene_gr)[, colSums(!is.na(mcols(combined_gene_gr))) > 0, drop = FALSE]\n",
    "        }\n",
    "\n",
    "        ranges(combined_gene_gr) <- IRanges(start(combined_gene_gr), width = 1)\n",
    "\n",
    "        # Extract a single description (adjust logic if multiple)\n",
    "        description <- unique(combined_gene_gr$gene_description)\n",
    "        description <- description[!is.na(description)]\n",
    "\n",
    "        gene_description_list[[gene]] <- data.frame(\n",
    "            gene = gene,\n",
    "            description = if (length(description) > 0) paste(description, collapse = \"; \") else NA\n",
    "        )\n",
    "        # break\n",
    "    }\n",
    "\n",
    "    gene_descriptions <- do.call(rbind, gene_description_list)\n",
    "})\n",
    "\n",
    "gene_descriptions"
   ]
  },
  {
   "cell_type": "code",
   "execution_count": null,
   "metadata": {
    "vscode": {
     "languageId": "r"
    }
   },
   "outputs": [
    {
     "name": "stdout",
     "output_type": "stream",
     "text": [
      "[1] \"------- Processing IGLON5 -------\"\n"
     ]
    },
    {
     "name": "stderr",
     "output_type": "stream",
     "text": [
      "'select()' returned 1:many mapping between keys and columns\n",
      "\n"
     ]
    },
    {
     "name": "stdout",
     "output_type": "stream",
     "text": [
      "[1] \"------- Processing IL5 -------\"\n"
     ]
    },
    {
     "name": "stderr",
     "output_type": "stream",
     "text": [
      "'select()' returned 1:many mapping between keys and columns\n",
      "\n",
      "Skipping zoom plot for IL5: subscript is out of bounds\n",
      "\n"
     ]
    },
    {
     "name": "stdout",
     "output_type": "stream",
     "text": [
      "[1] \"------- Processing LINC01837 -------\"\n"
     ]
    },
    {
     "name": "stderr",
     "output_type": "stream",
     "text": [
      "'select()' returned 1:many mapping between keys and columns\n",
      "\n",
      "Skipping zoom plot for LINC01837: subscript is out of bounds\n",
      "\n"
     ]
    },
    {
     "name": "stdout",
     "output_type": "stream",
     "text": [
      "[1] \"------- Processing LOC105373215 -------\"\n",
      "[1] \"  skipping LOC105373215\"\n",
      "[1] \"------- Processing LOC105373456 -------\"\n",
      "[1] \"  skipping LOC105373456\"\n",
      "[1] \"------- Processing LOC124902789 -------\"\n",
      "[1] \"  skipping LOC124902789\"\n",
      "[1] \"------- Processing LOFF_G0010304 -------\"\n",
      "[1] \"  skipping LOFF_G0010304\"\n",
      "[1] \"------- Processing LOFF_G0010792 -------\"\n",
      "[1] \"  skipping LOFF_G0010792\"\n",
      "[1] \"------- Processing LSM14A -------\"\n"
     ]
    },
    {
     "name": "stderr",
     "output_type": "stream",
     "text": [
      "'select()' returned 1:many mapping between keys and columns\n",
      "\n",
      "Skipping zoom plot for LSM14A: subscript is out of bounds\n",
      "\n"
     ]
    },
    {
     "name": "stdout",
     "output_type": "stream",
     "text": [
      "[1] \"------- Processing NOSIP -------\"\n"
     ]
    },
    {
     "name": "stderr",
     "output_type": "stream",
     "text": [
      "'select()' returned 1:many mapping between keys and columns\n",
      "\n",
      "Skipping zoom plot for NOSIP: subscript is out of bounds\n",
      "\n"
     ]
    },
    {
     "name": "stdout",
     "output_type": "stream",
     "text": [
      "[1] \"------- Processing POTEM -------\"\n"
     ]
    },
    {
     "name": "stderr",
     "output_type": "stream",
     "text": [
      "'select()' returned 1:many mapping between keys and columns\n",
      "\n"
     ]
    },
    {
     "name": "stdout",
     "output_type": "stream",
     "text": [
      "[1] \"------- Processing SPEF2 -------\"\n"
     ]
    },
    {
     "name": "stderr",
     "output_type": "stream",
     "text": [
      "'select()' returned 1:many mapping between keys and columns\n",
      "\n",
      "Skipping zoom plot for SPEF2: subscript is out of bounds\n",
      "\n"
     ]
    },
    {
     "name": "stdout",
     "output_type": "stream",
     "text": [
      "[1] \"------- Processing SYCP2 -------\"\n"
     ]
    },
    {
     "name": "stderr",
     "output_type": "stream",
     "text": [
      "'select()' returned 1:many mapping between keys and columns\n",
      "\n",
      "Skipping zoom plot for SYCP2: subscript is out of bounds\n",
      "\n"
     ]
    },
    {
     "name": "stdout",
     "output_type": "stream",
     "text": [
      "[1] \"------- Processing ZNF114-AS1 -------\"\n"
     ]
    },
    {
     "name": "stderr",
     "output_type": "stream",
     "text": [
      "'select()' returned 1:many mapping between keys and columns\n",
      "\n",
      "Skipping zoom plot for ZNF114-AS1: subscript is out of bounds\n",
      "\n"
     ]
    },
    {
     "name": "stdout",
     "output_type": "stream",
     "text": [
      "[1] \"------- Processing ZNF235 -------\"\n"
     ]
    },
    {
     "name": "stderr",
     "output_type": "stream",
     "text": [
      "'select()' returned 1:many mapping between keys and columns\n",
      "\n",
      "Skipping zoom plot for ZNF235: subscript is out of bounds\n",
      "\n"
     ]
    },
    {
     "name": "stdout",
     "output_type": "stream",
     "text": [
      "[1] \"------- Processing ZNF283 -------\"\n"
     ]
    },
    {
     "name": "stderr",
     "output_type": "stream",
     "text": [
      "'select()' returned 1:many mapping between keys and columns\n",
      "\n"
     ]
    },
    {
     "name": "stdout",
     "output_type": "stream",
     "text": [
      "[1] \"------- Processing ZNF329 -------\"\n"
     ]
    },
    {
     "name": "stderr",
     "output_type": "stream",
     "text": [
      "'select()' returned 1:many mapping between keys and columns\n",
      "\n",
      "Skipping zoom plot for ZNF329: subscript is out of bounds\n",
      "\n"
     ]
    },
    {
     "name": "stdout",
     "output_type": "stream",
     "text": [
      "[1] \"------- Processing CACNG6 -------\"\n"
     ]
    },
    {
     "name": "stderr",
     "output_type": "stream",
     "text": [
      "'select()' returned 1:many mapping between keys and columns\n",
      "\n",
      "Skipping zoom plot for CACNG6: subscript is out of bounds\n",
      "\n"
     ]
    },
    {
     "name": "stdout",
     "output_type": "stream",
     "text": [
      "[1] \"------- Processing DEDD2 -------\"\n"
     ]
    },
    {
     "name": "stderr",
     "output_type": "stream",
     "text": [
      "'select()' returned 1:many mapping between keys and columns\n",
      "\n"
     ]
    },
    {
     "name": "stdout",
     "output_type": "stream",
     "text": [
      "[1] \"------- Processing FAT1 -------\"\n"
     ]
    },
    {
     "name": "stderr",
     "output_type": "stream",
     "text": [
      "'select()' returned 1:many mapping between keys and columns\n",
      "\n"
     ]
    },
    {
     "name": "stdout",
     "output_type": "stream",
     "text": [
      "[1] \"------- Processing FNDC3B -------\"\n"
     ]
    },
    {
     "name": "stderr",
     "output_type": "stream",
     "text": [
      "'select()' returned 1:many mapping between keys and columns\n",
      "\n",
      "Skipping zoom plot for FNDC3B: subscript is out of bounds\n",
      "\n"
     ]
    },
    {
     "name": "stdout",
     "output_type": "stream",
     "text": [
      "[1] \"------- Processing KRTDAP -------\"\n"
     ]
    },
    {
     "name": "stderr",
     "output_type": "stream",
     "text": [
      "'select()' returned 1:many mapping between keys and columns\n",
      "\n"
     ]
    },
    {
     "name": "stdout",
     "output_type": "stream",
     "text": [
      "[1] \"------- Processing LINC01270 -------\"\n"
     ]
    },
    {
     "name": "stderr",
     "output_type": "stream",
     "text": [
      "'select()' returned 1:many mapping between keys and columns\n",
      "\n",
      "Skipping zoom plot for LINC01270: subscript is out of bounds\n",
      "\n"
     ]
    },
    {
     "name": "stdout",
     "output_type": "stream",
     "text": [
      "[1] \"------- Processing LOC105370291 -------\"\n",
      "[1] \"  skipping LOC105370291\"\n",
      "[1] \"------- Processing LOC124904790 -------\"\n",
      "[1] \"  skipping LOC124904790\"\n",
      "[1] \"------- Processing NALCN -------\"\n"
     ]
    },
    {
     "name": "stderr",
     "output_type": "stream",
     "text": [
      "'select()' returned 1:many mapping between keys and columns\n",
      "\n",
      "Skipping zoom plot for NALCN: subscript is out of bounds\n",
      "\n"
     ]
    },
    {
     "name": "stdout",
     "output_type": "stream",
     "text": [
      "[1] \"------- Processing PRKD2 -------\"\n"
     ]
    },
    {
     "name": "stderr",
     "output_type": "stream",
     "text": [
      "'select()' returned 1:many mapping between keys and columns\n",
      "\n",
      "Skipping zoom plot for PRKD2: subscript is out of bounds\n",
      "\n"
     ]
    },
    {
     "name": "stdout",
     "output_type": "stream",
     "text": [
      "[1] \"------- Processing SARS2 -------\"\n"
     ]
    },
    {
     "name": "stderr",
     "output_type": "stream",
     "text": [
      "'select()' returned 1:many mapping between keys and columns\n",
      "\n",
      "Skipping zoom plot for SARS2: subscript is out of bounds\n",
      "\n"
     ]
    },
    {
     "name": "stdout",
     "output_type": "stream",
     "text": [
      "[1] \"------- Processing SLCO4A1 -------\"\n"
     ]
    },
    {
     "name": "stderr",
     "output_type": "stream",
     "text": [
      "'select()' returned 1:many mapping between keys and columns\n",
      "\n"
     ]
    },
    {
     "name": "stdout",
     "output_type": "stream",
     "text": [
      "[1] \"------- Processing SNRPA1 -------\"\n"
     ]
    },
    {
     "name": "stderr",
     "output_type": "stream",
     "text": [
      "'select()' returned 1:many mapping between keys and columns\n",
      "\n",
      "Skipping zoom plot for SNRPA1: subscript is out of bounds\n",
      "\n"
     ]
    },
    {
     "name": "stdout",
     "output_type": "stream",
     "text": [
      "[1] \"------- Processing TTLL9 -------\"\n"
     ]
    },
    {
     "name": "stderr",
     "output_type": "stream",
     "text": [
      "'select()' returned 1:many mapping between keys and columns\n",
      "\n",
      "Skipping zoom plot for TTLL9: subscript is out of bounds\n",
      "\n"
     ]
    },
    {
     "name": "stdout",
     "output_type": "stream",
     "text": [
      "[1] \"------- Processing ZNF444 -------\"\n"
     ]
    },
    {
     "name": "stderr",
     "output_type": "stream",
     "text": [
      "'select()' returned 1:many mapping between keys and columns\n",
      "\n",
      "Skipping zoom plot for ZNF444: subscript is out of bounds\n",
      "\n"
     ]
    },
    {
     "name": "stdout",
     "output_type": "stream",
     "text": [
      "[1] \"------- Processing ZNF813 -------\"\n"
     ]
    },
    {
     "name": "stderr",
     "output_type": "stream",
     "text": [
      "'select()' returned 1:many mapping between keys and columns\n",
      "\n",
      "Skipping zoom plot for ZNF813: subscript is out of bounds\n",
      "\n"
     ]
    },
    {
     "name": "stdout",
     "output_type": "stream",
     "text": [
      "[1] \"------- Processing FAM189A1 -------\"\n"
     ]
    },
    {
     "name": "stderr",
     "output_type": "stream",
     "text": [
      "'select()' returned 1:many mapping between keys and columns\n",
      "\n",
      "Skipping zoom plot for FAM189A1: subscript is out of bounds\n",
      "\n"
     ]
    },
    {
     "name": "stdout",
     "output_type": "stream",
     "text": [
      "[1] \"------- Processing KATNAL2 -------\"\n"
     ]
    },
    {
     "name": "stderr",
     "output_type": "stream",
     "text": [
      "'select()' returned 1:many mapping between keys and columns\n",
      "\n",
      "Skipping zoom plot for KATNAL2: subscript is out of bounds\n",
      "\n"
     ]
    },
    {
     "name": "stdout",
     "output_type": "stream",
     "text": [
      "[1] \"------- Processing LOFF_G0010312 -------\"\n",
      "[1] \"  skipping LOFF_G0010312\"\n",
      "[1] \"------- Processing MIR570HG -------\"\n"
     ]
    },
    {
     "name": "stderr",
     "output_type": "stream",
     "text": [
      "'select()' returned 1:many mapping between keys and columns\n",
      "\n",
      "Skipping zoom plot for MIR570HG: subscript is out of bounds\n",
      "\n"
     ]
    },
    {
     "name": "stdout",
     "output_type": "stream",
     "text": [
      "[1] \"------- Processing FAM66B -------\"\n"
     ]
    },
    {
     "name": "stderr",
     "output_type": "stream",
     "text": [
      "'select()' returned 1:many mapping between keys and columns\n",
      "\n",
      "Skipping zoom plot for FAM66B: subscript is out of bounds\n",
      "\n"
     ]
    },
    {
     "name": "stdout",
     "output_type": "stream",
     "text": [
      "[1] \"------- Processing GOLGA2P10 -------\"\n"
     ]
    },
    {
     "name": "stderr",
     "output_type": "stream",
     "text": [
      "'select()' returned 1:many mapping between keys and columns\n",
      "\n",
      "Skipping zoom plot for GOLGA2P10: subscript is out of bounds\n",
      "\n"
     ]
    },
    {
     "name": "stdout",
     "output_type": "stream",
     "text": [
      "[1] \"------- Processing LOC124904712 -------\"\n",
      "[1] \"  skipping LOC124904712\"\n",
      "[1] \"------- Processing LOFF_G0010320 -------\"\n",
      "[1] \"  skipping LOFF_G0010320\"\n",
      "[1] \"------- Processing LOFF_G0010340 -------\"\n",
      "[1] \"  skipping LOFF_G0010340\"\n",
      "[1] \"------- Processing LOFF_G0010363 -------\"\n",
      "[1] \"  skipping LOFF_G0010363\"\n",
      "[1] \"------- Processing LOFF_G0010571 -------\"\n",
      "[1] \"  skipping LOFF_G0010571\"\n",
      "[1] \"------- Processing LOFF_G0010875 -------\"\n",
      "[1] \"  skipping LOFF_G0010875\"\n",
      "[1] \"------- Processing NBPF6 -------\"\n"
     ]
    },
    {
     "name": "stderr",
     "output_type": "stream",
     "text": [
      "'select()' returned 1:many mapping between keys and columns\n",
      "\n",
      "Skipping zoom plot for NBPF6: subscript is out of bounds\n",
      "\n"
     ]
    },
    {
     "name": "stdout",
     "output_type": "stream",
     "text": [
      "[1] \"------- Processing LOFF_G0010300 -------\"\n",
      "[1] \"  skipping LOFF_G0010300\"\n",
      "[1] \"------- Processing LOFF_G0010292 -------\"\n",
      "[1] \"  skipping LOFF_G0010292\"\n",
      "[1] \"------- Processing LOFF_G0010368 -------\"\n",
      "[1] \"  skipping LOFF_G0010368\"\n",
      "[1] \"------- Processing LOFF_G0010788 -------\"\n",
      "[1] \"  skipping LOFF_G0010788\"\n",
      "[1] \"------- Processing LOFF_G0010787 -------\"\n",
      "[1] \"  skipping LOFF_G0010787\"\n",
      "[1] \"------- Processing ESF1 -------\"\n"
     ]
    },
    {
     "name": "stderr",
     "output_type": "stream",
     "text": [
      "'select()' returned 1:many mapping between keys and columns\n",
      "\n",
      "Skipping zoom plot for ESF1: subscript is out of bounds\n",
      "\n"
     ]
    },
    {
     "name": "stdout",
     "output_type": "stream",
     "text": [
      "[1] \"------- Processing GUSBP17 -------\"\n"
     ]
    },
    {
     "name": "stderr",
     "output_type": "stream",
     "text": [
      "'select()' returned 1:many mapping between keys and columns\n",
      "\n"
     ]
    },
    {
     "name": "stdout",
     "output_type": "stream",
     "text": [
      "[1] \"------- Processing LOC124904768 -------\"\n",
      "[1] \"  skipping LOC124904768\"\n",
      "[1] \"------- Processing LOC124905154 -------\"\n",
      "[1] \"  skipping LOC124905154\"\n",
      "[1] \"------- Processing LRRC37A3 -------\"\n"
     ]
    },
    {
     "name": "stderr",
     "output_type": "stream",
     "text": [
      "'select()' returned 1:many mapping between keys and columns\n",
      "\n"
     ]
    },
    {
     "name": "stdout",
     "output_type": "stream",
     "text": [
      "[1] \"------- Processing MAFIP -------\"\n"
     ]
    },
    {
     "name": "stderr",
     "output_type": "stream",
     "text": [
      "'select()' returned 1:many mapping between keys and columns\n",
      "\n",
      "Skipping zoom plot for MAFIP: subscript is out of bounds\n",
      "\n"
     ]
    },
    {
     "name": "stdout",
     "output_type": "stream",
     "text": [
      "[1] \"------- Processing ZDHHC11 -------\"\n"
     ]
    },
    {
     "name": "stderr",
     "output_type": "stream",
     "text": [
      "'select()' returned 1:many mapping between keys and columns\n",
      "\n",
      "Skipping zoom plot for ZDHHC11: subscript is out of bounds\n",
      "\n"
     ]
    },
    {
     "name": "stdout",
     "output_type": "stream",
     "text": [
      "[1] \"------- Processing CASZ1 -------\"\n"
     ]
    },
    {
     "name": "stderr",
     "output_type": "stream",
     "text": [
      "'select()' returned 1:many mapping between keys and columns\n",
      "\n"
     ]
    }
   ],
   "source": [
    "# promoters defined as 2000bp upstream of TSS, + 1000bp downstream of TSS\n",
    "# Plotted the transcripts with the most number of exons\n",
    "\n",
    "suppressWarnings({\n",
    "  # Your code here\n",
    "  log(-1)  # This would normally generate a warning\n",
    "\n",
    "    for (gene in all_genes) {\n",
    "        # for (gene in c(\"CASZ1\")) {\n",
    "        # if (gene != \"LOC105373215\") {\n",
    "        #     next\n",
    "        # }\n",
    "\n",
    "        # Actual code\n",
    "        # if (gene != \"CASZ1\") {\n",
    "        #     next\n",
    "        # }\n",
    "\n",
    "        print(paste0(\"------- Processing \", gene, \" -------\"))\n",
    "        if (grepl(\"^LOC\", gene)) {\n",
    "            print(paste0(\"  skipping \", gene))\n",
    "            next\n",
    "        } else if (grepl(\"^LOFF\", gene)) {\n",
    "            print(paste0(\"  skipping \", gene))\n",
    "            next\n",
    "        }\n",
    "\n",
    "        combined_gene_gr <- GRanges() # initialize an empty GRanges\n",
    "        for (name in names(named_grs)) {\n",
    "            # print(name)\n",
    "            gr <- named_grs[[name]]\n",
    "            # cat(\"Getting data from:\", name, \"\\n\")\n",
    "\n",
    "            gene_gr = gr[gr$gene_id == gene]\n",
    "\n",
    "            # Combine with existing\n",
    "            combined_gene_gr <- c(combined_gene_gr, gene_gr)\n",
    "            mcols(combined_gene_gr) <- mcols(combined_gene_gr)[, colSums(!is.na(mcols(combined_gene_gr))) > 0]\n",
    "            ranges(combined_gene_gr) <- IRanges(start(combined_gene_gr), width = 1)\n",
    "        }\n",
    "        \n",
    "        # print(combined_gene_gr)\n",
    "        # combined_gene_gr$test_description <- gsub(\"C of \", \"\", combined_gene_gr$test_description)\n",
    "        combined_gene_gr$TestParameters <- gsub(\"C of \", \"\", combined_gene_gr$TestParameters)\n",
    "        # print(combined_gene_gr)\n",
    "        \n",
    "        # Get colour for modkit vs minfi\n",
    "        combined_gene_gr$color <- ifelse(grepl(\"modkit\", combined_gene_gr$source), \"#aa46e9\",\n",
    "            ifelse(grepl(\"minfi\", combined_gene_gr$source), \"#d73c3c\", NA)\n",
    "        )\n",
    "        # Get shape depending on if up or down meth\n",
    "        combined_gene_gr$shape <- ifelse(grepl(\"up\", combined_gene_gr$source), \"triangle_point_up\",\n",
    "            ifelse(grepl(\"down\", combined_gene_gr$source), \"triangle_point_down\", NA)\n",
    "        )\n",
    "        # Change height to reflect effect size\n",
    "        names(mcols(combined_gene_gr))[names(mcols(combined_gene_gr)) == \"score\"] <- \"significance_score\"\n",
    "        # names(mcols(combined_gene_gr))[names(mcols(combined_gene_gr)) == \"balanced_effect_size\"] <- \"score\"\n",
    "        combined_gene_gr$score = abs(combined_gene_gr$balanced_effect_size)*100\n",
    "        # combined_gene_gr$names = combined_gene_gr$TestParameters\n",
    "        combined_gene_gr$label.parameter.label <- combined_gene_gr$TestParameters\n",
    "        names(combined_gene_gr) <- combined_gene_gr$name\n",
    "        # combined_gene_gr$label.parameter.rot <- 45\n",
    "\n",
    "\n",
    "        # print(paste0(\"DMR data:\"))\n",
    "        # print(combined_gene_gr)\n",
    "\n",
    "        gene_features = get_main_transcript_with_regulatory_regions(txdb = annotations_T2T, gene_name = gene)\n",
    "\n",
    "        # Add elements to gene_features\n",
    "        mcols(gene_features)$height <- NA_real_  # initialize\n",
    "        mcols(gene_features)$height[mcols(gene_features)$feature == \"exon\"] <- 0.05\n",
    "        mcols(gene_features)$height[mcols(gene_features)$feature == \"regulatory\"] <- 0.02\n",
    "\n",
    "        mcols(gene_features)$color <- NA_real_  # initialize\n",
    "        mcols(gene_features)$color[mcols(gene_features)$feature == \"exon\"] <- \"lightblue\"\n",
    "        mcols(gene_features)$color[mcols(gene_features)$feature == \"regulatory\"] <- \"orange\"\n",
    "        mcols(gene_features)$fill <- NA_real_ # initialize\n",
    "        mcols(gene_features)$fill[mcols(gene_features)$feature == \"exon\"] <- \"lightblue\"\n",
    "        mcols(gene_features)$fill[mcols(gene_features)$feature == \"regulatory\"] <- \"orange\"\n",
    "\n",
    "        mcols(gene_features)$names <- NA_real_ # initialize\n",
    "        mcols(gene_features)$names[mcols(gene_features)$feature == \"exon\"] <- \"Exon\"\n",
    "        mcols(gene_features)$names[mcols(gene_features)$feature == \"regulatory\"] <- \"Regulatory\"\n",
    "\n",
    "        # Order gene_features\n",
    "        gene_features = gene_features[order(seqnames(gene_features), start(gene_features)), ]\n",
    "\n",
    "        # print(gene_features)\n",
    "        \n",
    "        # get x_axis\n",
    "        round_down <- function(x, base = 500) {\n",
    "            floor(x / base) * base\n",
    "        }\n",
    "        round_up <- function(x, base = 500) {\n",
    "            ceiling(x / base) * base\n",
    "        }\n",
    "\n",
    "\n",
    "        all_locs = c(start(gene_features), end(gene_features))\n",
    "        min_xaxis = min(all_locs)\n",
    "        max_xaxis = max(all_locs)\n",
    "        # Round both to the nearest 200\n",
    "        start_rounded <- round_down(min_xaxis)\n",
    "        end_rounded <- round_up(max_xaxis)\n",
    "\n",
    "        x_axis = seq(from = start_rounded, to = end_rounded, by = 2000)\n",
    "\n",
    "        plot_filename = paste0(getwd(), \"/plots/\", gene, \".lolliplot.png\")\n",
    "        png(plot_filename, width = 1200, height = 830, res = 150)\n",
    "        lolliplot(combined_gene_gr, gene_features,\n",
    "            ylab = \"Effect Size\", xaxis = x_axis, legend = legend,\n",
    "        )\n",
    "        grid.text(paste0(\"Gene: \", gene), x = .5, y = 0.98, just = \"top\")\n",
    "        dev.off()\n",
    "\n",
    "        # Define the region you want to zoom in on\n",
    "        data_point_gr = reduce(combined_gene_gr)\n",
    "        zoom_range <- GRanges(\n",
    "            seqnames(data_point_gr)[1], IRanges(start(data_point_gr)[1] - 10, end(data_point_gr)[1] + 10)\n",
    "        ) # example exon\n",
    "        plot_filename <- paste0(getwd(), \"/plots/\", gene, \".lolliplot.zoom.png\")\n",
    "        # Wrap the plotting in tryCatch\n",
    "        tryCatch({\n",
    "            png(plot_filename, width = 1200, height = 830, res = 150)\n",
    "            lolliplot(combined_gene_gr, gene_features, ranges = zoom_range, ylab = \"Effect Size\")\n",
    "            grid.text(paste0(\"Gene: \", gene), x = .5, y = 0.98, just = \"top\")\n",
    "            dev.off()\n",
    "        }, error = function(e) {\n",
    "            message(\"Skipping zoom plot for \", gene, \": \", conditionMessage(e))\n",
    "            if (dev.cur() != 1) dev.off()  # Ensure device is closed\n",
    "            if (file.exists(plot_filename)) file.remove(plot_filename)  # Remove partial file\n",
    "        })\n",
    "        # break\n",
    "    }\n",
    "})"
   ]
  },
  {
   "cell_type": "markdown",
   "metadata": {},
   "source": [
    "# GO and KEGG\n",
    "\n",
    "Groups to analyse:  \n",
    "- all of them together\n",
    "- A mods up\n",
    "- A mods down\n",
    "- hmC mods up\n",
    "- hmC down\n",
    "- mC mods up\n",
    "- mC mods down"
   ]
  },
  {
   "cell_type": "code",
   "execution_count": 22,
   "metadata": {
    "vscode": {
     "languageId": "r"
    }
   },
   "outputs": [
    {
     "name": "stdout",
     "output_type": "stream",
     "text": [
      "[1] \"test13_mc\"\n",
      "[1] \"test13_hmc\"\n",
      "[1] \"test14_mc\"\n",
      "[1] \"test14_hmc\"\n",
      "[1] \"test16_mc\"\n",
      "[1] \"test16_hmc\"\n",
      "[1] \"test4\"\n",
      "[1] \"test7\"\n",
      "[1] \"test11\"\n",
      "[1] \"test12\"\n"
     ]
    }
   ],
   "source": [
    "genes_from_all_tests_geneIDs = data.frame()\n",
    "genes_from_all_tests = c()\n",
    "genes_from_Amods_up = c()\n",
    "genes_from_Amods_down = c()\n",
    "genes_from_hmCmods_up= c()\n",
    "genes_from_hmCmods_down = c()\n",
    "genes_from_mCmods_up= c()\n",
    "genes_from_mCmods_down = c()\n",
    "\n",
    "for (name in names(named_grs)) {\n",
    "    print(name)\n",
    "    gr <- named_grs[[name]]\n",
    "    \n",
    "    # Convert WASH9P to 100996442 in gene_id column\n",
    "    mcols(gr)$EntrezID[mcols(gr)$EntrezID == \"WASH9P\"] <- \"100996442\"\n",
    "\n",
    "    # Extract ENTREZID for all rows\n",
    "    all_genes <- mcols(gr)$EntrezID\n",
    "    genes_from_all_tests <- c(genes_from_all_tests, na.omit(all_genes))\n",
    "    # Extract gene_id for all rows\n",
    "    df <- data.frame(\n",
    "        gene_id = mcols(gr)$gene_id,\n",
    "        EntrezID = mcols(gr)$EntrezID\n",
    "    )\n",
    "\n",
    "    # Define shorthand\n",
    "    desc <- mcols(gr)$source\n",
    "    modtype <- mcols(gr)$TestParameters\n",
    "\n",
    "    # Filter and extract based on combined conditions\n",
    "    amods_up <- na.omit(mcols(gr)[grepl(\"up\", desc, ignore.case = TRUE) & grepl(\"6mA\", modtype), \"EntrezID\"])\n",
    "    amods_down <- na.omit(mcols(gr)[grepl(\"down\", desc, ignore.case = TRUE) & grepl(\"6mA\", modtype), \"EntrezID\"])\n",
    "    \n",
    "    hmcmods_up <- na.omit(mcols(gr)[grepl(\"up\", desc, ignore.case = TRUE) & grepl(\"5hmC\", modtype), \"EntrezID\"])\n",
    "    hmcmods_down <- na.omit(mcols(gr)[grepl(\"down\", desc, ignore.case = TRUE) & grepl(\"5hmC\", modtype), \"EntrezID\"])\n",
    "    \n",
    "    mcmods_up <- na.omit(mcols(gr)[grepl(\"up\", desc, ignore.case = TRUE) & grepl(\"5mC\", modtype), \"EntrezID\"])\n",
    "    mcmods_down <- na.omit(mcols(gr)[grepl(\"down\", desc, ignore.case = TRUE) & grepl(\"5mC\", modtype), \"EntrezID\"])\n",
    "    \n",
    "    # Add to specific gene lists\n",
    "    genes_from_Amods_up <- c(genes_from_Amods_up, amods_up)\n",
    "    genes_from_Amods_down <- c(genes_from_Amods_down, amods_down)\n",
    "    genes_from_hmCmods_up <- c(genes_from_hmCmods_up, hmcmods_up)\n",
    "    genes_from_hmCmods_down <- c(genes_from_hmCmods_down, hmcmods_down)\n",
    "    genes_from_mCmods_up <- c(genes_from_mCmods_up, mcmods_up)\n",
    "    genes_from_mCmods_down <- c(genes_from_mCmods_down, mcmods_down)\n",
    "\n",
    "    # Add all found genes from the above to the master list\n",
    "    genes_from_all_tests <- c(genes_from_all_tests, amods_up, amods_down, hmcmods_up, hmcmods_down, mcmods_up, mcmods_down)\n",
    "\n",
    "    # add to geneid df\n",
    "    genes_from_all_tests_geneIDs <- rbind(genes_from_all_tests_geneIDs, df)\n",
    "}\n",
    "\n",
    "# Deduplicate everything\n",
    "genes_from_all_tests <- unique(genes_from_all_tests)\n",
    "genes_from_Amods_up <- unique(genes_from_Amods_up)\n",
    "genes_from_Amods_down <- unique(genes_from_Amods_down)\n",
    "genes_from_hmCmods_up <- unique(genes_from_hmCmods_up)\n",
    "genes_from_hmCmods_down <- unique(genes_from_hmCmods_down)\n",
    "genes_from_mCmods_up <- unique(genes_from_mCmods_up)\n",
    "genes_from_mCmods_down <- unique(genes_from_mCmods_down)\n"
   ]
  },
  {
   "cell_type": "code",
   "execution_count": 50,
   "metadata": {
    "vscode": {
     "languageId": "r"
    }
   },
   "outputs": [
    {
     "name": "stdout",
     "output_type": "stream",
     "text": [
      "[1] \"110255164\" \"100049076\" \"374819\"    \"727764\"    \"124905154\" \"110255163\"\n",
      "[1] \"106631780\" \"106631778\" \"110255163\" \"79844\"     \"124904768\" \"51575\"    \n",
      " [1] \"64778\"     \"105370291\" \"259232\"    \"6627\"      \"388533\"    \"54938\"    \n",
      " [7] \"124904790\" \"162989\"    \"25865\"     \"59285\"     \"164395\"    \"100128890\"\n",
      "[13] \"106631779\" \"124904712\" \"653149\"    \"80154\"     \"83473\"    \n",
      "[1] \"2195\"   \"55311\"  \"284751\" \"28231\"  \"126017\" \"440993\"\n",
      " [1] \"105373215\" \"105373456\" \"79925\"     \"3567\"      \"402665\"    \"10388\"    \n",
      " [7] \"124902789\" \"106631779\" \"105372363\" \"26065\"     \"284349\"    \"79673\"    \n",
      "[13] \"83473\"    \n",
      "[1] \"51070\"     \"641455\"    \"9310\"      \"105372429\" \"440993\"    \"23359\"    \n"
     ]
    }
   ],
   "source": [
    "print(genes_from_Amods_up)\n",
    "print(genes_from_Amods_down)\n",
    "print(genes_from_hmCmods_up)\n",
    "print(genes_from_hmCmods_down)\n",
    "print(genes_from_mCmods_up)\n",
    "print(genes_from_mCmods_down)"
   ]
  },
  {
   "cell_type": "code",
   "execution_count": 59,
   "metadata": {
    "vscode": {
     "languageId": "r"
    }
   },
   "outputs": [
    {
     "data": {
      "text/html": [
       "<table class=\"dataframe\">\n",
       "<caption>A data.frame: 82 × 2</caption>\n",
       "<thead>\n",
       "\t<tr><th scope=col>gene_id</th><th scope=col>EntrezID</th></tr>\n",
       "\t<tr><th scope=col>&lt;chr&gt;</th><th scope=col>&lt;chr&gt;</th></tr>\n",
       "</thead>\n",
       "<tbody>\n",
       "\t<tr><td>LOC105373215 </td><td>105373215</td></tr>\n",
       "\t<tr><td>LOC105373456 </td><td>105373456</td></tr>\n",
       "\t<tr><td>SPEF2        </td><td>79925    </td></tr>\n",
       "\t<tr><td>IL5          </td><td>3567     </td></tr>\n",
       "\t<tr><td>IGLON5       </td><td>402665   </td></tr>\n",
       "\t<tr><td>SYCP2        </td><td>10388    </td></tr>\n",
       "\t<tr><td>NOSIP        </td><td>51070    </td></tr>\n",
       "\t<tr><td>LOC124902789 </td><td>124902789</td></tr>\n",
       "\t<tr><td>LOFF_G0010304</td><td>106631779</td></tr>\n",
       "\t<tr><td>LINC01837    </td><td>105372363</td></tr>\n",
       "\t<tr><td>LSM14A       </td><td>26065    </td></tr>\n",
       "\t<tr><td>ZNF283       </td><td>284349   </td></tr>\n",
       "\t<tr><td>ZNF329       </td><td>79673    </td></tr>\n",
       "\t<tr><td>LOFF_G0010792</td><td>NA       </td></tr>\n",
       "\t<tr><td>POTEM        </td><td>641455   </td></tr>\n",
       "\t<tr><td>ZNF235       </td><td>9310     </td></tr>\n",
       "\t<tr><td>ZNF114-AS1   </td><td>105372429</td></tr>\n",
       "\t<tr><td>FNDC3B       </td><td>64778    </td></tr>\n",
       "\t<tr><td>LOC105370291 </td><td>105370291</td></tr>\n",
       "\t<tr><td>NALCN        </td><td>259232   </td></tr>\n",
       "\t<tr><td>SNRPA1       </td><td>6627     </td></tr>\n",
       "\t<tr><td>KRTDAP       </td><td>388533   </td></tr>\n",
       "\t<tr><td>SARS2        </td><td>54938    </td></tr>\n",
       "\t<tr><td>LOC124904790 </td><td>124904790</td></tr>\n",
       "\t<tr><td>DEDD2        </td><td>162989   </td></tr>\n",
       "\t<tr><td>PRKD2        </td><td>25865    </td></tr>\n",
       "\t<tr><td>CACNG6       </td><td>59285    </td></tr>\n",
       "\t<tr><td>TTLL9        </td><td>164395   </td></tr>\n",
       "\t<tr><td>FAT1         </td><td>2195     </td></tr>\n",
       "\t<tr><td>ZNF444       </td><td>55311    </td></tr>\n",
       "\t<tr><td>⋮</td><td>⋮</td></tr>\n",
       "\t<tr><td>LOFF_G0010363</td><td>NA       </td></tr>\n",
       "\t<tr><td>GOLGA2P10    </td><td>80154    </td></tr>\n",
       "\t<tr><td>LOFF_G0010875</td><td>NA       </td></tr>\n",
       "\t<tr><td>KATNAL2      </td><td>83473    </td></tr>\n",
       "\t<tr><td>MIR570HG     </td><td>440993   </td></tr>\n",
       "\t<tr><td>LOFF_G0010300</td><td>NA       </td></tr>\n",
       "\t<tr><td>KATNAL2      </td><td>83473    </td></tr>\n",
       "\t<tr><td>MIR570HG     </td><td>440993   </td></tr>\n",
       "\t<tr><td>LOFF_G0010292</td><td>106631780</td></tr>\n",
       "\t<tr><td>LOFF_G0010368</td><td>106631778</td></tr>\n",
       "\t<tr><td>LOFF_G0010788</td><td>110255163</td></tr>\n",
       "\t<tr><td>LOFF_G0010292</td><td>106631780</td></tr>\n",
       "\t<tr><td>LOFF_G0010368</td><td>106631778</td></tr>\n",
       "\t<tr><td>LOFF_G0010368</td><td>106631778</td></tr>\n",
       "\t<tr><td>LOFF_G0010788</td><td>110255163</td></tr>\n",
       "\t<tr><td>LOFF_G0010571</td><td>NA       </td></tr>\n",
       "\t<tr><td>LOFF_G0010787</td><td>110255164</td></tr>\n",
       "\t<tr><td>LOFF_G0010571</td><td>NA       </td></tr>\n",
       "\t<tr><td>GUSBP17      </td><td>100049076</td></tr>\n",
       "\t<tr><td>LRRC37A3     </td><td>374819   </td></tr>\n",
       "\t<tr><td>MAFIP        </td><td>727764   </td></tr>\n",
       "\t<tr><td>MAFIP        </td><td>727764   </td></tr>\n",
       "\t<tr><td>MAFIP        </td><td>727764   </td></tr>\n",
       "\t<tr><td>LOC124905154 </td><td>124905154</td></tr>\n",
       "\t<tr><td>ZDHHC11      </td><td>79844    </td></tr>\n",
       "\t<tr><td>LOC124904768 </td><td>124904768</td></tr>\n",
       "\t<tr><td>ESF1         </td><td>51575    </td></tr>\n",
       "\t<tr><td>LOFF_G0010788</td><td>110255163</td></tr>\n",
       "\t<tr><td>LOFF_G0010368</td><td>106631778</td></tr>\n",
       "\t<tr><td>LOFF_G0010788</td><td>110255163</td></tr>\n",
       "</tbody>\n",
       "</table>\n"
      ],
      "text/latex": [
       "A data.frame: 82 × 2\n",
       "\\begin{tabular}{ll}\n",
       " gene\\_id & EntrezID\\\\\n",
       " <chr> & <chr>\\\\\n",
       "\\hline\n",
       "\t LOC105373215  & 105373215\\\\\n",
       "\t LOC105373456  & 105373456\\\\\n",
       "\t SPEF2         & 79925    \\\\\n",
       "\t IL5           & 3567     \\\\\n",
       "\t IGLON5        & 402665   \\\\\n",
       "\t SYCP2         & 10388    \\\\\n",
       "\t NOSIP         & 51070    \\\\\n",
       "\t LOC124902789  & 124902789\\\\\n",
       "\t LOFF\\_G0010304 & 106631779\\\\\n",
       "\t LINC01837     & 105372363\\\\\n",
       "\t LSM14A        & 26065    \\\\\n",
       "\t ZNF283        & 284349   \\\\\n",
       "\t ZNF329        & 79673    \\\\\n",
       "\t LOFF\\_G0010792 & NA       \\\\\n",
       "\t POTEM         & 641455   \\\\\n",
       "\t ZNF235        & 9310     \\\\\n",
       "\t ZNF114-AS1    & 105372429\\\\\n",
       "\t FNDC3B        & 64778    \\\\\n",
       "\t LOC105370291  & 105370291\\\\\n",
       "\t NALCN         & 259232   \\\\\n",
       "\t SNRPA1        & 6627     \\\\\n",
       "\t KRTDAP        & 388533   \\\\\n",
       "\t SARS2         & 54938    \\\\\n",
       "\t LOC124904790  & 124904790\\\\\n",
       "\t DEDD2         & 162989   \\\\\n",
       "\t PRKD2         & 25865    \\\\\n",
       "\t CACNG6        & 59285    \\\\\n",
       "\t TTLL9         & 164395   \\\\\n",
       "\t FAT1          & 2195     \\\\\n",
       "\t ZNF444        & 55311    \\\\\n",
       "\t ⋮ & ⋮\\\\\n",
       "\t LOFF\\_G0010363 & NA       \\\\\n",
       "\t GOLGA2P10     & 80154    \\\\\n",
       "\t LOFF\\_G0010875 & NA       \\\\\n",
       "\t KATNAL2       & 83473    \\\\\n",
       "\t MIR570HG      & 440993   \\\\\n",
       "\t LOFF\\_G0010300 & NA       \\\\\n",
       "\t KATNAL2       & 83473    \\\\\n",
       "\t MIR570HG      & 440993   \\\\\n",
       "\t LOFF\\_G0010292 & 106631780\\\\\n",
       "\t LOFF\\_G0010368 & 106631778\\\\\n",
       "\t LOFF\\_G0010788 & 110255163\\\\\n",
       "\t LOFF\\_G0010292 & 106631780\\\\\n",
       "\t LOFF\\_G0010368 & 106631778\\\\\n",
       "\t LOFF\\_G0010368 & 106631778\\\\\n",
       "\t LOFF\\_G0010788 & 110255163\\\\\n",
       "\t LOFF\\_G0010571 & NA       \\\\\n",
       "\t LOFF\\_G0010787 & 110255164\\\\\n",
       "\t LOFF\\_G0010571 & NA       \\\\\n",
       "\t GUSBP17       & 100049076\\\\\n",
       "\t LRRC37A3      & 374819   \\\\\n",
       "\t MAFIP         & 727764   \\\\\n",
       "\t MAFIP         & 727764   \\\\\n",
       "\t MAFIP         & 727764   \\\\\n",
       "\t LOC124905154  & 124905154\\\\\n",
       "\t ZDHHC11       & 79844    \\\\\n",
       "\t LOC124904768  & 124904768\\\\\n",
       "\t ESF1          & 51575    \\\\\n",
       "\t LOFF\\_G0010788 & 110255163\\\\\n",
       "\t LOFF\\_G0010368 & 106631778\\\\\n",
       "\t LOFF\\_G0010788 & 110255163\\\\\n",
       "\\end{tabular}\n"
      ],
      "text/markdown": [
       "\n",
       "A data.frame: 82 × 2\n",
       "\n",
       "| gene_id &lt;chr&gt; | EntrezID &lt;chr&gt; |\n",
       "|---|---|\n",
       "| LOC105373215  | 105373215 |\n",
       "| LOC105373456  | 105373456 |\n",
       "| SPEF2         | 79925     |\n",
       "| IL5           | 3567      |\n",
       "| IGLON5        | 402665    |\n",
       "| SYCP2         | 10388     |\n",
       "| NOSIP         | 51070     |\n",
       "| LOC124902789  | 124902789 |\n",
       "| LOFF_G0010304 | 106631779 |\n",
       "| LINC01837     | 105372363 |\n",
       "| LSM14A        | 26065     |\n",
       "| ZNF283        | 284349    |\n",
       "| ZNF329        | 79673     |\n",
       "| LOFF_G0010792 | NA        |\n",
       "| POTEM         | 641455    |\n",
       "| ZNF235        | 9310      |\n",
       "| ZNF114-AS1    | 105372429 |\n",
       "| FNDC3B        | 64778     |\n",
       "| LOC105370291  | 105370291 |\n",
       "| NALCN         | 259232    |\n",
       "| SNRPA1        | 6627      |\n",
       "| KRTDAP        | 388533    |\n",
       "| SARS2         | 54938     |\n",
       "| LOC124904790  | 124904790 |\n",
       "| DEDD2         | 162989    |\n",
       "| PRKD2         | 25865     |\n",
       "| CACNG6        | 59285     |\n",
       "| TTLL9         | 164395    |\n",
       "| FAT1          | 2195      |\n",
       "| ZNF444        | 55311     |\n",
       "| ⋮ | ⋮ |\n",
       "| LOFF_G0010363 | NA        |\n",
       "| GOLGA2P10     | 80154     |\n",
       "| LOFF_G0010875 | NA        |\n",
       "| KATNAL2       | 83473     |\n",
       "| MIR570HG      | 440993    |\n",
       "| LOFF_G0010300 | NA        |\n",
       "| KATNAL2       | 83473     |\n",
       "| MIR570HG      | 440993    |\n",
       "| LOFF_G0010292 | 106631780 |\n",
       "| LOFF_G0010368 | 106631778 |\n",
       "| LOFF_G0010788 | 110255163 |\n",
       "| LOFF_G0010292 | 106631780 |\n",
       "| LOFF_G0010368 | 106631778 |\n",
       "| LOFF_G0010368 | 106631778 |\n",
       "| LOFF_G0010788 | 110255163 |\n",
       "| LOFF_G0010571 | NA        |\n",
       "| LOFF_G0010787 | 110255164 |\n",
       "| LOFF_G0010571 | NA        |\n",
       "| GUSBP17       | 100049076 |\n",
       "| LRRC37A3      | 374819    |\n",
       "| MAFIP         | 727764    |\n",
       "| MAFIP         | 727764    |\n",
       "| MAFIP         | 727764    |\n",
       "| LOC124905154  | 124905154 |\n",
       "| ZDHHC11       | 79844     |\n",
       "| LOC124904768  | 124904768 |\n",
       "| ESF1          | 51575     |\n",
       "| LOFF_G0010788 | 110255163 |\n",
       "| LOFF_G0010368 | 106631778 |\n",
       "| LOFF_G0010788 | 110255163 |\n",
       "\n"
      ],
      "text/plain": [
       "   gene_id       EntrezID \n",
       "1  LOC105373215  105373215\n",
       "2  LOC105373456  105373456\n",
       "3  SPEF2         79925    \n",
       "4  IL5           3567     \n",
       "5  IGLON5        402665   \n",
       "6  SYCP2         10388    \n",
       "7  NOSIP         51070    \n",
       "8  LOC124902789  124902789\n",
       "9  LOFF_G0010304 106631779\n",
       "10 LINC01837     105372363\n",
       "11 LSM14A        26065    \n",
       "12 ZNF283        284349   \n",
       "13 ZNF329        79673    \n",
       "14 LOFF_G0010792 NA       \n",
       "15 POTEM         641455   \n",
       "16 ZNF235        9310     \n",
       "17 ZNF114-AS1    105372429\n",
       "18 FNDC3B        64778    \n",
       "19 LOC105370291  105370291\n",
       "20 NALCN         259232   \n",
       "21 SNRPA1        6627     \n",
       "22 KRTDAP        388533   \n",
       "23 SARS2         54938    \n",
       "24 LOC124904790  124904790\n",
       "25 DEDD2         162989   \n",
       "26 PRKD2         25865    \n",
       "27 CACNG6        59285    \n",
       "28 TTLL9         164395   \n",
       "29 FAT1          2195     \n",
       "30 ZNF444        55311    \n",
       "⋮  ⋮             ⋮        \n",
       "53 LOFF_G0010363 NA       \n",
       "54 GOLGA2P10     80154    \n",
       "55 LOFF_G0010875 NA       \n",
       "56 KATNAL2       83473    \n",
       "57 MIR570HG      440993   \n",
       "58 LOFF_G0010300 NA       \n",
       "59 KATNAL2       83473    \n",
       "60 MIR570HG      440993   \n",
       "61 LOFF_G0010292 106631780\n",
       "62 LOFF_G0010368 106631778\n",
       "63 LOFF_G0010788 110255163\n",
       "64 LOFF_G0010292 106631780\n",
       "65 LOFF_G0010368 106631778\n",
       "66 LOFF_G0010368 106631778\n",
       "67 LOFF_G0010788 110255163\n",
       "68 LOFF_G0010571 NA       \n",
       "69 LOFF_G0010787 110255164\n",
       "70 LOFF_G0010571 NA       \n",
       "71 GUSBP17       100049076\n",
       "72 LRRC37A3      374819   \n",
       "73 MAFIP         727764   \n",
       "74 MAFIP         727764   \n",
       "75 MAFIP         727764   \n",
       "76 LOC124905154  124905154\n",
       "77 ZDHHC11       79844    \n",
       "78 LOC124904768  124904768\n",
       "79 ESF1          51575    \n",
       "80 LOFF_G0010788 110255163\n",
       "81 LOFF_G0010368 106631778\n",
       "82 LOFF_G0010788 110255163"
      ]
     },
     "metadata": {},
     "output_type": "display_data"
    }
   ],
   "source": [
    "genes_from_all_tests_geneIDs"
   ]
  },
  {
   "cell_type": "code",
   "execution_count": null,
   "metadata": {
    "vscode": {
     "languageId": "r"
    }
   },
   "outputs": [],
   "source": [
    "get_go_and_kegg <- function(ENTREZ_gene_list, group_name) {\n",
    "    ################ Get GO annotations ################\n",
    "    go_path = paste0(group_name, \".go_annotation_results.tsv\")\n",
    "    goana_raw_result = goana(ENTREZ_gene_list)\n",
    "    goana_result = goana_raw_result[goana_raw_result$DE != 0, ]\n",
    "    goana_sig_result = goana_result[goana_result$P.DE < 0.05, ]\n",
    "    write.table(goana_sig_result, file = go_path, sep = \"\\t\", quote = FALSE)\n",
    "    # get input for gofigure\n",
    "    # goana_sig_result <- rename(goana_sig_result, all_of(c(\n",
    "        # \"GOterm\" = \"Term\", \"enrichment_P-value\" = \"P.DE\", \"NumGenes\" = \"DE\"\n",
    "    # )))\n",
    "    print(head(goana_sig_result))\n",
    "    goana_sig_result$Term = NULL\n",
    "    goana_sig_result$Ont = NULL\n",
    "    goana_sig_result$N = NULL\n",
    "    setcolorder(goana_sig_result, c(\"P.DE\", \"DE\"))\n",
    "    go_path = paste0(group_name, \".go_figure.tsv\")\n",
    "    write.table(goana_sig_result, file = go_path, sep = \"\\t\", quote = FALSE, col.names = FALSE)\n",
    "\n",
    "\n",
    "    ################ Get KEGG annotations ################\n",
    "    kegg_path = paste0(group_name, \".kegg_annotation_results.tsv\")\n",
    "    kegga_raw_result = kegga(ENTREZ_gene_list)\n",
    "    kegga_result = kegga_raw_result[kegga_raw_result$DE != 0, ]\n",
    "    kegga_sig_result = kegga_result[kegga_result$P.DE < 0.05, ]\n",
    "    write.table(kegga_sig_result, file = kegg_path, sep = '\\t', quote = FALSE)\n",
    "}\n"
   ]
  },
  {
   "cell_type": "code",
   "execution_count": 135,
   "metadata": {
    "vscode": {
     "languageId": "r"
    }
   },
   "outputs": [
    {
     "name": "stdout",
     "output_type": "stream",
     "text": [
      "                                                   Term Ont    N DE       P.DE\n",
      "GO:0002764 immune response-regulating signaling pathway  BP  586  5 0.01899490\n",
      "GO:0002253                activation of immune response  BP  592  5 0.01975576\n",
      "GO:0032101  regulation of response to external stimulus  BP 1150  7 0.03090216\n",
      "GO:0048584  positive regulation of response to stimulus  BP 2421 11 0.04938087\n",
      "GO:0034097                         response to cytokine  BP  977  6 0.04320645\n",
      "GO:1901652                          response to peptide  BP  992  6 0.04595844\n",
      "                                                  Term Ont   N DE       P.DE\n",
      "GO:0001539 cilium or flagellum-dependent cell motility  BP 218  1 0.02082729\n",
      "GO:0003341                             cilium movement  BP 258  1 0.02462501\n",
      "GO:0007018                  microtubule-based movement  BP 480  1 0.04556825\n",
      "GO:0060285              cilium-dependent cell motility  BP 218  1 0.02082729\n",
      "GO:0060294   cilium movement involved in cell motility  BP 215  1 0.02054216\n",
      "                                           Term Ont   N DE        P.DE\n",
      "GO:0043543                    protein acylation  BP  93  1 0.008911843\n",
      "GO:0042157        lipoprotein metabolic process  BP 102  1 0.009772162\n",
      "GO:0042158     lipoprotein biosynthetic process  BP  60  1 0.005754142\n",
      "GO:0009615                    response to virus  BP 425  1 0.040400793\n",
      "GO:0022613 ribonucleoprotein complex biogenesis  BP 492  1 0.046693846\n",
      "GO:0051607            defense response to virus  BP 320  1 0.030496901\n",
      "                                                   Term Ont    N DE        P.DE\n",
      "GO:0002764 immune response-regulating signaling pathway  BP  586  4 0.008431144\n",
      "GO:0050776                regulation of immune response  BP 1010  4 0.049811928\n",
      "GO:0002253                activation of immune response  BP  592  4 0.008732329\n",
      "GO:0002684 positive regulation of immune system process  BP 1140  5 0.019325470\n",
      "GO:0022414                         reproductive process  BP 1604  6 0.021135158\n",
      "GO:0050778       positive regulation of immune response  BP  798  4 0.023731093\n",
      "                                                           Term Ont    N DE\n",
      "GO:0032102 negative regulation of response to external stimulus  BP  437  2\n",
      "GO:0001525                                         angiogenesis  BP  637  3\n",
      "GO:0001568                             blood vessel development  BP  822  3\n",
      "GO:0001944                              vasculature development  BP  856  3\n",
      "GO:0009653                   anatomical structure morphogenesis  BP 2791  6\n",
      "GO:0030334                         regulation of cell migration  BP 1076  3\n",
      "                 P.DE\n",
      "GO:0032102 0.04342145\n",
      "GO:0001525 0.01184861\n",
      "GO:0001568 0.02336497\n",
      "GO:0001944 0.02597126\n",
      "GO:0009653 0.01389324\n",
      "GO:0030334 0.04654812\n",
      "                                                   Term Ont    N DE        P.DE\n",
      "GO:0002682          regulation of immune system process  BP 1658  5 0.026707208\n",
      "GO:0002764 immune response-regulating signaling pathway  BP  586  4 0.003032262\n",
      "GO:0050776                regulation of immune response  BP 1010  4 0.020004242\n",
      "GO:0002253                activation of immune response  BP  592  4 0.003145546\n",
      "GO:0002684 positive regulation of immune system process  BP 1140  5 0.005876843\n",
      "GO:0007548                          sex differentiation  BP  292  2 0.037636206\n",
      "                                                           Term Ont   N DE\n",
      "GO:0032102 negative regulation of response to external stimulus  BP 437  2\n",
      "GO:0001525                                         angiogenesis  BP 637  3\n",
      "GO:0001568                             blood vessel development  BP 822  3\n",
      "GO:0001944                              vasculature development  BP 856  3\n",
      "GO:0035239                                   tube morphogenesis  BP 966  3\n",
      "GO:0048514                           blood vessel morphogenesis  BP 728  3\n",
      "                 P.DE\n",
      "GO:0032102 0.04342145\n",
      "GO:0001525 0.01184861\n",
      "GO:0001568 0.02336497\n",
      "GO:0001944 0.02597126\n",
      "GO:0035239 0.03545832\n",
      "GO:0048514 0.01695615\n"
     ]
    }
   ],
   "source": [
    "get_go_and_kegg(ENTREZ_gene_list = genes_from_all_tests, group_name = \"all_tests\")\n",
    "get_go_and_kegg(ENTREZ_gene_list = genes_from_Amods_up, group_name = \"Amods_up\")\n",
    "get_go_and_kegg(ENTREZ_gene_list = genes_from_Amods_down, group_name = \"Amods_down\")\n",
    "get_go_and_kegg(ENTREZ_gene_list = genes_from_hmCmods_up, group_name = \"hmCmods_up\")\n",
    "get_go_and_kegg(ENTREZ_gene_list = genes_from_hmCmods_down, group_name = \"hmCmods_down\")\n",
    "get_go_and_kegg(ENTREZ_gene_list = genes_from_mCmods_up, group_name = \"mCmods_up\")\n",
    "get_go_and_kegg(ENTREZ_gene_list = genes_from_mCmods_down, group_name = \"mCmods_down\")"
   ]
  },
  {
   "cell_type": "code",
   "execution_count": 67,
   "metadata": {
    "vscode": {
     "languageId": "r"
    }
   },
   "outputs": [
    {
     "data": {
      "text/html": [
       "<table class=\"dataframe\">\n",
       "<caption>A data.frame: 22 × 5</caption>\n",
       "<thead>\n",
       "\t<tr><th></th><th scope=col>Term</th><th scope=col>Ont</th><th scope=col>N</th><th scope=col>DE</th><th scope=col>P.DE</th></tr>\n",
       "\t<tr><th></th><th scope=col>&lt;chr&gt;</th><th scope=col>&lt;chr&gt;</th><th scope=col>&lt;dbl&gt;</th><th scope=col>&lt;dbl&gt;</th><th scope=col>&lt;dbl&gt;</th></tr>\n",
       "</thead>\n",
       "<tbody>\n",
       "\t<tr><th scope=row>GO:0003412</th><td>establishment of epithelial cell apical/basal polarity involved in camera-type eye morphogenesis</td><td>BP</td><td>   1</td><td> 1</td><td>0.001392557</td></tr>\n",
       "\t<tr><th scope=row>GO:0070158</th><td>mitochondrial seryl-tRNA aminoacylation                                                         </td><td>BP</td><td>   1</td><td> 1</td><td>0.001392557</td></tr>\n",
       "\t<tr><th scope=row>GO:0005137</th><td>interleukin-5 receptor binding                                                                  </td><td>MF</td><td>   2</td><td> 1</td><td>0.002783242</td></tr>\n",
       "\t<tr><th scope=row>GO:0045645</th><td>positive regulation of eosinophil differentiation                                               </td><td>BP</td><td>   2</td><td> 1</td><td>0.002783242</td></tr>\n",
       "\t<tr><th scope=row>GO:0045643</th><td>regulation of eosinophil differentiation                                                        </td><td>BP</td><td>   2</td><td> 1</td><td>0.002783242</td></tr>\n",
       "\t<tr><th scope=row>GO:0004828</th><td>serine-tRNA ligase activity                                                                     </td><td>MF</td><td>   2</td><td> 1</td><td>0.002783242</td></tr>\n",
       "\t<tr><th scope=row>GO:0006434</th><td>seryl-tRNA aminoacylation                                                                       </td><td>BP</td><td>   2</td><td> 1</td><td>0.002783242</td></tr>\n",
       "\t<tr><th scope=row>GO:0060294</th><td>cilium movement involved in cell motility                                                       </td><td>BP</td><td> 215</td><td> 3</td><td>0.003252941</td></tr>\n",
       "\t<tr><th scope=row>GO:0003676</th><td>nucleic acid binding                                                                            </td><td>MF</td><td>4365</td><td>13</td><td>0.003316746</td></tr>\n",
       "\t<tr><th scope=row>GO:0001539</th><td>cilium or flagellum-dependent cell motility                                                     </td><td>BP</td><td> 218</td><td> 3</td><td>0.003382209</td></tr>\n",
       "\t<tr><th scope=row>GO:0060285</th><td>cilium-dependent cell motility                                                                  </td><td>BP</td><td> 218</td><td> 3</td><td>0.003382209</td></tr>\n",
       "\t<tr><th scope=row>GO:0097159</th><td>organic cyclic compound binding                                                                 </td><td>MF</td><td>6387</td><td>16</td><td>0.005201307</td></tr>\n",
       "\t<tr><th scope=row>GO:0003341</th><td>cilium movement                                                                                 </td><td>BP</td><td> 258</td><td> 3</td><td>0.005413134</td></tr>\n",
       "\t<tr><th scope=row>GO:0090598</th><td>male anatomical structure morphogenesis                                                         </td><td>BP</td><td>   4</td><td> 1</td><td>0.005559003</td></tr>\n",
       "\t<tr><th scope=row>GO:0048808</th><td>male genitalia morphogenesis                                                                    </td><td>BP</td><td>   4</td><td> 1</td><td>0.005559003</td></tr>\n",
       "\t<tr><th scope=row>GO:0008352</th><td>katanin complex                                                                                 </td><td>CC</td><td>   5</td><td> 1</td><td>0.006944085</td></tr>\n",
       "\t<tr><th scope=row>GO:0051598</th><td>meiotic recombination checkpoint signaling                                                      </td><td>BP</td><td>   5</td><td> 1</td><td>0.006944085</td></tr>\n",
       "\t<tr><th scope=row>GO:0038043</th><td>interleukin-5-mediated signaling pathway                                                        </td><td>BP</td><td>   6</td><td> 1</td><td>0.008327304</td></tr>\n",
       "\t<tr><th scope=row>GO:0032224</th><td>positive regulation of synaptic transmission, cholinergic                                       </td><td>BP</td><td>   6</td><td> 1</td><td>0.008327304</td></tr>\n",
       "\t<tr><th scope=row>GO:0030620</th><td>U2 snRNA binding                                                                                </td><td>MF</td><td>   6</td><td> 1</td><td>0.008327304</td></tr>\n",
       "\t<tr><th scope=row>GO:0030222</th><td>eosinophil differentiation                                                                      </td><td>BP</td><td>   7</td><td> 1</td><td>0.009708663</td></tr>\n",
       "\t<tr><th scope=row>GO:0051001</th><td>negative regulation of nitric-oxide synthase activity                                           </td><td>BP</td><td>   7</td><td> 1</td><td>0.009708663</td></tr>\n",
       "</tbody>\n",
       "</table>\n"
      ],
      "text/latex": [
       "A data.frame: 22 × 5\n",
       "\\begin{tabular}{r|lllll}\n",
       "  & Term & Ont & N & DE & P.DE\\\\\n",
       "  & <chr> & <chr> & <dbl> & <dbl> & <dbl>\\\\\n",
       "\\hline\n",
       "\tGO:0003412 & establishment of epithelial cell apical/basal polarity involved in camera-type eye morphogenesis & BP &    1 &  1 & 0.001392557\\\\\n",
       "\tGO:0070158 & mitochondrial seryl-tRNA aminoacylation                                                          & BP &    1 &  1 & 0.001392557\\\\\n",
       "\tGO:0005137 & interleukin-5 receptor binding                                                                   & MF &    2 &  1 & 0.002783242\\\\\n",
       "\tGO:0045645 & positive regulation of eosinophil differentiation                                                & BP &    2 &  1 & 0.002783242\\\\\n",
       "\tGO:0045643 & regulation of eosinophil differentiation                                                         & BP &    2 &  1 & 0.002783242\\\\\n",
       "\tGO:0004828 & serine-tRNA ligase activity                                                                      & MF &    2 &  1 & 0.002783242\\\\\n",
       "\tGO:0006434 & seryl-tRNA aminoacylation                                                                        & BP &    2 &  1 & 0.002783242\\\\\n",
       "\tGO:0060294 & cilium movement involved in cell motility                                                        & BP &  215 &  3 & 0.003252941\\\\\n",
       "\tGO:0003676 & nucleic acid binding                                                                             & MF & 4365 & 13 & 0.003316746\\\\\n",
       "\tGO:0001539 & cilium or flagellum-dependent cell motility                                                      & BP &  218 &  3 & 0.003382209\\\\\n",
       "\tGO:0060285 & cilium-dependent cell motility                                                                   & BP &  218 &  3 & 0.003382209\\\\\n",
       "\tGO:0097159 & organic cyclic compound binding                                                                  & MF & 6387 & 16 & 0.005201307\\\\\n",
       "\tGO:0003341 & cilium movement                                                                                  & BP &  258 &  3 & 0.005413134\\\\\n",
       "\tGO:0090598 & male anatomical structure morphogenesis                                                          & BP &    4 &  1 & 0.005559003\\\\\n",
       "\tGO:0048808 & male genitalia morphogenesis                                                                     & BP &    4 &  1 & 0.005559003\\\\\n",
       "\tGO:0008352 & katanin complex                                                                                  & CC &    5 &  1 & 0.006944085\\\\\n",
       "\tGO:0051598 & meiotic recombination checkpoint signaling                                                       & BP &    5 &  1 & 0.006944085\\\\\n",
       "\tGO:0038043 & interleukin-5-mediated signaling pathway                                                         & BP &    6 &  1 & 0.008327304\\\\\n",
       "\tGO:0032224 & positive regulation of synaptic transmission, cholinergic                                        & BP &    6 &  1 & 0.008327304\\\\\n",
       "\tGO:0030620 & U2 snRNA binding                                                                                 & MF &    6 &  1 & 0.008327304\\\\\n",
       "\tGO:0030222 & eosinophil differentiation                                                                       & BP &    7 &  1 & 0.009708663\\\\\n",
       "\tGO:0051001 & negative regulation of nitric-oxide synthase activity                                            & BP &    7 &  1 & 0.009708663\\\\\n",
       "\\end{tabular}\n"
      ],
      "text/markdown": [
       "\n",
       "A data.frame: 22 × 5\n",
       "\n",
       "| <!--/--> | Term &lt;chr&gt; | Ont &lt;chr&gt; | N &lt;dbl&gt; | DE &lt;dbl&gt; | P.DE &lt;dbl&gt; |\n",
       "|---|---|---|---|---|---|\n",
       "| GO:0003412 | establishment of epithelial cell apical/basal polarity involved in camera-type eye morphogenesis | BP |    1 |  1 | 0.001392557 |\n",
       "| GO:0070158 | mitochondrial seryl-tRNA aminoacylation                                                          | BP |    1 |  1 | 0.001392557 |\n",
       "| GO:0005137 | interleukin-5 receptor binding                                                                   | MF |    2 |  1 | 0.002783242 |\n",
       "| GO:0045645 | positive regulation of eosinophil differentiation                                                | BP |    2 |  1 | 0.002783242 |\n",
       "| GO:0045643 | regulation of eosinophil differentiation                                                         | BP |    2 |  1 | 0.002783242 |\n",
       "| GO:0004828 | serine-tRNA ligase activity                                                                      | MF |    2 |  1 | 0.002783242 |\n",
       "| GO:0006434 | seryl-tRNA aminoacylation                                                                        | BP |    2 |  1 | 0.002783242 |\n",
       "| GO:0060294 | cilium movement involved in cell motility                                                        | BP |  215 |  3 | 0.003252941 |\n",
       "| GO:0003676 | nucleic acid binding                                                                             | MF | 4365 | 13 | 0.003316746 |\n",
       "| GO:0001539 | cilium or flagellum-dependent cell motility                                                      | BP |  218 |  3 | 0.003382209 |\n",
       "| GO:0060285 | cilium-dependent cell motility                                                                   | BP |  218 |  3 | 0.003382209 |\n",
       "| GO:0097159 | organic cyclic compound binding                                                                  | MF | 6387 | 16 | 0.005201307 |\n",
       "| GO:0003341 | cilium movement                                                                                  | BP |  258 |  3 | 0.005413134 |\n",
       "| GO:0090598 | male anatomical structure morphogenesis                                                          | BP |    4 |  1 | 0.005559003 |\n",
       "| GO:0048808 | male genitalia morphogenesis                                                                     | BP |    4 |  1 | 0.005559003 |\n",
       "| GO:0008352 | katanin complex                                                                                  | CC |    5 |  1 | 0.006944085 |\n",
       "| GO:0051598 | meiotic recombination checkpoint signaling                                                       | BP |    5 |  1 | 0.006944085 |\n",
       "| GO:0038043 | interleukin-5-mediated signaling pathway                                                         | BP |    6 |  1 | 0.008327304 |\n",
       "| GO:0032224 | positive regulation of synaptic transmission, cholinergic                                        | BP |    6 |  1 | 0.008327304 |\n",
       "| GO:0030620 | U2 snRNA binding                                                                                 | MF |    6 |  1 | 0.008327304 |\n",
       "| GO:0030222 | eosinophil differentiation                                                                       | BP |    7 |  1 | 0.009708663 |\n",
       "| GO:0051001 | negative regulation of nitric-oxide synthase activity                                            | BP |    7 |  1 | 0.009708663 |\n",
       "\n"
      ],
      "text/plain": [
       "           Term                                                                                            \n",
       "GO:0003412 establishment of epithelial cell apical/basal polarity involved in camera-type eye morphogenesis\n",
       "GO:0070158 mitochondrial seryl-tRNA aminoacylation                                                         \n",
       "GO:0005137 interleukin-5 receptor binding                                                                  \n",
       "GO:0045645 positive regulation of eosinophil differentiation                                               \n",
       "GO:0045643 regulation of eosinophil differentiation                                                        \n",
       "GO:0004828 serine-tRNA ligase activity                                                                     \n",
       "GO:0006434 seryl-tRNA aminoacylation                                                                       \n",
       "GO:0060294 cilium movement involved in cell motility                                                       \n",
       "GO:0003676 nucleic acid binding                                                                            \n",
       "GO:0001539 cilium or flagellum-dependent cell motility                                                     \n",
       "GO:0060285 cilium-dependent cell motility                                                                  \n",
       "GO:0097159 organic cyclic compound binding                                                                 \n",
       "GO:0003341 cilium movement                                                                                 \n",
       "GO:0090598 male anatomical structure morphogenesis                                                         \n",
       "GO:0048808 male genitalia morphogenesis                                                                    \n",
       "GO:0008352 katanin complex                                                                                 \n",
       "GO:0051598 meiotic recombination checkpoint signaling                                                      \n",
       "GO:0038043 interleukin-5-mediated signaling pathway                                                        \n",
       "GO:0032224 positive regulation of synaptic transmission, cholinergic                                       \n",
       "GO:0030620 U2 snRNA binding                                                                                \n",
       "GO:0030222 eosinophil differentiation                                                                      \n",
       "GO:0051001 negative regulation of nitric-oxide synthase activity                                           \n",
       "           Ont N    DE P.DE       \n",
       "GO:0003412 BP     1  1 0.001392557\n",
       "GO:0070158 BP     1  1 0.001392557\n",
       "GO:0005137 MF     2  1 0.002783242\n",
       "GO:0045645 BP     2  1 0.002783242\n",
       "GO:0045643 BP     2  1 0.002783242\n",
       "GO:0004828 MF     2  1 0.002783242\n",
       "GO:0006434 BP     2  1 0.002783242\n",
       "GO:0060294 BP   215  3 0.003252941\n",
       "GO:0003676 MF  4365 13 0.003316746\n",
       "GO:0001539 BP   218  3 0.003382209\n",
       "GO:0060285 BP   218  3 0.003382209\n",
       "GO:0097159 MF  6387 16 0.005201307\n",
       "GO:0003341 BP   258  3 0.005413134\n",
       "GO:0090598 BP     4  1 0.005559003\n",
       "GO:0048808 BP     4  1 0.005559003\n",
       "GO:0008352 CC     5  1 0.006944085\n",
       "GO:0051598 BP     5  1 0.006944085\n",
       "GO:0038043 BP     6  1 0.008327304\n",
       "GO:0032224 BP     6  1 0.008327304\n",
       "GO:0030620 MF     6  1 0.008327304\n",
       "GO:0030222 BP     7  1 0.009708663\n",
       "GO:0051001 BP     7  1 0.009708663"
      ]
     },
     "metadata": {},
     "output_type": "display_data"
    }
   ],
   "source": [
    "all_test_topGO = topGO(goana(genes_from_all_tests), number = Inf)\n",
    "\n",
    "all_test_topGO = all_test_topGO[all_test_topGO$P.DE < 0.01, ]\n",
    "all_test_topGO"
   ]
  },
  {
   "cell_type": "code",
   "execution_count": null,
   "metadata": {
    "vscode": {
     "languageId": "r"
    }
   },
   "outputs": [],
   "source": [
    "# get top go and kegg\n",
    "\n",
    "get_go_and_kegg <- function(ENTREZ_gene_list, group_name) {\n",
    "    ################ Get GO annotations ################\n",
    "    # go_path = paste0(group_name, \".go_annotation_results.tsv\")\n",
    "    goana_raw_result = goana(ENTREZ_gene_list)\n",
    "    goana_result = goana_raw_result[goana_raw_result$DE != 0, ]\n",
    "    goana_sig_result = goana_result[goana_result$P.DE < 0.05, ]\n",
    "    # write.table(goana_sig_result, file = go_path, sep = \"\\t\", quote = FALSE)\n",
    "\n",
    "    goana_sig_result$Term = NULL\n",
    "    goana_sig_result$Ont = NULL\n",
    "    goana_sig_result$N = NULL\n",
    "    setcolorder(goana_sig_result, c(\"P.DE\", \"DE\"))\n",
    "    go_path = paste0(group_name, \".go_figure.tsv\")\n",
    "    # write.table(goana_sig_result, file = go_path, sep = \"\\t\", quote = FALSE, col.names = FALSE)\n",
    "\n",
    "\n",
    "    ################ Get KEGG annotations ################\n",
    "    kegg_path = paste0(group_name, \".kegg_annotation_results.tsv\")\n",
    "    kegga_raw_result = kegga(ENTREZ_gene_list)\n",
    "    kegga_result = kegga_raw_result[kegga_raw_result$DE != 0, ]\n",
    "    kegga_sig_result = kegga_result[kegga_result$P.DE < 0.05, ]\n",
    "    # write.table(kegga_sig_result, file = kegg_path, sep = '\\t', quote = FALSE)\n",
    "}"
   ]
  },
  {
   "cell_type": "markdown",
   "metadata": {},
   "source": [
    "#### KEGG"
   ]
  },
  {
   "cell_type": "code",
   "execution_count": 1,
   "metadata": {
    "vscode": {
     "languageId": "r"
    }
   },
   "outputs": [
    {
     "name": "stderr",
     "output_type": "stream",
     "text": [
      "\n",
      "\n",
      "clusterProfiler v4.14.0 Learn more at https://yulab-smu.top/contribution-knowledge-mining/\n",
      "\n",
      "Please cite:\n",
      "\n",
      "Guangchuang Yu, Li-Gen Wang, Yanyan Han and Qing-Yu He.\n",
      "clusterProfiler: an R package for comparing biological themes among\n",
      "gene clusters. OMICS: A Journal of Integrative Biology. 2012,\n",
      "16(5):284-287\n",
      "\n",
      "\n",
      "Attaching package: ‘clusterProfiler’\n",
      "\n",
      "\n",
      "The following object is masked from ‘package:stats’:\n",
      "\n",
      "    filter\n",
      "\n",
      "\n"
     ]
    }
   ],
   "source": [
    "library(clusterProfiler)\n",
    "library(ggplot2)"
   ]
  },
  {
   "cell_type": "code",
   "execution_count": 2,
   "metadata": {
    "vscode": {
     "languageId": "r"
    }
   },
   "outputs": [
    {
     "name": "stdout",
     "output_type": "stream",
     "text": [
      "[1] 6 4\n",
      "[1] 0 4\n",
      "[1] 1 4\n",
      "[1] 7 4\n",
      "[1] 4 4\n",
      "[1] 11  4\n",
      "[1] 4 4\n"
     ]
    },
    {
     "data": {
      "text/html": [
       "<table class=\"dataframe\">\n",
       "<caption>A data.frame: 33 × 6</caption>\n",
       "<thead>\n",
       "\t<tr><th></th><th scope=col>Pathway</th><th scope=col>N</th><th scope=col>DE</th><th scope=col>P.DE</th><th scope=col>GeneRatio</th><th scope=col>Group</th></tr>\n",
       "\t<tr><th></th><th scope=col>&lt;chr&gt;</th><th scope=col>&lt;int&gt;</th><th scope=col>&lt;int&gt;</th><th scope=col>&lt;dbl&gt;</th><th scope=col>&lt;dbl&gt;</th><th scope=col>&lt;chr&gt;</th></tr>\n",
       "</thead>\n",
       "<tbody>\n",
       "\t<tr><th scope=row>hsa04360</th><td>Axon guidance                               </td><td>184</td><td>2</td><td>0.040278987</td><td>0.01086957</td><td>all_tests   </td></tr>\n",
       "\t<tr><th scope=row>hsa04380</th><td>Osteoclast differentiation                  </td><td>143</td><td>2</td><td>0.025314879</td><td>0.01398601</td><td>all_tests   </td></tr>\n",
       "\t<tr><th scope=row>hsa04658</th><td>Th1 and Th2 cell differentiation            </td><td> 93</td><td>2</td><td>0.011218911</td><td>0.02150538</td><td>all_tests   </td></tr>\n",
       "\t<tr><th scope=row>hsa04660</th><td>T cell receptor signaling pathway           </td><td>122</td><td>2</td><td>0.018797512</td><td>0.01639344</td><td>all_tests   </td></tr>\n",
       "\t<tr><th scope=row>hsa04662</th><td>B cell receptor signaling pathway           </td><td> 91</td><td>2</td><td>0.010760737</td><td>0.02197802</td><td>all_tests   </td></tr>\n",
       "\t<tr><th scope=row>hsa04921</th><td>Oxytocin signaling pathway                  </td><td>155</td><td>3</td><td>0.002268424</td><td>0.01935484</td><td>all_tests   </td></tr>\n",
       "\t<tr><th scope=row>hsa04623</th><td>Cytosolic DNA-sensing pathway               </td><td> 83</td><td>1</td><td>0.009712146</td><td>0.01204819</td><td>Amods_down  </td></tr>\n",
       "\t<tr><th scope=row>hsa043801</th><td>Osteoclast differentiation                  </td><td>143</td><td>2</td><td>0.011457845</td><td>0.01398601</td><td>hmCmods_up  </td></tr>\n",
       "\t<tr><th scope=row>hsa046581</th><td>Th1 and Th2 cell differentiation            </td><td> 93</td><td>2</td><td>0.004981052</td><td>0.02150538</td><td>hmCmods_up  </td></tr>\n",
       "\t<tr><th scope=row>hsa046601</th><td>T cell receptor signaling pathway           </td><td>122</td><td>2</td><td>0.008439650</td><td>0.01639344</td><td>hmCmods_up  </td></tr>\n",
       "\t<tr><th scope=row>hsa046621</th><td>B cell receptor signaling pathway           </td><td> 91</td><td>2</td><td>0.004773940</td><td>0.02197802</td><td>hmCmods_up  </td></tr>\n",
       "\t<tr><th scope=row>hsa049211</th><td>Oxytocin signaling pathway                  </td><td>155</td><td>2</td><td>0.013368207</td><td>0.01290323</td><td>hmCmods_up  </td></tr>\n",
       "\t<tr><th scope=row>hsa05310</th><td>Asthma                                      </td><td> 32</td><td>1</td><td>0.036838816</td><td>0.03125000</td><td>hmCmods_up  </td></tr>\n",
       "\t<tr><th scope=row>hsa05330</th><td>Allograft rejection                         </td><td> 39</td><td>1</td><td>0.044732612</td><td>0.02564103</td><td>hmCmods_up  </td></tr>\n",
       "\t<tr><th scope=row>hsa00590</th><td>Arachidonic acid metabolism                 </td><td> 63</td><td>1</td><td>0.029168076</td><td>0.01587302</td><td>hmCmods_down</td></tr>\n",
       "\t<tr><th scope=row>hsa04713</th><td>Circadian entrainment                       </td><td> 97</td><td>1</td><td>0.044641911</td><td>0.01030928</td><td>hmCmods_down</td></tr>\n",
       "\t<tr><th scope=row>hsa04730</th><td>Long-term depression                        </td><td> 60</td><td>1</td><td>0.027793771</td><td>0.01666667</td><td>hmCmods_down</td></tr>\n",
       "\t<tr><th scope=row>hsa05223</th><td>Non-small cell lung cancer                  </td><td> 73</td><td>1</td><td>0.033738571</td><td>0.01369863</td><td>hmCmods_down</td></tr>\n",
       "\t<tr><th scope=row>hsa04370</th><td>VEGF signaling pathway                      </td><td> 60</td><td>1</td><td>0.041404377</td><td>0.01666667</td><td>mCmods_up   </td></tr>\n",
       "\t<tr><th scope=row>hsa043802</th><td>Osteoclast differentiation                  </td><td>143</td><td>2</td><td>0.003990804</td><td>0.01398601</td><td>mCmods_up   </td></tr>\n",
       "\t<tr><th scope=row>hsa046582</th><td>Th1 and Th2 cell differentiation            </td><td> 93</td><td>2</td><td>0.001708139</td><td>0.02150538</td><td>mCmods_up   </td></tr>\n",
       "\t<tr><th scope=row>hsa046602</th><td>T cell receptor signaling pathway           </td><td>122</td><td>2</td><td>0.002920426</td><td>0.01639344</td><td>mCmods_up   </td></tr>\n",
       "\t<tr><th scope=row>hsa046622</th><td>B cell receptor signaling pathway           </td><td> 91</td><td>2</td><td>0.001636096</td><td>0.02197802</td><td>mCmods_up   </td></tr>\n",
       "\t<tr><th scope=row>hsa04664</th><td>Fc epsilon RI signaling pathway             </td><td> 69</td><td>1</td><td>0.047489963</td><td>0.01449275</td><td>mCmods_up   </td></tr>\n",
       "\t<tr><th scope=row>hsa04672</th><td>Intestinal immune network for IgA production</td><td> 50</td><td>1</td><td>0.034604648</td><td>0.02000000</td><td>mCmods_up   </td></tr>\n",
       "\t<tr><th scope=row>hsa053101</th><td>Asthma                                      </td><td> 32</td><td>1</td><td>0.022263838</td><td>0.03125000</td><td>mCmods_up   </td></tr>\n",
       "\t<tr><th scope=row>hsa05320</th><td>Autoimmune thyroid disease                  </td><td> 54</td><td>1</td><td>0.037329347</td><td>0.01851852</td><td>mCmods_up   </td></tr>\n",
       "\t<tr><th scope=row>hsa05321</th><td>Inflammatory bowel disease                  </td><td> 66</td><td>1</td><td>0.045465022</td><td>0.01515152</td><td>mCmods_up   </td></tr>\n",
       "\t<tr><th scope=row>hsa053301</th><td>Allograft rejection                         </td><td> 39</td><td>1</td><td>0.027078569</td><td>0.02564103</td><td>mCmods_up   </td></tr>\n",
       "\t<tr><th scope=row>hsa005901</th><td>Arachidonic acid metabolism                 </td><td> 63</td><td>1</td><td>0.029168076</td><td>0.01587302</td><td>mCmods_down </td></tr>\n",
       "\t<tr><th scope=row>hsa047131</th><td>Circadian entrainment                       </td><td> 97</td><td>1</td><td>0.044641911</td><td>0.01030928</td><td>mCmods_down </td></tr>\n",
       "\t<tr><th scope=row>hsa047301</th><td>Long-term depression                        </td><td> 60</td><td>1</td><td>0.027793771</td><td>0.01666667</td><td>mCmods_down </td></tr>\n",
       "\t<tr><th scope=row>hsa052231</th><td>Non-small cell lung cancer                  </td><td> 73</td><td>1</td><td>0.033738571</td><td>0.01369863</td><td>mCmods_down </td></tr>\n",
       "</tbody>\n",
       "</table>\n"
      ],
      "text/latex": [
       "A data.frame: 33 × 6\n",
       "\\begin{tabular}{r|llllll}\n",
       "  & Pathway & N & DE & P.DE & GeneRatio & Group\\\\\n",
       "  & <chr> & <int> & <int> & <dbl> & <dbl> & <chr>\\\\\n",
       "\\hline\n",
       "\thsa04360 & Axon guidance                                & 184 & 2 & 0.040278987 & 0.01086957 & all\\_tests   \\\\\n",
       "\thsa04380 & Osteoclast differentiation                   & 143 & 2 & 0.025314879 & 0.01398601 & all\\_tests   \\\\\n",
       "\thsa04658 & Th1 and Th2 cell differentiation             &  93 & 2 & 0.011218911 & 0.02150538 & all\\_tests   \\\\\n",
       "\thsa04660 & T cell receptor signaling pathway            & 122 & 2 & 0.018797512 & 0.01639344 & all\\_tests   \\\\\n",
       "\thsa04662 & B cell receptor signaling pathway            &  91 & 2 & 0.010760737 & 0.02197802 & all\\_tests   \\\\\n",
       "\thsa04921 & Oxytocin signaling pathway                   & 155 & 3 & 0.002268424 & 0.01935484 & all\\_tests   \\\\\n",
       "\thsa04623 & Cytosolic DNA-sensing pathway                &  83 & 1 & 0.009712146 & 0.01204819 & Amods\\_down  \\\\\n",
       "\thsa043801 & Osteoclast differentiation                   & 143 & 2 & 0.011457845 & 0.01398601 & hmCmods\\_up  \\\\\n",
       "\thsa046581 & Th1 and Th2 cell differentiation             &  93 & 2 & 0.004981052 & 0.02150538 & hmCmods\\_up  \\\\\n",
       "\thsa046601 & T cell receptor signaling pathway            & 122 & 2 & 0.008439650 & 0.01639344 & hmCmods\\_up  \\\\\n",
       "\thsa046621 & B cell receptor signaling pathway            &  91 & 2 & 0.004773940 & 0.02197802 & hmCmods\\_up  \\\\\n",
       "\thsa049211 & Oxytocin signaling pathway                   & 155 & 2 & 0.013368207 & 0.01290323 & hmCmods\\_up  \\\\\n",
       "\thsa05310 & Asthma                                       &  32 & 1 & 0.036838816 & 0.03125000 & hmCmods\\_up  \\\\\n",
       "\thsa05330 & Allograft rejection                          &  39 & 1 & 0.044732612 & 0.02564103 & hmCmods\\_up  \\\\\n",
       "\thsa00590 & Arachidonic acid metabolism                  &  63 & 1 & 0.029168076 & 0.01587302 & hmCmods\\_down\\\\\n",
       "\thsa04713 & Circadian entrainment                        &  97 & 1 & 0.044641911 & 0.01030928 & hmCmods\\_down\\\\\n",
       "\thsa04730 & Long-term depression                         &  60 & 1 & 0.027793771 & 0.01666667 & hmCmods\\_down\\\\\n",
       "\thsa05223 & Non-small cell lung cancer                   &  73 & 1 & 0.033738571 & 0.01369863 & hmCmods\\_down\\\\\n",
       "\thsa04370 & VEGF signaling pathway                       &  60 & 1 & 0.041404377 & 0.01666667 & mCmods\\_up   \\\\\n",
       "\thsa043802 & Osteoclast differentiation                   & 143 & 2 & 0.003990804 & 0.01398601 & mCmods\\_up   \\\\\n",
       "\thsa046582 & Th1 and Th2 cell differentiation             &  93 & 2 & 0.001708139 & 0.02150538 & mCmods\\_up   \\\\\n",
       "\thsa046602 & T cell receptor signaling pathway            & 122 & 2 & 0.002920426 & 0.01639344 & mCmods\\_up   \\\\\n",
       "\thsa046622 & B cell receptor signaling pathway            &  91 & 2 & 0.001636096 & 0.02197802 & mCmods\\_up   \\\\\n",
       "\thsa04664 & Fc epsilon RI signaling pathway              &  69 & 1 & 0.047489963 & 0.01449275 & mCmods\\_up   \\\\\n",
       "\thsa04672 & Intestinal immune network for IgA production &  50 & 1 & 0.034604648 & 0.02000000 & mCmods\\_up   \\\\\n",
       "\thsa053101 & Asthma                                       &  32 & 1 & 0.022263838 & 0.03125000 & mCmods\\_up   \\\\\n",
       "\thsa05320 & Autoimmune thyroid disease                   &  54 & 1 & 0.037329347 & 0.01851852 & mCmods\\_up   \\\\\n",
       "\thsa05321 & Inflammatory bowel disease                   &  66 & 1 & 0.045465022 & 0.01515152 & mCmods\\_up   \\\\\n",
       "\thsa053301 & Allograft rejection                          &  39 & 1 & 0.027078569 & 0.02564103 & mCmods\\_up   \\\\\n",
       "\thsa005901 & Arachidonic acid metabolism                  &  63 & 1 & 0.029168076 & 0.01587302 & mCmods\\_down \\\\\n",
       "\thsa047131 & Circadian entrainment                        &  97 & 1 & 0.044641911 & 0.01030928 & mCmods\\_down \\\\\n",
       "\thsa047301 & Long-term depression                         &  60 & 1 & 0.027793771 & 0.01666667 & mCmods\\_down \\\\\n",
       "\thsa052231 & Non-small cell lung cancer                   &  73 & 1 & 0.033738571 & 0.01369863 & mCmods\\_down \\\\\n",
       "\\end{tabular}\n"
      ],
      "text/markdown": [
       "\n",
       "A data.frame: 33 × 6\n",
       "\n",
       "| <!--/--> | Pathway &lt;chr&gt; | N &lt;int&gt; | DE &lt;int&gt; | P.DE &lt;dbl&gt; | GeneRatio &lt;dbl&gt; | Group &lt;chr&gt; |\n",
       "|---|---|---|---|---|---|---|\n",
       "| hsa04360 | Axon guidance                                | 184 | 2 | 0.040278987 | 0.01086957 | all_tests    |\n",
       "| hsa04380 | Osteoclast differentiation                   | 143 | 2 | 0.025314879 | 0.01398601 | all_tests    |\n",
       "| hsa04658 | Th1 and Th2 cell differentiation             |  93 | 2 | 0.011218911 | 0.02150538 | all_tests    |\n",
       "| hsa04660 | T cell receptor signaling pathway            | 122 | 2 | 0.018797512 | 0.01639344 | all_tests    |\n",
       "| hsa04662 | B cell receptor signaling pathway            |  91 | 2 | 0.010760737 | 0.02197802 | all_tests    |\n",
       "| hsa04921 | Oxytocin signaling pathway                   | 155 | 3 | 0.002268424 | 0.01935484 | all_tests    |\n",
       "| hsa04623 | Cytosolic DNA-sensing pathway                |  83 | 1 | 0.009712146 | 0.01204819 | Amods_down   |\n",
       "| hsa043801 | Osteoclast differentiation                   | 143 | 2 | 0.011457845 | 0.01398601 | hmCmods_up   |\n",
       "| hsa046581 | Th1 and Th2 cell differentiation             |  93 | 2 | 0.004981052 | 0.02150538 | hmCmods_up   |\n",
       "| hsa046601 | T cell receptor signaling pathway            | 122 | 2 | 0.008439650 | 0.01639344 | hmCmods_up   |\n",
       "| hsa046621 | B cell receptor signaling pathway            |  91 | 2 | 0.004773940 | 0.02197802 | hmCmods_up   |\n",
       "| hsa049211 | Oxytocin signaling pathway                   | 155 | 2 | 0.013368207 | 0.01290323 | hmCmods_up   |\n",
       "| hsa05310 | Asthma                                       |  32 | 1 | 0.036838816 | 0.03125000 | hmCmods_up   |\n",
       "| hsa05330 | Allograft rejection                          |  39 | 1 | 0.044732612 | 0.02564103 | hmCmods_up   |\n",
       "| hsa00590 | Arachidonic acid metabolism                  |  63 | 1 | 0.029168076 | 0.01587302 | hmCmods_down |\n",
       "| hsa04713 | Circadian entrainment                        |  97 | 1 | 0.044641911 | 0.01030928 | hmCmods_down |\n",
       "| hsa04730 | Long-term depression                         |  60 | 1 | 0.027793771 | 0.01666667 | hmCmods_down |\n",
       "| hsa05223 | Non-small cell lung cancer                   |  73 | 1 | 0.033738571 | 0.01369863 | hmCmods_down |\n",
       "| hsa04370 | VEGF signaling pathway                       |  60 | 1 | 0.041404377 | 0.01666667 | mCmods_up    |\n",
       "| hsa043802 | Osteoclast differentiation                   | 143 | 2 | 0.003990804 | 0.01398601 | mCmods_up    |\n",
       "| hsa046582 | Th1 and Th2 cell differentiation             |  93 | 2 | 0.001708139 | 0.02150538 | mCmods_up    |\n",
       "| hsa046602 | T cell receptor signaling pathway            | 122 | 2 | 0.002920426 | 0.01639344 | mCmods_up    |\n",
       "| hsa046622 | B cell receptor signaling pathway            |  91 | 2 | 0.001636096 | 0.02197802 | mCmods_up    |\n",
       "| hsa04664 | Fc epsilon RI signaling pathway              |  69 | 1 | 0.047489963 | 0.01449275 | mCmods_up    |\n",
       "| hsa04672 | Intestinal immune network for IgA production |  50 | 1 | 0.034604648 | 0.02000000 | mCmods_up    |\n",
       "| hsa053101 | Asthma                                       |  32 | 1 | 0.022263838 | 0.03125000 | mCmods_up    |\n",
       "| hsa05320 | Autoimmune thyroid disease                   |  54 | 1 | 0.037329347 | 0.01851852 | mCmods_up    |\n",
       "| hsa05321 | Inflammatory bowel disease                   |  66 | 1 | 0.045465022 | 0.01515152 | mCmods_up    |\n",
       "| hsa053301 | Allograft rejection                          |  39 | 1 | 0.027078569 | 0.02564103 | mCmods_up    |\n",
       "| hsa005901 | Arachidonic acid metabolism                  |  63 | 1 | 0.029168076 | 0.01587302 | mCmods_down  |\n",
       "| hsa047131 | Circadian entrainment                        |  97 | 1 | 0.044641911 | 0.01030928 | mCmods_down  |\n",
       "| hsa047301 | Long-term depression                         |  60 | 1 | 0.027793771 | 0.01666667 | mCmods_down  |\n",
       "| hsa052231 | Non-small cell lung cancer                   |  73 | 1 | 0.033738571 | 0.01369863 | mCmods_down  |\n",
       "\n"
      ],
      "text/plain": [
       "          Pathway                                      N   DE P.DE       \n",
       "hsa04360  Axon guidance                                184 2  0.040278987\n",
       "hsa04380  Osteoclast differentiation                   143 2  0.025314879\n",
       "hsa04658  Th1 and Th2 cell differentiation              93 2  0.011218911\n",
       "hsa04660  T cell receptor signaling pathway            122 2  0.018797512\n",
       "hsa04662  B cell receptor signaling pathway             91 2  0.010760737\n",
       "hsa04921  Oxytocin signaling pathway                   155 3  0.002268424\n",
       "hsa04623  Cytosolic DNA-sensing pathway                 83 1  0.009712146\n",
       "hsa043801 Osteoclast differentiation                   143 2  0.011457845\n",
       "hsa046581 Th1 and Th2 cell differentiation              93 2  0.004981052\n",
       "hsa046601 T cell receptor signaling pathway            122 2  0.008439650\n",
       "hsa046621 B cell receptor signaling pathway             91 2  0.004773940\n",
       "hsa049211 Oxytocin signaling pathway                   155 2  0.013368207\n",
       "hsa05310  Asthma                                        32 1  0.036838816\n",
       "hsa05330  Allograft rejection                           39 1  0.044732612\n",
       "hsa00590  Arachidonic acid metabolism                   63 1  0.029168076\n",
       "hsa04713  Circadian entrainment                         97 1  0.044641911\n",
       "hsa04730  Long-term depression                          60 1  0.027793771\n",
       "hsa05223  Non-small cell lung cancer                    73 1  0.033738571\n",
       "hsa04370  VEGF signaling pathway                        60 1  0.041404377\n",
       "hsa043802 Osteoclast differentiation                   143 2  0.003990804\n",
       "hsa046582 Th1 and Th2 cell differentiation              93 2  0.001708139\n",
       "hsa046602 T cell receptor signaling pathway            122 2  0.002920426\n",
       "hsa046622 B cell receptor signaling pathway             91 2  0.001636096\n",
       "hsa04664  Fc epsilon RI signaling pathway               69 1  0.047489963\n",
       "hsa04672  Intestinal immune network for IgA production  50 1  0.034604648\n",
       "hsa053101 Asthma                                        32 1  0.022263838\n",
       "hsa05320  Autoimmune thyroid disease                    54 1  0.037329347\n",
       "hsa05321  Inflammatory bowel disease                    66 1  0.045465022\n",
       "hsa053301 Allograft rejection                           39 1  0.027078569\n",
       "hsa005901 Arachidonic acid metabolism                   63 1  0.029168076\n",
       "hsa047131 Circadian entrainment                         97 1  0.044641911\n",
       "hsa047301 Long-term depression                          60 1  0.027793771\n",
       "hsa052231 Non-small cell lung cancer                    73 1  0.033738571\n",
       "          GeneRatio  Group       \n",
       "hsa04360  0.01086957 all_tests   \n",
       "hsa04380  0.01398601 all_tests   \n",
       "hsa04658  0.02150538 all_tests   \n",
       "hsa04660  0.01639344 all_tests   \n",
       "hsa04662  0.02197802 all_tests   \n",
       "hsa04921  0.01935484 all_tests   \n",
       "hsa04623  0.01204819 Amods_down  \n",
       "hsa043801 0.01398601 hmCmods_up  \n",
       "hsa046581 0.02150538 hmCmods_up  \n",
       "hsa046601 0.01639344 hmCmods_up  \n",
       "hsa046621 0.02197802 hmCmods_up  \n",
       "hsa049211 0.01290323 hmCmods_up  \n",
       "hsa05310  0.03125000 hmCmods_up  \n",
       "hsa05330  0.02564103 hmCmods_up  \n",
       "hsa00590  0.01587302 hmCmods_down\n",
       "hsa04713  0.01030928 hmCmods_down\n",
       "hsa04730  0.01666667 hmCmods_down\n",
       "hsa05223  0.01369863 hmCmods_down\n",
       "hsa04370  0.01666667 mCmods_up   \n",
       "hsa043802 0.01398601 mCmods_up   \n",
       "hsa046582 0.02150538 mCmods_up   \n",
       "hsa046602 0.01639344 mCmods_up   \n",
       "hsa046622 0.02197802 mCmods_up   \n",
       "hsa04664  0.01449275 mCmods_up   \n",
       "hsa04672  0.02000000 mCmods_up   \n",
       "hsa053101 0.03125000 mCmods_up   \n",
       "hsa05320  0.01851852 mCmods_up   \n",
       "hsa05321  0.01515152 mCmods_up   \n",
       "hsa053301 0.02564103 mCmods_up   \n",
       "hsa005901 0.01587302 mCmods_down \n",
       "hsa047131 0.01030928 mCmods_down \n",
       "hsa047301 0.01666667 mCmods_down \n",
       "hsa052231 0.01369863 mCmods_down "
      ]
     },
     "metadata": {},
     "output_type": "display_data"
    }
   ],
   "source": [
    "bubble_df_kegg <- data.frame()\n",
    "groups = c(\"all_tests\", \"Amods_up\", \"Amods_down\", \"hmCmods_up\", \"hmCmods_down\", \"mCmods_up\", \"mCmods_down\")\n",
    "for (group_name in groups) {\n",
    "    kegg_path = paste0(group_name, \".kegg_annotation_results.tsv\")\n",
    "    kegg_results = read.csv(kegg_path, sep = \"\\t\")\n",
    "    print(dim(kegg_results))\n",
    "    if (dim(kegg_results)[1] == 0) {\n",
    "        next\n",
    "    }\n",
    "    kegg_results$GeneRatio <- kegg_results$DE / kegg_results$N\n",
    "    kegg_results$Group <- group_name\n",
    "    bubble_df_kegg <- rbind(bubble_df_kegg, kegg_results)\n",
    "}\n",
    "bubble_df_kegg"
   ]
  },
  {
   "cell_type": "code",
   "execution_count": null,
   "metadata": {
    "vscode": {
     "languageId": "r"
    }
   },
   "outputs": [],
   "source": [
    "# Replace \"old\" with \"new\" in column 'your_column'\n",
    "bubble_df_kegg_sig$Group <- gsub(\"all_tests\", \"All Contexts\", bubble_df_kegg_sig$Group)\n",
    "bubble_df_kegg_sig$Group <- gsub(\"Amods_down\", \"6mA Down\", bubble_df_kegg_sig$Group)\n",
    "bubble_df_kegg_sig$Group <- gsub(\"hmCmods_up\", \"5hmC Up\", bubble_df_kegg_sig$Group)\n",
    "bubble_df_kegg_sig$Group <- gsub(\"hmCmods_down\", \"5hmC Down\", bubble_df_kegg_sig$Group)\n",
    "bubble_df_kegg_sig$Group <- gsub(\"mCmods_up\", \"5mC Up\", bubble_df_kegg_sig$Group)\n",
    "bubble_df_kegg_sig$Group <- gsub(\"mCmods_down\", \"5mC Down\", bubble_df_kegg_sig$Group)\n",
    "bubble_df_kegg_sig"
   ]
  },
  {
   "cell_type": "markdown",
   "metadata": {},
   "source": [
    "#### Get genes associated with pathways"
   ]
  },
  {
   "cell_type": "code",
   "execution_count": 148,
   "metadata": {
    "vscode": {
     "languageId": "r"
    }
   },
   "outputs": [
    {
     "data": {
      "text/html": [
       "<style>\n",
       ".list-inline {list-style: none; margin:0; padding: 0}\n",
       ".list-inline>li {display: inline-block}\n",
       ".list-inline>li:not(:last-child)::after {content: \"\\00b7\"; padding: 0 .5ex}\n",
       "</style>\n",
       "<ol class=list-inline><li>104</li><li>2</li></ol>\n"
      ],
      "text/latex": [
       "\\begin{enumerate*}\n",
       "\\item 104\n",
       "\\item 2\n",
       "\\end{enumerate*}\n"
      ],
      "text/markdown": [
       "1. 104\n",
       "2. 2\n",
       "\n",
       "\n"
      ],
      "text/plain": [
       "[1] 104   2"
      ]
     },
     "metadata": {},
     "output_type": "display_data"
    },
    {
     "data": {
      "text/html": [
       "<table class=\"dataframe\">\n",
       "<caption>A data.frame: 6 × 2</caption>\n",
       "<thead>\n",
       "\t<tr><th></th><th scope=col>gene_id</th><th scope=col>EntrezID</th></tr>\n",
       "\t<tr><th></th><th scope=col>&lt;chr&gt;</th><th scope=col>&lt;chr&gt;</th></tr>\n",
       "</thead>\n",
       "<tbody>\n",
       "\t<tr><th scope=row>1</th><td>LOC105373215</td><td>105373215</td></tr>\n",
       "\t<tr><th scope=row>2</th><td>LOC105373456</td><td>105373456</td></tr>\n",
       "\t<tr><th scope=row>3</th><td>SPEF2       </td><td>79925    </td></tr>\n",
       "\t<tr><th scope=row>4</th><td>IL5         </td><td>3567     </td></tr>\n",
       "\t<tr><th scope=row>5</th><td>IGLON5      </td><td>402665   </td></tr>\n",
       "\t<tr><th scope=row>6</th><td>SYCP2       </td><td>10388    </td></tr>\n",
       "</tbody>\n",
       "</table>\n"
      ],
      "text/latex": [
       "A data.frame: 6 × 2\n",
       "\\begin{tabular}{r|ll}\n",
       "  & gene\\_id & EntrezID\\\\\n",
       "  & <chr> & <chr>\\\\\n",
       "\\hline\n",
       "\t1 & LOC105373215 & 105373215\\\\\n",
       "\t2 & LOC105373456 & 105373456\\\\\n",
       "\t3 & SPEF2        & 79925    \\\\\n",
       "\t4 & IL5          & 3567     \\\\\n",
       "\t5 & IGLON5       & 402665   \\\\\n",
       "\t6 & SYCP2        & 10388    \\\\\n",
       "\\end{tabular}\n"
      ],
      "text/markdown": [
       "\n",
       "A data.frame: 6 × 2\n",
       "\n",
       "| <!--/--> | gene_id &lt;chr&gt; | EntrezID &lt;chr&gt; |\n",
       "|---|---|---|\n",
       "| 1 | LOC105373215 | 105373215 |\n",
       "| 2 | LOC105373456 | 105373456 |\n",
       "| 3 | SPEF2        | 79925     |\n",
       "| 4 | IL5          | 3567      |\n",
       "| 5 | IGLON5       | 402665    |\n",
       "| 6 | SYCP2        | 10388     |\n",
       "\n"
      ],
      "text/plain": [
       "  gene_id      EntrezID \n",
       "1 LOC105373215 105373215\n",
       "2 LOC105373456 105373456\n",
       "3 SPEF2        79925    \n",
       "4 IL5          3567     \n",
       "5 IGLON5       402665   \n",
       "6 SYCP2        10388    "
      ]
     },
     "metadata": {},
     "output_type": "display_data"
    }
   ],
   "source": [
    "genes_from_all_tests_geneIDs <- unique(genes_from_all_tests_geneIDs)\n",
    "\n",
    "dim(genes_from_all_tests_geneIDs)\n",
    "head(genes_from_all_tests_geneIDs)"
   ]
  },
  {
   "cell_type": "code",
   "execution_count": null,
   "metadata": {
    "vscode": {
     "languageId": "r"
    }
   },
   "outputs": [
    {
     "name": "stdout",
     "output_type": "stream",
     "text": [
      "[1] \"All tests\"\n",
      " [1] \"105373215\" \"105373456\" \"79925\"     \"3567\"      \"402665\"    \"10388\"    \n",
      " [7] \"51070\"     \"124902789\" \"106631779\" \"105372363\" \"26065\"     \"284349\"   \n",
      "[13] \"79673\"     \"641455\"    \"9310\"      \"105372429\" \"64778\"     \"105370291\"\n",
      "[19] \"259232\"    \"6627\"      \"388533\"    \"54938\"     \"124904790\" \"162989\"   \n",
      "[25] \"25865\"     \"59285\"     \"164395\"    \"2195\"      \"55311\"     \"284751\"   \n",
      "[31] \"28231\"     \"126017\"    \"83473\"     \"440993\"    \"23359\"     \"100128890\"\n",
      "[37] \"124904712\" \"653149\"    \"80154\"     \"106631780\" \"106631778\" \"110255163\"\n",
      "[43] \"110255164\" \"100049076\" \"374819\"    \"727764\"    \"124905154\" \"79844\"    \n",
      "[49] \"124904768\" \"51575\"    \n",
      "[1] \"Increased 6mA\"\n",
      "[1] \"110255164\" \"100049076\" \"374819\"    \"727764\"    \"124905154\" \"110255163\"\n",
      "[1] \"Decreased 6mA\"\n",
      "[1] \"106631780\" \"106631778\" \"110255163\" \"79844\"     \"124904768\" \"51575\"    \n",
      "[1] \"Increased 5hmC\"\n",
      " [1] \"64778\"     \"105370291\" \"259232\"    \"6627\"      \"388533\"    \"54938\"    \n",
      " [7] \"124904790\" \"162989\"    \"25865\"     \"59285\"     \"164395\"    \"100128890\"\n",
      "[13] \"106631779\" \"124904712\" \"653149\"    \"80154\"     \"83473\"    \n",
      "[1] \"Decreased 5hmC\"\n",
      "[1] \"2195\"   \"55311\"  \"284751\" \"28231\"  \"126017\" \"440993\"\n",
      "[1] \"Increased 5mC\"\n",
      " [1] \"105373215\" \"105373456\" \"79925\"     \"3567\"      \"402665\"    \"10388\"    \n",
      " [7] \"124902789\" \"106631779\" \"105372363\" \"26065\"     \"284349\"    \"79673\"    \n",
      "[13] \"83473\"    \n",
      "[1] \"Decreased 5mC\"\n",
      "[1] \"51070\"     \"641455\"    \"9310\"      \"105372429\" \"440993\"    \"23359\"    \n"
     ]
    }
   ],
   "source": [
    "group_names = c(\"All tests\", \"Increased 6mA\", \"Decreased 6mA\", \"Increased 5hmC\", \"Decreased 5hmC\", \"Increased 5mC\", \"Decreased 5mC\")\n",
    "groups = list(genes_from_all_tests, genes_from_Amods_up, genes_from_Amods_down, genes_from_hmCmods_up, genes_from_hmCmods_down, genes_from_mCmods_up, genes_from_mCmods_down)\n",
    "\n",
    "results_df <- data.frame()\n",
    "\n",
    "for (i in seq_along(group_names)) {\n",
    "  group_name <- group_names[i]\n",
    "  #   if (group_name == \"All tests\") {\n",
    "  #     next\n",
    "  #   }\n",
    "  input_df <- groups[[i]]\n",
    "\n",
    "  print(group_name)\n",
    "  print(input_df)\n",
    "\n",
    "  for (go_key in rownames(bubble_df_go)) {\n",
    "    skip <- FALSE\n",
    "    go_desc <- bubble_df_go[go_key, \"Term\"]\n",
    "    x <- org.Hs.egGO2ALLEGS\n",
    "\n",
    "    # try the risky assignment\n",
    "    tryCatch(\n",
    "      {\n",
    "        Rkeys(x) <- go_key\n",
    "      },\n",
    "      error = function(e) {\n",
    "        #   message(\"Error processing item: \", e$message)\n",
    "        skip <<- TRUE\n",
    "      }\n",
    "    )\n",
    "\n",
    "    if (skip) next\n",
    "\n",
    "    go_term_allgenes <- mappedLkeys(x)\n",
    "    my_entrezids <- intersect(go_term_allgenes, input_df)\n",
    "    if (length(my_entrezids) == 0) {\n",
    "      next\n",
    "    }\n",
    "\n",
    "    matching_genes <- genes_from_all_tests_geneIDs %>%\n",
    "      filter(EntrezID %in% my_entrezids)\n",
    "\n",
    "    temp_df <- matching_genes %>%\n",
    "      mutate(GO_Term = go_key, GO_Description = go_desc) %>%\n",
    "      select(GO_Term, GO_Description, everything())\n",
    "\n",
    "    temp_df$EntrezID <- NULL\n",
    "    temp_df$TestDescription <- group_name\n",
    "\n",
    "    results_df <- bind_rows(results_df, temp_df)\n",
    "  }\n",
    "}\n"
   ]
  },
  {
   "cell_type": "markdown",
   "metadata": {},
   "source": [
    "## Get GO terms with mapped genes and test back to them"
   ]
  },
  {
   "cell_type": "code",
   "execution_count": 163,
   "metadata": {
    "vscode": {
     "languageId": "r"
    }
   },
   "outputs": [],
   "source": [
    "add_gene_ids <- function(all_test_top, group_name, input_df, kegg_test=FALSE) {\n",
    "    # group_names = c(\"All tests\", \"Increased 6mA\", \"Decreased 6mA\", \"Increased 5hmC\", \"Decreased 5hmC\", \"Increased 5mC\", \"Decreased 5mC\")\n",
    "    # groups = list(genes_from_all_tests, genes_from_Amods_up, genes_from_Amods_down, genes_from_hmCmods_up, genes_from_hmCmods_down, genes_from_mCmods_up, genes_from_mCmods_down)\n",
    "\n",
    "    results_df <- data.frame()\n",
    "\n",
    "    # for (i in seq_along(group_names)) {\n",
    "    # group_name <- group_names[i]\n",
    "    # input_df <- groups[[i]]\n",
    "\n",
    "    for (go_key in rownames(all_test_top)) {\n",
    "        skip <- FALSE\n",
    "        go_desc <- all_test_top[go_key, \"Term\"]\n",
    "        x <- org.Hs.egGO2ALLEGS\n",
    "\n",
    "        # try the risky assignment\n",
    "        tryCatch(\n",
    "            {\n",
    "                Rkeys(x) <- go_key\n",
    "            },\n",
    "            error = function(e) {\n",
    "                #   message(\"Error processing item: \", e$message)\n",
    "                skip <<- TRUE\n",
    "            }\n",
    "        )\n",
    "\n",
    "        if (skip) next\n",
    "\n",
    "        go_term_allgenes <- mappedLkeys(x)\n",
    "        my_entrezids <- intersect(go_term_allgenes, input_df)\n",
    "        if (length(my_entrezids) == 0) {\n",
    "            next\n",
    "        }\n",
    "\n",
    "        matching_genes <- genes_from_all_tests_geneIDs %>%\n",
    "            filter(EntrezID %in% my_entrezids)\n",
    "\n",
    "        temp_df <- matching_genes %>%\n",
    "            mutate(GO_Term = go_key, GO_Description = go_desc) %>%\n",
    "            select(GO_Term, GO_Description, everything())\n",
    "\n",
    "        temp_df$EntrezID <- NULL\n",
    "        temp_df$TestDescription <- group_name\n",
    "\n",
    "        results_df <- bind_rows(results_df, temp_df)\n",
    "    }\n",
    "    return(results_df)\n",
    "}\n"
   ]
  },
  {
   "cell_type": "markdown",
   "metadata": {},
   "source": [
    "Do bubble plot with go terms\n"
   ]
  },
  {
   "cell_type": "code",
   "execution_count": 23,
   "metadata": {
    "vscode": {
     "languageId": "r"
    }
   },
   "outputs": [],
   "source": [
    "# Do correction for pval\n",
    "get_go_and_kegg <- function(ENTREZ_gene_list, group_name) {\n",
    "    ################ Get GO annotations ################\n",
    "    go_path = paste0(group_name, \".go_annotation_results.20250507.tsv\")\n",
    "    goana_raw_result = goana(ENTREZ_gene_list)\n",
    "    goana_result = goana_raw_result[goana_raw_result$DE != 0, ]\n",
    "    # goana_sig_result = goana_result[goana_result$P.DE < 0.05, ]\n",
    "\n",
    "    goana_result$FDR_adjusted <- p.adjust(goana_result$P.DE, method = \"BH\")\n",
    "    goana_sig_result = goana_result[order(goana_result$FDR_adjusted), ]\n",
    "    goana_sig_result = goana_sig_result[goana_sig_result$\"FDR_adjusted\" < 0.05, ]\n",
    "\n",
    "    write.table(goana_sig_result, file = go_path, sep = \"\\t\", quote = FALSE)\n",
    "\n",
    "    ################ Get KEGG annotations ################\n",
    "    kegg_path = paste0(group_name, \".kegg_annotation_results.20250507.tsv\")\n",
    "    kegga_raw_result = kegga(ENTREZ_gene_list)\n",
    "    kegga_result = kegga_raw_result[kegga_raw_result$DE != 0, ]\n",
    "    # kegga_sig_result = kegga_result[kegga_result$P.DE < 0.05, ]\n",
    "    kegga_result$FDR_adjusted <- p.adjust(kegga_result$P.DE, method = \"BH\")\n",
    "    kegga_sig_result = kegga_result[order(kegga_result$FDR_adjusted), ]\n",
    "    kegga_sig_result = kegga_sig_result[kegga_sig_result$\"FDR_adjusted\" < 0.05, ]\n",
    "    write.table(kegga_sig_result, file = kegg_path, sep = '\\t', quote = FALSE)\n",
    "}\n",
    "\n",
    "get_go_and_kegg(ENTREZ_gene_list = genes_from_all_tests, group_name = \"all_tests\")\n",
    "get_go_and_kegg(ENTREZ_gene_list = genes_from_Amods_up, group_name = \"Amods_up\")\n",
    "get_go_and_kegg(ENTREZ_gene_list = genes_from_Amods_down, group_name = \"Amods_down\")\n",
    "get_go_and_kegg(ENTREZ_gene_list = genes_from_hmCmods_up, group_name = \"hmCmods_up\")\n",
    "get_go_and_kegg(ENTREZ_gene_list = genes_from_hmCmods_down, group_name = \"hmCmods_down\")\n",
    "get_go_and_kegg(ENTREZ_gene_list = genes_from_mCmods_up, group_name = \"mCmods_up\")\n",
    "get_go_and_kegg(ENTREZ_gene_list = genes_from_mCmods_down, group_name = \"mCmods_down\")\n"
   ]
  },
  {
   "cell_type": "code",
   "execution_count": 72,
   "metadata": {
    "vscode": {
     "languageId": "r"
    }
   },
   "outputs": [
    {
     "data": {
      "text/html": [
       "<table class=\"dataframe\">\n",
       "<caption>A data.frame: 6 × 6</caption>\n",
       "<thead>\n",
       "\t<tr><th></th><th scope=col>Term</th><th scope=col>Ont</th><th scope=col>N</th><th scope=col>DE</th><th scope=col>P.DE</th><th scope=col>FDR_adjusted</th></tr>\n",
       "\t<tr><th></th><th scope=col>&lt;chr&gt;</th><th scope=col>&lt;chr&gt;</th><th scope=col>&lt;int&gt;</th><th scope=col>&lt;int&gt;</th><th scope=col>&lt;dbl&gt;</th><th scope=col>&lt;dbl&gt;</th></tr>\n",
       "</thead>\n",
       "<tbody>\n",
       "\t<tr><th scope=row>GO:0050999</th><td>regulation of nitric-oxide synthase activity         </td><td>BP</td><td>25</td><td>1</td><td>0.003597291</td><td>0.08183838</td></tr>\n",
       "\t<tr><th scope=row>GO:0032769</th><td>negative regulation of monooxygenase activity        </td><td>BP</td><td>13</td><td>1</td><td>0.001871670</td><td>0.08183838</td></tr>\n",
       "\t<tr><th scope=row>GO:0051001</th><td>negative regulation of nitric-oxide synthase activity</td><td>BP</td><td> 7</td><td>1</td><td>0.001008113</td><td>0.08183838</td></tr>\n",
       "\t<tr><th scope=row>GO:0051354</th><td>negative regulation of oxidoreductase activity       </td><td>BP</td><td>23</td><td>1</td><td>0.003309826</td><td>0.08183838</td></tr>\n",
       "\t<tr><th scope=row>GO:0051341</th><td>regulation of oxidoreductase activity                </td><td>BP</td><td>66</td><td>1</td><td>0.009478156</td><td>0.09872928</td></tr>\n",
       "\t<tr><th scope=row>GO:0045428</th><td>regulation of nitric oxide biosynthetic process      </td><td>BP</td><td>66</td><td>1</td><td>0.009478156</td><td>0.09872928</td></tr>\n",
       "</tbody>\n",
       "</table>\n"
      ],
      "text/latex": [
       "A data.frame: 6 × 6\n",
       "\\begin{tabular}{r|llllll}\n",
       "  & Term & Ont & N & DE & P.DE & FDR\\_adjusted\\\\\n",
       "  & <chr> & <chr> & <int> & <int> & <dbl> & <dbl>\\\\\n",
       "\\hline\n",
       "\tGO:0050999 & regulation of nitric-oxide synthase activity          & BP & 25 & 1 & 0.003597291 & 0.08183838\\\\\n",
       "\tGO:0032769 & negative regulation of monooxygenase activity         & BP & 13 & 1 & 0.001871670 & 0.08183838\\\\\n",
       "\tGO:0051001 & negative regulation of nitric-oxide synthase activity & BP &  7 & 1 & 0.001008113 & 0.08183838\\\\\n",
       "\tGO:0051354 & negative regulation of oxidoreductase activity        & BP & 23 & 1 & 0.003309826 & 0.08183838\\\\\n",
       "\tGO:0051341 & regulation of oxidoreductase activity                 & BP & 66 & 1 & 0.009478156 & 0.09872928\\\\\n",
       "\tGO:0045428 & regulation of nitric oxide biosynthetic process       & BP & 66 & 1 & 0.009478156 & 0.09872928\\\\\n",
       "\\end{tabular}\n"
      ],
      "text/markdown": [
       "\n",
       "A data.frame: 6 × 6\n",
       "\n",
       "| <!--/--> | Term &lt;chr&gt; | Ont &lt;chr&gt; | N &lt;int&gt; | DE &lt;int&gt; | P.DE &lt;dbl&gt; | FDR_adjusted &lt;dbl&gt; |\n",
       "|---|---|---|---|---|---|---|\n",
       "| GO:0050999 | regulation of nitric-oxide synthase activity          | BP | 25 | 1 | 0.003597291 | 0.08183838 |\n",
       "| GO:0032769 | negative regulation of monooxygenase activity         | BP | 13 | 1 | 0.001871670 | 0.08183838 |\n",
       "| GO:0051001 | negative regulation of nitric-oxide synthase activity | BP |  7 | 1 | 0.001008113 | 0.08183838 |\n",
       "| GO:0051354 | negative regulation of oxidoreductase activity        | BP | 23 | 1 | 0.003309826 | 0.08183838 |\n",
       "| GO:0051341 | regulation of oxidoreductase activity                 | BP | 66 | 1 | 0.009478156 | 0.09872928 |\n",
       "| GO:0045428 | regulation of nitric oxide biosynthetic process       | BP | 66 | 1 | 0.009478156 | 0.09872928 |\n",
       "\n"
      ],
      "text/plain": [
       "           Term                                                  Ont N  DE\n",
       "GO:0050999 regulation of nitric-oxide synthase activity          BP  25 1 \n",
       "GO:0032769 negative regulation of monooxygenase activity         BP  13 1 \n",
       "GO:0051001 negative regulation of nitric-oxide synthase activity BP   7 1 \n",
       "GO:0051354 negative regulation of oxidoreductase activity        BP  23 1 \n",
       "GO:0051341 regulation of oxidoreductase activity                 BP  66 1 \n",
       "GO:0045428 regulation of nitric oxide biosynthetic process       BP  66 1 \n",
       "           P.DE        FDR_adjusted\n",
       "GO:0050999 0.003597291 0.08183838  \n",
       "GO:0032769 0.001871670 0.08183838  \n",
       "GO:0051001 0.001008113 0.08183838  \n",
       "GO:0051354 0.003309826 0.08183838  \n",
       "GO:0051341 0.009478156 0.09872928  \n",
       "GO:0045428 0.009478156 0.09872928  "
      ]
     },
     "metadata": {},
     "output_type": "display_data"
    }
   ],
   "source": [
    "# look at stuff\n",
    "go_path = paste0('mCmods_down', \".go_annotation_results.20250507.tsv\")\n",
    "look_df = read.csv(go_path, sep='\\t')\n",
    "head(look_df)"
   ]
  },
  {
   "cell_type": "code",
   "execution_count": 82,
   "metadata": {
    "vscode": {
     "languageId": "r"
    }
   },
   "outputs": [
    {
     "data": {
      "text/html": [
       "<table class=\"dataframe\">\n",
       "<caption>A data.frame: 1 × 5</caption>\n",
       "<thead>\n",
       "\t<tr><th></th><th scope=col>Pathway</th><th scope=col>N</th><th scope=col>DE</th><th scope=col>P.DE</th><th scope=col>FDR_adjusted</th></tr>\n",
       "\t<tr><th></th><th scope=col>&lt;chr&gt;</th><th scope=col>&lt;int&gt;</th><th scope=col>&lt;int&gt;</th><th scope=col>&lt;dbl&gt;</th><th scope=col>&lt;dbl&gt;</th></tr>\n",
       "</thead>\n",
       "<tbody>\n",
       "\t<tr><th scope=row>hsa04623</th><td>Cytosolic DNA-sensing pathway</td><td>83</td><td>1</td><td>0.009712146</td><td>0.009712146</td></tr>\n",
       "</tbody>\n",
       "</table>\n"
      ],
      "text/latex": [
       "A data.frame: 1 × 5\n",
       "\\begin{tabular}{r|lllll}\n",
       "  & Pathway & N & DE & P.DE & FDR\\_adjusted\\\\\n",
       "  & <chr> & <int> & <int> & <dbl> & <dbl>\\\\\n",
       "\\hline\n",
       "\thsa04623 & Cytosolic DNA-sensing pathway & 83 & 1 & 0.009712146 & 0.009712146\\\\\n",
       "\\end{tabular}\n"
      ],
      "text/markdown": [
       "\n",
       "A data.frame: 1 × 5\n",
       "\n",
       "| <!--/--> | Pathway &lt;chr&gt; | N &lt;int&gt; | DE &lt;int&gt; | P.DE &lt;dbl&gt; | FDR_adjusted &lt;dbl&gt; |\n",
       "|---|---|---|---|---|---|\n",
       "| hsa04623 | Cytosolic DNA-sensing pathway | 83 | 1 | 0.009712146 | 0.009712146 |\n",
       "\n"
      ],
      "text/plain": [
       "         Pathway                       N  DE P.DE        FDR_adjusted\n",
       "hsa04623 Cytosolic DNA-sensing pathway 83 1  0.009712146 0.009712146 "
      ]
     },
     "metadata": {},
     "output_type": "display_data"
    }
   ],
   "source": [
    "kegg_path = paste0(\"Amods_down\", \".kegg_annotation_results.20250507.tsv\")\n",
    "look_df = read.csv(kegg_path, sep='\\t')\n",
    "head(look_df)"
   ]
  },
  {
   "cell_type": "code",
   "execution_count": 20,
   "metadata": {
    "vscode": {
     "languageId": "r"
    }
   },
   "outputs": [
    {
     "data": {
      "text/html": [
       "<table class=\"dataframe\">\n",
       "<caption>A data.frame: 10 × 8</caption>\n",
       "<thead>\n",
       "\t<tr><th></th><th scope=col>Term</th><th scope=col>Ont</th><th scope=col>N</th><th scope=col>DE</th><th scope=col>P.DE</th><th scope=col>FDR_adjusted</th><th scope=col>GeneRatio</th><th scope=col>Group</th></tr>\n",
       "\t<tr><th></th><th scope=col>&lt;chr&gt;</th><th scope=col>&lt;chr&gt;</th><th scope=col>&lt;int&gt;</th><th scope=col>&lt;int&gt;</th><th scope=col>&lt;dbl&gt;</th><th scope=col>&lt;dbl&gt;</th><th scope=col>&lt;dbl&gt;</th><th scope=col>&lt;chr&gt;</th></tr>\n",
       "</thead>\n",
       "<tbody>\n",
       "\t<tr><th scope=row>GO:00181981</th><td>peptidyl-cysteine modification                                                                  </td><td>BP</td><td>36</td><td>1</td><td>0.0034544774</td><td>0.04913035</td><td>0.02777778</td><td>6mA Down </td></tr>\n",
       "\t<tr><th scope=row>GO:00022301</th><td>positive regulation of defense response to virus by host                                        </td><td>BP</td><td>33</td><td>1</td><td>0.0031668326</td><td>0.04913035</td><td>0.03030303</td><td>6mA Down </td></tr>\n",
       "\t<tr><th scope=row>GO:00183451</th><td>protein palmitoylation                                                                          </td><td>BP</td><td>27</td><td>1</td><td>0.0025914184</td><td>0.04913035</td><td>0.03703704</td><td>6mA Down </td></tr>\n",
       "\t<tr><th scope=row>GO:00182301</th><td>peptidyl-L-cysteine S-palmitoylation                                                            </td><td>BP</td><td>16</td><td>1</td><td>0.0015360612</td><td>0.04913035</td><td>0.06250000</td><td>6mA Down </td></tr>\n",
       "\t<tr><th scope=row>GO:00182311</th><td>peptidyl-S-diacylglycerol-L-cysteine biosynthetic process from peptidyl-cysteine                </td><td>BP</td><td>16</td><td>1</td><td>0.0015360612</td><td>0.04913035</td><td>0.06250000</td><td>6mA Down </td></tr>\n",
       "\t<tr><th scope=row>GO:00164091</th><td>palmitoyltransferase activity                                                                   </td><td>MF</td><td>36</td><td>1</td><td>0.0034544774</td><td>0.04913035</td><td>0.02777778</td><td>6mA Down </td></tr>\n",
       "\t<tr><th scope=row>GO:00164171</th><td>S-acyltransferase activity                                                                      </td><td>MF</td><td>30</td><td>1</td><td>0.0028791463</td><td>0.04913035</td><td>0.03333333</td><td>6mA Down </td></tr>\n",
       "\t<tr><th scope=row>GO:00197061</th><td>protein-cysteine S-palmitoyltransferase activity                                                </td><td>MF</td><td>26</td><td>1</td><td>0.0024954999</td><td>0.04913035</td><td>0.03846154</td><td>6mA Down </td></tr>\n",
       "\t<tr><th scope=row>GO:00197071</th><td>protein-cysteine S-acyltransferase activity                                                     </td><td>MF</td><td>26</td><td>1</td><td>0.0024954999</td><td>0.04913035</td><td>0.03846154</td><td>6mA Down </td></tr>\n",
       "\t<tr><th scope=row>GO:00034121</th><td>establishment of epithelial cell apical/basal polarity involved in camera-type eye morphogenesis</td><td>BP</td><td> 1</td><td>1</td><td>0.0001920768</td><td>0.04129652</td><td>1.00000000</td><td>5hmC Down</td></tr>\n",
       "</tbody>\n",
       "</table>\n"
      ],
      "text/latex": [
       "A data.frame: 10 × 8\n",
       "\\begin{tabular}{r|llllllll}\n",
       "  & Term & Ont & N & DE & P.DE & FDR\\_adjusted & GeneRatio & Group\\\\\n",
       "  & <chr> & <chr> & <int> & <int> & <dbl> & <dbl> & <dbl> & <chr>\\\\\n",
       "\\hline\n",
       "\tGO:00181981 & peptidyl-cysteine modification                                                                   & BP & 36 & 1 & 0.0034544774 & 0.04913035 & 0.02777778 & 6mA Down \\\\\n",
       "\tGO:00022301 & positive regulation of defense response to virus by host                                         & BP & 33 & 1 & 0.0031668326 & 0.04913035 & 0.03030303 & 6mA Down \\\\\n",
       "\tGO:00183451 & protein palmitoylation                                                                           & BP & 27 & 1 & 0.0025914184 & 0.04913035 & 0.03703704 & 6mA Down \\\\\n",
       "\tGO:00182301 & peptidyl-L-cysteine S-palmitoylation                                                             & BP & 16 & 1 & 0.0015360612 & 0.04913035 & 0.06250000 & 6mA Down \\\\\n",
       "\tGO:00182311 & peptidyl-S-diacylglycerol-L-cysteine biosynthetic process from peptidyl-cysteine                 & BP & 16 & 1 & 0.0015360612 & 0.04913035 & 0.06250000 & 6mA Down \\\\\n",
       "\tGO:00164091 & palmitoyltransferase activity                                                                    & MF & 36 & 1 & 0.0034544774 & 0.04913035 & 0.02777778 & 6mA Down \\\\\n",
       "\tGO:00164171 & S-acyltransferase activity                                                                       & MF & 30 & 1 & 0.0028791463 & 0.04913035 & 0.03333333 & 6mA Down \\\\\n",
       "\tGO:00197061 & protein-cysteine S-palmitoyltransferase activity                                                 & MF & 26 & 1 & 0.0024954999 & 0.04913035 & 0.03846154 & 6mA Down \\\\\n",
       "\tGO:00197071 & protein-cysteine S-acyltransferase activity                                                      & MF & 26 & 1 & 0.0024954999 & 0.04913035 & 0.03846154 & 6mA Down \\\\\n",
       "\tGO:00034121 & establishment of epithelial cell apical/basal polarity involved in camera-type eye morphogenesis & BP &  1 & 1 & 0.0001920768 & 0.04129652 & 1.00000000 & 5hmC Down\\\\\n",
       "\\end{tabular}\n"
      ],
      "text/markdown": [
       "\n",
       "A data.frame: 10 × 8\n",
       "\n",
       "| <!--/--> | Term &lt;chr&gt; | Ont &lt;chr&gt; | N &lt;int&gt; | DE &lt;int&gt; | P.DE &lt;dbl&gt; | FDR_adjusted &lt;dbl&gt; | GeneRatio &lt;dbl&gt; | Group &lt;chr&gt; |\n",
       "|---|---|---|---|---|---|---|---|---|\n",
       "| GO:00181981 | peptidyl-cysteine modification                                                                   | BP | 36 | 1 | 0.0034544774 | 0.04913035 | 0.02777778 | 6mA Down  |\n",
       "| GO:00022301 | positive regulation of defense response to virus by host                                         | BP | 33 | 1 | 0.0031668326 | 0.04913035 | 0.03030303 | 6mA Down  |\n",
       "| GO:00183451 | protein palmitoylation                                                                           | BP | 27 | 1 | 0.0025914184 | 0.04913035 | 0.03703704 | 6mA Down  |\n",
       "| GO:00182301 | peptidyl-L-cysteine S-palmitoylation                                                             | BP | 16 | 1 | 0.0015360612 | 0.04913035 | 0.06250000 | 6mA Down  |\n",
       "| GO:00182311 | peptidyl-S-diacylglycerol-L-cysteine biosynthetic process from peptidyl-cysteine                 | BP | 16 | 1 | 0.0015360612 | 0.04913035 | 0.06250000 | 6mA Down  |\n",
       "| GO:00164091 | palmitoyltransferase activity                                                                    | MF | 36 | 1 | 0.0034544774 | 0.04913035 | 0.02777778 | 6mA Down  |\n",
       "| GO:00164171 | S-acyltransferase activity                                                                       | MF | 30 | 1 | 0.0028791463 | 0.04913035 | 0.03333333 | 6mA Down  |\n",
       "| GO:00197061 | protein-cysteine S-palmitoyltransferase activity                                                 | MF | 26 | 1 | 0.0024954999 | 0.04913035 | 0.03846154 | 6mA Down  |\n",
       "| GO:00197071 | protein-cysteine S-acyltransferase activity                                                      | MF | 26 | 1 | 0.0024954999 | 0.04913035 | 0.03846154 | 6mA Down  |\n",
       "| GO:00034121 | establishment of epithelial cell apical/basal polarity involved in camera-type eye morphogenesis | BP |  1 | 1 | 0.0001920768 | 0.04129652 | 1.00000000 | 5hmC Down |\n",
       "\n"
      ],
      "text/plain": [
       "            Term                                                                                            \n",
       "GO:00181981 peptidyl-cysteine modification                                                                  \n",
       "GO:00022301 positive regulation of defense response to virus by host                                        \n",
       "GO:00183451 protein palmitoylation                                                                          \n",
       "GO:00182301 peptidyl-L-cysteine S-palmitoylation                                                            \n",
       "GO:00182311 peptidyl-S-diacylglycerol-L-cysteine biosynthetic process from peptidyl-cysteine                \n",
       "GO:00164091 palmitoyltransferase activity                                                                   \n",
       "GO:00164171 S-acyltransferase activity                                                                      \n",
       "GO:00197061 protein-cysteine S-palmitoyltransferase activity                                                \n",
       "GO:00197071 protein-cysteine S-acyltransferase activity                                                     \n",
       "GO:00034121 establishment of epithelial cell apical/basal polarity involved in camera-type eye morphogenesis\n",
       "            Ont N  DE P.DE         FDR_adjusted GeneRatio  Group    \n",
       "GO:00181981 BP  36 1  0.0034544774 0.04913035   0.02777778 6mA Down \n",
       "GO:00022301 BP  33 1  0.0031668326 0.04913035   0.03030303 6mA Down \n",
       "GO:00183451 BP  27 1  0.0025914184 0.04913035   0.03703704 6mA Down \n",
       "GO:00182301 BP  16 1  0.0015360612 0.04913035   0.06250000 6mA Down \n",
       "GO:00182311 BP  16 1  0.0015360612 0.04913035   0.06250000 6mA Down \n",
       "GO:00164091 MF  36 1  0.0034544774 0.04913035   0.02777778 6mA Down \n",
       "GO:00164171 MF  30 1  0.0028791463 0.04913035   0.03333333 6mA Down \n",
       "GO:00197061 MF  26 1  0.0024954999 0.04913035   0.03846154 6mA Down \n",
       "GO:00197071 MF  26 1  0.0024954999 0.04913035   0.03846154 6mA Down \n",
       "GO:00034121 BP   1 1  0.0001920768 0.04129652   1.00000000 5hmC Down"
      ]
     },
     "metadata": {},
     "output_type": "display_data"
    }
   ],
   "source": [
    "bubble_df_go_sig_2"
   ]
  },
  {
   "cell_type": "code",
   "execution_count": 29,
   "metadata": {
    "vscode": {
     "languageId": "r"
    }
   },
   "outputs": [
    {
     "name": "stdout",
     "output_type": "stream",
     "text": [
      "[1] 0 6\n",
      "[1] 0 6\n",
      "[1] 9 6\n",
      "[1] 0 6\n",
      "[1] 1 6\n",
      "[1] 0 6\n",
      "[1] 0 6\n"
     ]
    },
    {
     "data": {
      "image/png": "[encoded data removed]",
      "text/plain": [
       "plot without title"
      ]
     },
     "metadata": {
      "image/png": {
       "height": 282,
       "width": 540
      }
     },
     "output_type": "display_data"
    }
   ],
   "source": [
    "bubble_df_go <- data.frame()\n",
    "groups = c(\"all_tests\", \"Amods_up\", \"Amods_down\", \"hmCmods_up\", \"hmCmods_down\", \"mCmods_up\", \"mCmods_down\")\n",
    "for (group_name in groups) {\n",
    "    go_path = paste0(group_name, \".go_annotation_results.20250507.tsv\")\n",
    "    go_results = read.csv(go_path, sep = \"\\t\")\n",
    "    print(dim(go_results))\n",
    "    if (dim(go_results)[1] == 0) {\n",
    "        next\n",
    "    }\n",
    "    go_results$GeneRatio <- go_results$DE / go_results$N\n",
    "    go_results$Group <- group_name\n",
    "    bubble_df_go <- rbind(bubble_df_go, go_results)\n",
    "}\n",
    "\n",
    "# restrict to FDR < 0.05\n",
    "# bubble_df_go_sig_2 = bubble_df_go[bubble_df_go$\"FDR_adjusted\" < 0.05, ]   # done already\n",
    "\n",
    "# Replace \"old\" with \"new\" in column 'your_column'\n",
    "bubble_df_go_sig_2 = bubble_df_go\n",
    "bubble_df_go_sig_2$Group <- gsub(\"all_tests\", \"All Contexts\", bubble_df_go_sig_2$Group)\n",
    "bubble_df_go_sig_2$Group <- gsub(\"Amods_down\", \"6mA Down\", bubble_df_go_sig_2$Group)\n",
    "bubble_df_go_sig_2$Group <- gsub(\"hmCmods_up\", \"5hmC Up\", bubble_df_go_sig_2$Group)\n",
    "bubble_df_go_sig_2$Group <- gsub(\"hmCmods_down\", \"5hmC Down\", bubble_df_go_sig_2$Group)\n",
    "bubble_df_go_sig_2$Group <- gsub(\"mCmods_up\", \"5mC Up\", bubble_df_go_sig_2$Group)\n",
    "bubble_df_go_sig_2$Group <- gsub(\"mCmods_down\", \"5mC Down\", bubble_df_go_sig_2$Group)\n",
    "\n",
    "# Create the bubble plot\n",
    "bubble_df_go_fp = \"bubble_df_go.png\"\n",
    "# png(filename = bubble_df_go_fp)\n",
    "num_groups = length(unique(bubble_df_go_sig_2$Group))\n",
    "height = 0.12*(dim(bubble_df_go_sig_2)[1]) + 3.5\n",
    "width = (1.0*num_groups) + 7\n",
    "options(repr.plot.width = width, repr.plot.height = height)\n",
    "ggplot(bubble_df_go_sig_2, aes(x = Group, y = Term, size = GeneRatio, color = FDR_adjusted)) +\n",
    "  geom_point() +\n",
    "  scale_color_gradient(low = \"orange\", high = \"blue\") +\n",
    "  theme_minimal() +\n",
    "  labs(x = \"Group\", y = \"GO Term\", size = \"GeneRatio\", color = \"FDR-value\") +\n",
    "  theme(\n",
    "    axis.text.y = element_text(size = 10),\n",
    "    axis.text.x = element_text(angle = 45, vjust = 1.0, hjust = 1, size = 10),\n",
    "    axis.title.y = element_text(size = 14),\n",
    "    axis.title.x = element_text(vjust = -4.0, size = 14),\n",
    "    plot.margin = margin(t = 10, r = 10, b = 20, l = 10) # increase bottom (b)\n",
    "  )\n",
    "# dev.off()\n",
    "# )\n"
   ]
  },
  {
   "cell_type": "code",
   "execution_count": 37,
   "metadata": {
    "vscode": {
     "languageId": "r"
    }
   },
   "outputs": [
    {
     "data": {
      "text/html": [
       "<table class=\"dataframe\">\n",
       "<caption>A data.frame: 10 × 8</caption>\n",
       "<thead>\n",
       "\t<tr><th></th><th scope=col>Term</th><th scope=col>Ont</th><th scope=col>N</th><th scope=col>DE</th><th scope=col>P.DE</th><th scope=col>FDR_adjusted</th><th scope=col>GeneRatio</th><th scope=col>Group</th></tr>\n",
       "\t<tr><th></th><th scope=col>&lt;chr&gt;</th><th scope=col>&lt;chr&gt;</th><th scope=col>&lt;int&gt;</th><th scope=col>&lt;int&gt;</th><th scope=col>&lt;dbl&gt;</th><th scope=col>&lt;dbl&gt;</th><th scope=col>&lt;dbl&gt;</th><th scope=col>&lt;chr&gt;</th></tr>\n",
       "</thead>\n",
       "<tbody>\n",
       "\t<tr><th scope=row>GO:0018198</th><td>peptidyl-cysteine modification                                                                  </td><td>BP</td><td>36</td><td>1</td><td>0.0034544774</td><td>0.04913035</td><td>0.02777778</td><td>6mA Down </td></tr>\n",
       "\t<tr><th scope=row>GO:0002230</th><td>positive regulation of defense response to virus by host                                        </td><td>BP</td><td>33</td><td>1</td><td>0.0031668326</td><td>0.04913035</td><td>0.03030303</td><td>6mA Down </td></tr>\n",
       "\t<tr><th scope=row>GO:0018345</th><td>protein palmitoylation                                                                          </td><td>BP</td><td>27</td><td>1</td><td>0.0025914184</td><td>0.04913035</td><td>0.03703704</td><td>6mA Down </td></tr>\n",
       "\t<tr><th scope=row>GO:0018230</th><td>peptidyl-L-cysteine S-palmitoylation                                                            </td><td>BP</td><td>16</td><td>1</td><td>0.0015360612</td><td>0.04913035</td><td>0.06250000</td><td>6mA Down </td></tr>\n",
       "\t<tr><th scope=row>GO:0018231</th><td>peptidyl-S-diacylglycerol-L-cysteine biosynthetic process from peptidyl-cysteine                </td><td>BP</td><td>16</td><td>1</td><td>0.0015360612</td><td>0.04913035</td><td>0.06250000</td><td>6mA Down </td></tr>\n",
       "\t<tr><th scope=row>GO:0016409</th><td>palmitoyltransferase activity                                                                   </td><td>MF</td><td>36</td><td>1</td><td>0.0034544774</td><td>0.04913035</td><td>0.02777778</td><td>6mA Down </td></tr>\n",
       "\t<tr><th scope=row>GO:0016417</th><td>S-acyltransferase activity                                                                      </td><td>MF</td><td>30</td><td>1</td><td>0.0028791463</td><td>0.04913035</td><td>0.03333333</td><td>6mA Down </td></tr>\n",
       "\t<tr><th scope=row>GO:0019706</th><td>protein-cysteine S-palmitoyltransferase activity                                                </td><td>MF</td><td>26</td><td>1</td><td>0.0024954999</td><td>0.04913035</td><td>0.03846154</td><td>6mA Down </td></tr>\n",
       "\t<tr><th scope=row>GO:0019707</th><td>protein-cysteine S-acyltransferase activity                                                     </td><td>MF</td><td>26</td><td>1</td><td>0.0024954999</td><td>0.04913035</td><td>0.03846154</td><td>6mA Down </td></tr>\n",
       "\t<tr><th scope=row>GO:0003412</th><td>establishment of epithelial cell apical/basal polarity involved in camera-type eye morphogenesis</td><td>BP</td><td> 1</td><td>1</td><td>0.0001920768</td><td>0.04129652</td><td>1.00000000</td><td>5hmC Down</td></tr>\n",
       "</tbody>\n",
       "</table>\n"
      ],
      "text/latex": [
       "A data.frame: 10 × 8\n",
       "\\begin{tabular}{r|llllllll}\n",
       "  & Term & Ont & N & DE & P.DE & FDR\\_adjusted & GeneRatio & Group\\\\\n",
       "  & <chr> & <chr> & <int> & <int> & <dbl> & <dbl> & <dbl> & <chr>\\\\\n",
       "\\hline\n",
       "\tGO:0018198 & peptidyl-cysteine modification                                                                   & BP & 36 & 1 & 0.0034544774 & 0.04913035 & 0.02777778 & 6mA Down \\\\\n",
       "\tGO:0002230 & positive regulation of defense response to virus by host                                         & BP & 33 & 1 & 0.0031668326 & 0.04913035 & 0.03030303 & 6mA Down \\\\\n",
       "\tGO:0018345 & protein palmitoylation                                                                           & BP & 27 & 1 & 0.0025914184 & 0.04913035 & 0.03703704 & 6mA Down \\\\\n",
       "\tGO:0018230 & peptidyl-L-cysteine S-palmitoylation                                                             & BP & 16 & 1 & 0.0015360612 & 0.04913035 & 0.06250000 & 6mA Down \\\\\n",
       "\tGO:0018231 & peptidyl-S-diacylglycerol-L-cysteine biosynthetic process from peptidyl-cysteine                 & BP & 16 & 1 & 0.0015360612 & 0.04913035 & 0.06250000 & 6mA Down \\\\\n",
       "\tGO:0016409 & palmitoyltransferase activity                                                                    & MF & 36 & 1 & 0.0034544774 & 0.04913035 & 0.02777778 & 6mA Down \\\\\n",
       "\tGO:0016417 & S-acyltransferase activity                                                                       & MF & 30 & 1 & 0.0028791463 & 0.04913035 & 0.03333333 & 6mA Down \\\\\n",
       "\tGO:0019706 & protein-cysteine S-palmitoyltransferase activity                                                 & MF & 26 & 1 & 0.0024954999 & 0.04913035 & 0.03846154 & 6mA Down \\\\\n",
       "\tGO:0019707 & protein-cysteine S-acyltransferase activity                                                      & MF & 26 & 1 & 0.0024954999 & 0.04913035 & 0.03846154 & 6mA Down \\\\\n",
       "\tGO:0003412 & establishment of epithelial cell apical/basal polarity involved in camera-type eye morphogenesis & BP &  1 & 1 & 0.0001920768 & 0.04129652 & 1.00000000 & 5hmC Down\\\\\n",
       "\\end{tabular}\n"
      ],
      "text/markdown": [
       "\n",
       "A data.frame: 10 × 8\n",
       "\n",
       "| <!--/--> | Term &lt;chr&gt; | Ont &lt;chr&gt; | N &lt;int&gt; | DE &lt;int&gt; | P.DE &lt;dbl&gt; | FDR_adjusted &lt;dbl&gt; | GeneRatio &lt;dbl&gt; | Group &lt;chr&gt; |\n",
       "|---|---|---|---|---|---|---|---|---|\n",
       "| GO:0018198 | peptidyl-cysteine modification                                                                   | BP | 36 | 1 | 0.0034544774 | 0.04913035 | 0.02777778 | 6mA Down  |\n",
       "| GO:0002230 | positive regulation of defense response to virus by host                                         | BP | 33 | 1 | 0.0031668326 | 0.04913035 | 0.03030303 | 6mA Down  |\n",
       "| GO:0018345 | protein palmitoylation                                                                           | BP | 27 | 1 | 0.0025914184 | 0.04913035 | 0.03703704 | 6mA Down  |\n",
       "| GO:0018230 | peptidyl-L-cysteine S-palmitoylation                                                             | BP | 16 | 1 | 0.0015360612 | 0.04913035 | 0.06250000 | 6mA Down  |\n",
       "| GO:0018231 | peptidyl-S-diacylglycerol-L-cysteine biosynthetic process from peptidyl-cysteine                 | BP | 16 | 1 | 0.0015360612 | 0.04913035 | 0.06250000 | 6mA Down  |\n",
       "| GO:0016409 | palmitoyltransferase activity                                                                    | MF | 36 | 1 | 0.0034544774 | 0.04913035 | 0.02777778 | 6mA Down  |\n",
       "| GO:0016417 | S-acyltransferase activity                                                                       | MF | 30 | 1 | 0.0028791463 | 0.04913035 | 0.03333333 | 6mA Down  |\n",
       "| GO:0019706 | protein-cysteine S-palmitoyltransferase activity                                                 | MF | 26 | 1 | 0.0024954999 | 0.04913035 | 0.03846154 | 6mA Down  |\n",
       "| GO:0019707 | protein-cysteine S-acyltransferase activity                                                      | MF | 26 | 1 | 0.0024954999 | 0.04913035 | 0.03846154 | 6mA Down  |\n",
       "| GO:0003412 | establishment of epithelial cell apical/basal polarity involved in camera-type eye morphogenesis | BP |  1 | 1 | 0.0001920768 | 0.04129652 | 1.00000000 | 5hmC Down |\n",
       "\n"
      ],
      "text/plain": [
       "           Term                                                                                            \n",
       "GO:0018198 peptidyl-cysteine modification                                                                  \n",
       "GO:0002230 positive regulation of defense response to virus by host                                        \n",
       "GO:0018345 protein palmitoylation                                                                          \n",
       "GO:0018230 peptidyl-L-cysteine S-palmitoylation                                                            \n",
       "GO:0018231 peptidyl-S-diacylglycerol-L-cysteine biosynthetic process from peptidyl-cysteine                \n",
       "GO:0016409 palmitoyltransferase activity                                                                   \n",
       "GO:0016417 S-acyltransferase activity                                                                      \n",
       "GO:0019706 protein-cysteine S-palmitoyltransferase activity                                                \n",
       "GO:0019707 protein-cysteine S-acyltransferase activity                                                     \n",
       "GO:0003412 establishment of epithelial cell apical/basal polarity involved in camera-type eye morphogenesis\n",
       "           Ont N  DE P.DE         FDR_adjusted GeneRatio  Group    \n",
       "GO:0018198 BP  36 1  0.0034544774 0.04913035   0.02777778 6mA Down \n",
       "GO:0002230 BP  33 1  0.0031668326 0.04913035   0.03030303 6mA Down \n",
       "GO:0018345 BP  27 1  0.0025914184 0.04913035   0.03703704 6mA Down \n",
       "GO:0018230 BP  16 1  0.0015360612 0.04913035   0.06250000 6mA Down \n",
       "GO:0018231 BP  16 1  0.0015360612 0.04913035   0.06250000 6mA Down \n",
       "GO:0016409 MF  36 1  0.0034544774 0.04913035   0.02777778 6mA Down \n",
       "GO:0016417 MF  30 1  0.0028791463 0.04913035   0.03333333 6mA Down \n",
       "GO:0019706 MF  26 1  0.0024954999 0.04913035   0.03846154 6mA Down \n",
       "GO:0019707 MF  26 1  0.0024954999 0.04913035   0.03846154 6mA Down \n",
       "GO:0003412 BP   1 1  0.0001920768 0.04129652   1.00000000 5hmC Down"
      ]
     },
     "metadata": {},
     "output_type": "display_data"
    }
   ],
   "source": [
    "bubble_df_go_sig_2"
   ]
  },
  {
   "cell_type": "code",
   "execution_count": 41,
   "metadata": {
    "vscode": {
     "languageId": "r"
    }
   },
   "outputs": [],
   "source": [
    "add_gene_ids <- function(all_test_top, input_genes, group_name, kegg_test=FALSE) {\n",
    "    # group_names = c(\"All tests\", \"Increased 6mA\", \"Decreased 6mA\", \"Increased 5hmC\", \"Decreased 5hmC\", \"Increased 5mC\", \"Decreased 5mC\")\n",
    "    # groups = list(genes_from_all_tests, genes_from_Amods_up, genes_from_Amods_down, genes_from_hmCmods_up, genes_from_hmCmods_down, genes_from_mCmods_up, genes_from_mCmods_down)\n",
    "\n",
    "    results_df <- data.frame()\n",
    "\n",
    "    # for (i in seq_along(group_names)) {\n",
    "    # group_name <- group_names[i]\n",
    "    # input_df <- groups[[i]]\n",
    "\n",
    "    for (go_key in rownames(all_test_top)) {\n",
    "        skip <- FALSE\n",
    "        go_desc <- all_test_top[go_key, \"Term\"]\n",
    "        x <- org.Hs.egGO2ALLEGS\n",
    "\n",
    "        # try the risky assignment\n",
    "        tryCatch(\n",
    "            {\n",
    "                Rkeys(x) <- go_key\n",
    "            },\n",
    "            error = function(e) {\n",
    "                #   message(\"Error processing item: \", e$message)\n",
    "                skip <<- TRUE\n",
    "            }\n",
    "        )\n",
    "\n",
    "        if (skip) next\n",
    "\n",
    "        go_term_allgenes <- mappedLkeys(x)\n",
    "        print(go_term_allgenes)\n",
    "        print(input_genes)\n",
    "        my_entrezids <- intersect(go_term_allgenes, input_genes)\n",
    "        if (length(my_entrezids) == 0) {\n",
    "            next\n",
    "        }\n",
    "\n",
    "        matching_genes <- genes_from_all_tests_geneIDs %>%\n",
    "            filter(EntrezID %in% my_entrezids)\n",
    "\n",
    "        temp_df <- matching_genes %>%\n",
    "            mutate(GO_Term = go_key, GO_Description = go_desc) %>%\n",
    "            select(GO_Term, GO_Description, everything())\n",
    "\n",
    "        temp_df$EntrezID <- NULL\n",
    "        temp_df$TestDescription <- group_name\n",
    "\n",
    "        results_df <- bind_rows(results_df, temp_df)\n",
    "    }\n",
    "    return(results_df)\n",
    "}\n",
    "\n"
   ]
  },
  {
   "cell_type": "code",
   "execution_count": 35,
   "metadata": {
    "vscode": {
     "languageId": "r"
    }
   },
   "outputs": [
    {
     "name": "stdout",
     "output_type": "stream",
     "text": [
      "[1] 0 5\n",
      "[1] 0 5\n",
      "[1] 1 5\n",
      "[1] 0 5\n",
      "[1] 0 5\n",
      "[1] 12  5\n",
      "[1] 0 5\n"
     ]
    },
    {
     "data": {
      "image/png": "[encoded data removed]",
      "text/plain": [
       "plot without title"
      ]
     },
     "metadata": {
      "image/png": {
       "height": 303.6,
       "width": 360
      }
     },
     "output_type": "display_data"
    }
   ],
   "source": [
    "bubble_df_kegg <- data.frame()\n",
    "groups = c(\"all_tests\", \"Amods_up\", \"Amods_down\", \"hmCmods_up\", \"hmCmods_down\", \"mCmods_up\", \"mCmods_down\")\n",
    "for (group_name in groups) {\n",
    "    go_path = paste0(group_name, \".kegg_annotation_results.20250507.tsv\")\n",
    "    go_results = read.csv(go_path, sep = \"\\t\")\n",
    "    print(dim(go_results))\n",
    "    if (dim(go_results)[1] == 0) {\n",
    "        next\n",
    "    }\n",
    "    go_results$GeneRatio <- go_results$DE / go_results$N\n",
    "    go_results$Group <- group_name\n",
    "    bubble_df_kegg <- rbind(bubble_df_kegg, go_results)\n",
    "}\n",
    "\n",
    "# restrict to FDR < 0.05\n",
    "# bubble_df_go_sig_2 = bubble_df_go[bubble_df_go$\"FDR_adjusted\" < 0.05, ]   # done already\n",
    "\n",
    "# Replace \"old\" with \"new\" in column 'your_column'\n",
    "bubble_df_kegg_sig_2 = bubble_df_kegg\n",
    "bubble_df_kegg_sig_2$Group <- gsub(\"all_tests\", \"All Contexts\", bubble_df_kegg_sig_2$Group)\n",
    "bubble_df_kegg_sig_2$Group <- gsub(\"Amods_down\", \"6mA Down\", bubble_df_kegg_sig_2$Group)\n",
    "bubble_df_kegg_sig_2$Group <- gsub(\"hmCmods_up\", \"5hmC Up\", bubble_df_kegg_sig_2$Group)\n",
    "bubble_df_kegg_sig_2$Group <- gsub(\"hmCmods_down\", \"5hmC Down\", bubble_df_kegg_sig_2$Group)\n",
    "bubble_df_kegg_sig_2$Group <- gsub(\"mCmods_up\", \"5mC Up\", bubble_df_kegg_sig_2$Group)\n",
    "bubble_df_kegg_sig_2$Group <- gsub(\"mCmods_down\", \"5mC Down\", bubble_df_kegg_sig_2$Group)\n",
    "\n",
    "# Create the bubble plot\n",
    "bubble_df_go_fp = \"bubble_df_go.png\"\n",
    "# png(filename = bubble_df_go_fp)\n",
    "num_groups = length(unique(bubble_df_kegg_sig_2$Group))\n",
    "height = 0.12*(dim(bubble_df_kegg_sig_2)[1]) + 3.5\n",
    "width = (1.0*num_groups) + 4\n",
    "options(repr.plot.width = width, repr.plot.height = height)\n",
    "ggplot(bubble_df_kegg_sig_2, aes(x = Group, y = Pathway, size = GeneRatio, color = FDR_adjusted)) +\n",
    "  geom_point() +\n",
    "  scale_color_gradient(low = \"orange\", high = \"blue\") +\n",
    "  theme_minimal() +\n",
    "  labs(x = \"Group\", y = \"KEGG Pathway\", size = \"GeneRatio\", color = \"FDR-value\") +\n",
    "  theme(\n",
    "    axis.text.y = element_text(size = 10),\n",
    "    axis.text.x = element_text(angle = 45, vjust = 1.0, hjust = 1, size = 10),\n",
    "    axis.title.y = element_text(size = 14),\n",
    "    axis.title.x = element_text(vjust = -4.0, size = 14),\n",
    "    plot.margin = margin(t = 10, r = 10, b = 20, l = 10) # increase bottom (b)\n",
    "  )\n",
    "# dev.off()\n",
    "# )\n"
   ]
  },
  {
   "cell_type": "code",
   "execution_count": 36,
   "metadata": {
    "vscode": {
     "languageId": "r"
    }
   },
   "outputs": [
    {
     "data": {
      "text/html": [
       "<table class=\"dataframe\">\n",
       "<caption>A data.frame: 13 × 7</caption>\n",
       "<thead>\n",
       "\t<tr><th></th><th scope=col>Pathway</th><th scope=col>N</th><th scope=col>DE</th><th scope=col>P.DE</th><th scope=col>FDR_adjusted</th><th scope=col>GeneRatio</th><th scope=col>Group</th></tr>\n",
       "\t<tr><th></th><th scope=col>&lt;chr&gt;</th><th scope=col>&lt;int&gt;</th><th scope=col>&lt;int&gt;</th><th scope=col>&lt;dbl&gt;</th><th scope=col>&lt;dbl&gt;</th><th scope=col>&lt;dbl&gt;</th><th scope=col>&lt;chr&gt;</th></tr>\n",
       "</thead>\n",
       "<tbody>\n",
       "\t<tr><th scope=row>hsa04623</th><td>Cytosolic DNA-sensing pathway               </td><td> 83</td><td>1</td><td>0.009712146</td><td>0.009712146</td><td>0.012048193</td><td>6mA Down</td></tr>\n",
       "\t<tr><th scope=row>hsa04640</th><td>Hematopoietic cell lineage                  </td><td>100</td><td>1</td><td>0.011701381</td><td>0.016901994</td><td>0.010000000</td><td>5mC Up  </td></tr>\n",
       "\t<tr><th scope=row>hsa04657</th><td>IL-17 signaling pathway                     </td><td> 95</td><td>1</td><td>0.011116312</td><td>0.016901994</td><td>0.010526316</td><td>5mC Up  </td></tr>\n",
       "\t<tr><th scope=row>hsa04658</th><td>Th1 and Th2 cell differentiation            </td><td> 93</td><td>1</td><td>0.010882284</td><td>0.016901994</td><td>0.010752688</td><td>5mC Up  </td></tr>\n",
       "\t<tr><th scope=row>hsa04664</th><td>Fc epsilon RI signaling pathway             </td><td> 69</td><td>1</td><td>0.008073953</td><td>0.016901994</td><td>0.014492754</td><td>5mC Up  </td></tr>\n",
       "\t<tr><th scope=row>hsa04672</th><td>Intestinal immune network for IgA production</td><td> 50</td><td>1</td><td>0.005850690</td><td>0.016901994</td><td>0.020000000</td><td>5mC Up  </td></tr>\n",
       "\t<tr><th scope=row>hsa05310</th><td>Asthma                                      </td><td> 32</td><td>1</td><td>0.003744442</td><td>0.016901994</td><td>0.031250000</td><td>5mC Up  </td></tr>\n",
       "\t<tr><th scope=row>hsa05320</th><td>Autoimmune thyroid disease                  </td><td> 54</td><td>1</td><td>0.006318746</td><td>0.016901994</td><td>0.018518519</td><td>5mC Up  </td></tr>\n",
       "\t<tr><th scope=row>hsa05321</th><td>Inflammatory bowel disease                  </td><td> 66</td><td>1</td><td>0.007722911</td><td>0.016901994</td><td>0.015151515</td><td>5mC Up  </td></tr>\n",
       "\t<tr><th scope=row>hsa05330</th><td>Allograft rejection                         </td><td> 39</td><td>1</td><td>0.004563538</td><td>0.016901994</td><td>0.025641026</td><td>5mC Up  </td></tr>\n",
       "\t<tr><th scope=row>hsa04660</th><td>T cell receptor signaling pathway           </td><td>122</td><td>1</td><td>0.014275685</td><td>0.018558390</td><td>0.008196721</td><td>5mC Up  </td></tr>\n",
       "\t<tr><th scope=row>hsa04630</th><td>JAK-STAT signaling pathway                  </td><td>168</td><td>1</td><td>0.019658320</td><td>0.023232560</td><td>0.005952381</td><td>5mC Up  </td></tr>\n",
       "\t<tr><th scope=row>hsa04060</th><td>Cytokine-cytokine receptor interaction      </td><td>298</td><td>1</td><td>0.034870115</td><td>0.037775958</td><td>0.003355705</td><td>5mC Up  </td></tr>\n",
       "</tbody>\n",
       "</table>\n"
      ],
      "text/latex": [
       "A data.frame: 13 × 7\n",
       "\\begin{tabular}{r|lllllll}\n",
       "  & Pathway & N & DE & P.DE & FDR\\_adjusted & GeneRatio & Group\\\\\n",
       "  & <chr> & <int> & <int> & <dbl> & <dbl> & <dbl> & <chr>\\\\\n",
       "\\hline\n",
       "\thsa04623 & Cytosolic DNA-sensing pathway                &  83 & 1 & 0.009712146 & 0.009712146 & 0.012048193 & 6mA Down\\\\\n",
       "\thsa04640 & Hematopoietic cell lineage                   & 100 & 1 & 0.011701381 & 0.016901994 & 0.010000000 & 5mC Up  \\\\\n",
       "\thsa04657 & IL-17 signaling pathway                      &  95 & 1 & 0.011116312 & 0.016901994 & 0.010526316 & 5mC Up  \\\\\n",
       "\thsa04658 & Th1 and Th2 cell differentiation             &  93 & 1 & 0.010882284 & 0.016901994 & 0.010752688 & 5mC Up  \\\\\n",
       "\thsa04664 & Fc epsilon RI signaling pathway              &  69 & 1 & 0.008073953 & 0.016901994 & 0.014492754 & 5mC Up  \\\\\n",
       "\thsa04672 & Intestinal immune network for IgA production &  50 & 1 & 0.005850690 & 0.016901994 & 0.020000000 & 5mC Up  \\\\\n",
       "\thsa05310 & Asthma                                       &  32 & 1 & 0.003744442 & 0.016901994 & 0.031250000 & 5mC Up  \\\\\n",
       "\thsa05320 & Autoimmune thyroid disease                   &  54 & 1 & 0.006318746 & 0.016901994 & 0.018518519 & 5mC Up  \\\\\n",
       "\thsa05321 & Inflammatory bowel disease                   &  66 & 1 & 0.007722911 & 0.016901994 & 0.015151515 & 5mC Up  \\\\\n",
       "\thsa05330 & Allograft rejection                          &  39 & 1 & 0.004563538 & 0.016901994 & 0.025641026 & 5mC Up  \\\\\n",
       "\thsa04660 & T cell receptor signaling pathway            & 122 & 1 & 0.014275685 & 0.018558390 & 0.008196721 & 5mC Up  \\\\\n",
       "\thsa04630 & JAK-STAT signaling pathway                   & 168 & 1 & 0.019658320 & 0.023232560 & 0.005952381 & 5mC Up  \\\\\n",
       "\thsa04060 & Cytokine-cytokine receptor interaction       & 298 & 1 & 0.034870115 & 0.037775958 & 0.003355705 & 5mC Up  \\\\\n",
       "\\end{tabular}\n"
      ],
      "text/markdown": [
       "\n",
       "A data.frame: 13 × 7\n",
       "\n",
       "| <!--/--> | Pathway &lt;chr&gt; | N &lt;int&gt; | DE &lt;int&gt; | P.DE &lt;dbl&gt; | FDR_adjusted &lt;dbl&gt; | GeneRatio &lt;dbl&gt; | Group &lt;chr&gt; |\n",
       "|---|---|---|---|---|---|---|---|\n",
       "| hsa04623 | Cytosolic DNA-sensing pathway                |  83 | 1 | 0.009712146 | 0.009712146 | 0.012048193 | 6mA Down |\n",
       "| hsa04640 | Hematopoietic cell lineage                   | 100 | 1 | 0.011701381 | 0.016901994 | 0.010000000 | 5mC Up   |\n",
       "| hsa04657 | IL-17 signaling pathway                      |  95 | 1 | 0.011116312 | 0.016901994 | 0.010526316 | 5mC Up   |\n",
       "| hsa04658 | Th1 and Th2 cell differentiation             |  93 | 1 | 0.010882284 | 0.016901994 | 0.010752688 | 5mC Up   |\n",
       "| hsa04664 | Fc epsilon RI signaling pathway              |  69 | 1 | 0.008073953 | 0.016901994 | 0.014492754 | 5mC Up   |\n",
       "| hsa04672 | Intestinal immune network for IgA production |  50 | 1 | 0.005850690 | 0.016901994 | 0.020000000 | 5mC Up   |\n",
       "| hsa05310 | Asthma                                       |  32 | 1 | 0.003744442 | 0.016901994 | 0.031250000 | 5mC Up   |\n",
       "| hsa05320 | Autoimmune thyroid disease                   |  54 | 1 | 0.006318746 | 0.016901994 | 0.018518519 | 5mC Up   |\n",
       "| hsa05321 | Inflammatory bowel disease                   |  66 | 1 | 0.007722911 | 0.016901994 | 0.015151515 | 5mC Up   |\n",
       "| hsa05330 | Allograft rejection                          |  39 | 1 | 0.004563538 | 0.016901994 | 0.025641026 | 5mC Up   |\n",
       "| hsa04660 | T cell receptor signaling pathway            | 122 | 1 | 0.014275685 | 0.018558390 | 0.008196721 | 5mC Up   |\n",
       "| hsa04630 | JAK-STAT signaling pathway                   | 168 | 1 | 0.019658320 | 0.023232560 | 0.005952381 | 5mC Up   |\n",
       "| hsa04060 | Cytokine-cytokine receptor interaction       | 298 | 1 | 0.034870115 | 0.037775958 | 0.003355705 | 5mC Up   |\n",
       "\n"
      ],
      "text/plain": [
       "         Pathway                                      N   DE P.DE       \n",
       "hsa04623 Cytosolic DNA-sensing pathway                 83 1  0.009712146\n",
       "hsa04640 Hematopoietic cell lineage                   100 1  0.011701381\n",
       "hsa04657 IL-17 signaling pathway                       95 1  0.011116312\n",
       "hsa04658 Th1 and Th2 cell differentiation              93 1  0.010882284\n",
       "hsa04664 Fc epsilon RI signaling pathway               69 1  0.008073953\n",
       "hsa04672 Intestinal immune network for IgA production  50 1  0.005850690\n",
       "hsa05310 Asthma                                        32 1  0.003744442\n",
       "hsa05320 Autoimmune thyroid disease                    54 1  0.006318746\n",
       "hsa05321 Inflammatory bowel disease                    66 1  0.007722911\n",
       "hsa05330 Allograft rejection                           39 1  0.004563538\n",
       "hsa04660 T cell receptor signaling pathway            122 1  0.014275685\n",
       "hsa04630 JAK-STAT signaling pathway                   168 1  0.019658320\n",
       "hsa04060 Cytokine-cytokine receptor interaction       298 1  0.034870115\n",
       "         FDR_adjusted GeneRatio   Group   \n",
       "hsa04623 0.009712146  0.012048193 6mA Down\n",
       "hsa04640 0.016901994  0.010000000 5mC Up  \n",
       "hsa04657 0.016901994  0.010526316 5mC Up  \n",
       "hsa04658 0.016901994  0.010752688 5mC Up  \n",
       "hsa04664 0.016901994  0.014492754 5mC Up  \n",
       "hsa04672 0.016901994  0.020000000 5mC Up  \n",
       "hsa05310 0.016901994  0.031250000 5mC Up  \n",
       "hsa05320 0.016901994  0.018518519 5mC Up  \n",
       "hsa05321 0.016901994  0.015151515 5mC Up  \n",
       "hsa05330 0.016901994  0.025641026 5mC Up  \n",
       "hsa04660 0.018558390  0.008196721 5mC Up  \n",
       "hsa04630 0.023232560  0.005952381 5mC Up  \n",
       "hsa04060 0.037775958  0.003355705 5mC Up  "
      ]
     },
     "metadata": {},
     "output_type": "display_data"
    }
   ],
   "source": [
    "bubble_df_kegg_sig_2"
   ]
  }
 ],
 "metadata": {
  "kernelspec": {
   "display_name": "R",
   "language": "R",
   "name": "ir"
  },
  "language_info": {
   "codemirror_mode": "r",
   "file_extension": ".r",
   "mimetype": "text/x-r-source",
   "name": "R",
   "pygments_lexer": "r",
   "version": "4.4.2"
  }
 },
 "nbformat": 4,
 "nbformat_minor": 2
}
